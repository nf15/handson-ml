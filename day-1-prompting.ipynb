{
 "cells": [
  {
   "cell_type": "markdown",
   "id": "51e5c5d9",
   "metadata": {
    "id": "jkxRSYjzA1oX",
    "papermill": {
     "duration": 0.014854,
     "end_time": "2024-11-15T17:28:40.558593",
     "exception": false,
     "start_time": "2024-11-15T17:28:40.543739",
     "status": "completed"
    },
    "tags": []
   },
   "source": [
    "##### Copyright 2024 Google LLC."
   ]
  },
  {
   "cell_type": "code",
   "execution_count": 1,
   "id": "34de85f9",
   "metadata": {
    "cellView": "form",
    "execution": {
     "iopub.execute_input": "2024-11-15T17:28:40.588862Z",
     "iopub.status.busy": "2024-11-15T17:28:40.588444Z",
     "iopub.status.idle": "2024-11-15T17:28:40.594478Z",
     "shell.execute_reply": "2024-11-15T17:28:40.593391Z"
    },
    "id": "5u5OZ2ShA3BA",
    "jupyter": {
     "source_hidden": true
    },
    "papermill": {
     "duration": 0.024459,
     "end_time": "2024-11-15T17:28:40.596808",
     "exception": false,
     "start_time": "2024-11-15T17:28:40.572349",
     "status": "completed"
    },
    "tags": []
   },
   "outputs": [],
   "source": [
    "# @title Licensed under the Apache License, Version 2.0 (the \"License\");\n",
    "# you may not use this file except in compliance with the License.\n",
    "# You may obtain a copy of the License at\n",
    "#\n",
    "# https://www.apache.org/licenses/LICENSE-2.0\n",
    "#\n",
    "# Unless required by applicable law or agreed to in writing, software\n",
    "# distributed under the License is distributed on an \"AS IS\" BASIS,\n",
    "# WITHOUT WARRANTIES OR CONDITIONS OF ANY KIND, either express or implied.\n",
    "# See the License for the specific language governing permissions and\n",
    "# limitations under the License."
   ]
  },
  {
   "cell_type": "markdown",
   "id": "188a3f4f",
   "metadata": {
    "id": "csNPnkuCobmG",
    "papermill": {
     "duration": 0.013311,
     "end_time": "2024-11-15T17:28:40.623762",
     "exception": false,
     "start_time": "2024-11-15T17:28:40.610451",
     "status": "completed"
    },
    "tags": []
   },
   "source": [
    "# Day 1 - Prompting\n",
    "\n",
    "Welcome to the Kaggle 5-day Generative AI course!\n",
    "\n",
    "This notebook will show you how to get started with the Gemini API and walk you through some of the example prompts and techniques that you can also read about in the Prompting whitepaper. You don't need to read the whitepaper to use this notebook, but the papers will give you some theoretical context and background to complement this interactive notebook.\n",
    "\n",
    "\n",
    "## Before you begin\n",
    "\n",
    "In this notebook, you'll start exploring prompts and prompt parameters using the Python SDK and AI Studio. For some inspiration, you might enjoy exploring some apps that have been built using the Gemini family of models. Here are a few that we like, and we think you will too.\n",
    "\n",
    "* [TextFX](https://textfx.withgoogle.com/) is a suite of AI-powered tools for rappers, made in collaboration with Lupe Fiasco,\n",
    "* [SQL Talk](https://sql-talk-r5gdynozbq-uc.a.run.app/) shows how you can talk directly to a database using the Gemini API,\n",
    "* [NotebookLM](https://notebooklm.google/) uses Gemini models to build your own personal AI research assistant.\n",
    "\n",
    "\n",
    "## For help\n",
    "\n",
    "**Common issues are covered in the [FAQ and troubleshooting guide](https://www.kaggle.com/code/markishere/day-0-troubleshooting-and-faqs).**\n",
    "\n",
    "### A note on the Gemini API and Vertex AI\n",
    "\n",
    "In the whitepapers, most of the example code uses the Enterprise [Vertex AI platform](https://cloud.google.com/vertex-ai). In contrast, this notebook, along with the others in this series, will use the [Gemini Developer API](https://ai.google.dev/gemini-api/) and [AI Studio](https://aistudio.google.com/).\n",
    "\n",
    "Both APIs provide access to the Gemini family of models, and the code to interact with the models is very similar. Vertex provides a world-class platform for enterprises, governments and advanced users that need powerful features like data governance, ML ops and deep Google Cloud integration.\n",
    "\n",
    "AI Studio is free to use and only requires a compatible Google account to log in and get started. It is deeply integrated with the Gemini API, which comes with a generous [free tier](https://ai.google.dev/pricing) that you can use to run the code in these exercises.\n",
    "\n",
    "If you are already set up with Google Cloud, you can check out the [Enterprise Gemini API](https://cloud.google.com/vertex-ai/generative-ai/docs/model-reference/inference) through Vertex AI, and run the samples directly from the supplied whitepapers."
   ]
  },
  {
   "cell_type": "markdown",
   "id": "e83bf5b8",
   "metadata": {
    "id": "f00ea7c99e44",
    "papermill": {
     "duration": 0.01316,
     "end_time": "2024-11-15T17:28:40.650541",
     "exception": false,
     "start_time": "2024-11-15T17:28:40.637381",
     "status": "completed"
    },
    "tags": []
   },
   "source": [
    "## Get started with Kaggle notebooks\n",
    "\n",
    "If this is your first time using a Kaggle notebook, welcome! You can read about how to use Kaggle notebooks [in the docs](https://www.kaggle.com/docs/notebooks).\n",
    "\n",
    "First, you will need to phone verify your account at kaggle.com/settings.\n",
    "\n",
    "![](https://storage.googleapis.com/kaggle-media/Images/5dgai_0.png)"
   ]
  },
  {
   "cell_type": "markdown",
   "id": "a82a1ce0",
   "metadata": {
    "papermill": {
     "duration": 0.013157,
     "end_time": "2024-11-15T17:28:40.677221",
     "exception": false,
     "start_time": "2024-11-15T17:28:40.664064",
     "status": "completed"
    },
    "tags": []
   },
   "source": [
    "To run this notebook, as well as the others in this course, you will need to make a copy, or fork, the notebook. Look for the `Copy and Edit` button in the top-right, and **click it** to make an editable, private copy of the notebook. It should look like this one:\n",
    "\n",
    "![Copy and Edit button](https://storage.googleapis.com/kaggle-media/Images/5gdai_sc_1.png)\n",
    "\n",
    "Your copy will now have a ▶️ **Run** button next to each code cell that you can press to execute that cell. These notebooks are expected to be run in order from top-to-bottom, but you are encouraged to add new cells, run your own code and explore. If you get stuck, you can try the `Factory reset` option in the `Run` menu, or head back to the original notebook and make a fresh copy.\n",
    "\n",
    "![Run cell button](https://storage.googleapis.com/kaggle-media/Images/5gdai_sc_2.png)\n",
    "\n",
    "### Problems?\n",
    "\n",
    "If you have any problems, head over to the [Kaggle Discord](https://discord.com/invite/kaggle), find the [`#5dgai-q-and-a` channel](https://discord.com/channels/1101210829807956100/1303438695143178251) and ask for help."
   ]
  },
  {
   "cell_type": "markdown",
   "id": "423ef8b3",
   "metadata": {
    "id": "ExkOXcPxtTb5",
    "papermill": {
     "duration": 0.01314,
     "end_time": "2024-11-15T17:28:40.703768",
     "exception": false,
     "start_time": "2024-11-15T17:28:40.690628",
     "status": "completed"
    },
    "tags": []
   },
   "source": [
    "## Get started with the Gemini API\n",
    "\n",
    "All of the exercises in this notebook will use the [Gemini API](https://ai.google.dev/gemini-api/) by way of the [Python SDK](https://pypi.org/project/google-generativeai/). Each of these prompts can be accessed directly in [Google AI Studio](https://aistudio.google.com/) too, so if you would rather use a web interface and skip the code for this activity, look for the <img src=\"https://ai.google.dev/site-assets/images/marketing/home/icon-ais.png\" style=\"height: 24px\" height=24/> AI Studio link on each prompt."
   ]
  },
  {
   "cell_type": "markdown",
   "id": "31c34fc3",
   "metadata": {
    "papermill": {
     "duration": 0.013338,
     "end_time": "2024-11-15T17:28:40.730781",
     "exception": false,
     "start_time": "2024-11-15T17:28:40.717443",
     "status": "completed"
    },
    "tags": []
   },
   "source": [
    "Next, you will need to add your API key to your Kaggle Notebook as a Kaggle User Secret.\n",
    "\n",
    "![](https://storage.googleapis.com/kaggle-media/Images/5dgai_1.png)\n",
    "![](https://storage.googleapis.com/kaggle-media/Images/5dgai_2.png)\n",
    "![](https://storage.googleapis.com/kaggle-media/Images/5dgai_3.png)\n",
    "![](https://storage.googleapis.com/kaggle-media/Images/5dgai_4.png)"
   ]
  },
  {
   "cell_type": "markdown",
   "id": "67213336",
   "metadata": {
    "id": "UAjUV3BsvFXQ",
    "papermill": {
     "duration": 0.013599,
     "end_time": "2024-11-15T17:28:40.757852",
     "exception": false,
     "start_time": "2024-11-15T17:28:40.744253",
     "status": "completed"
    },
    "tags": []
   },
   "source": [
    "### Install the SDK"
   ]
  },
  {
   "cell_type": "code",
   "execution_count": 2,
   "id": "a96f1709",
   "metadata": {
    "execution": {
     "iopub.execute_input": "2024-11-15T17:28:40.787354Z",
     "iopub.status.busy": "2024-11-15T17:28:40.786264Z",
     "iopub.status.idle": "2024-11-15T17:29:09.586815Z",
     "shell.execute_reply": "2024-11-15T17:29:09.585427Z"
    },
    "id": "NzwzJFU9LqkJ",
    "papermill": {
     "duration": 28.817772,
     "end_time": "2024-11-15T17:29:09.589345",
     "exception": false,
     "start_time": "2024-11-15T17:28:40.771573",
     "status": "completed"
    },
    "tags": []
   },
   "outputs": [
    {
     "name": "stdout",
     "output_type": "stream",
     "text": [
      "Note: you may need to restart the kernel to use updated packages.\n"
     ]
    }
   ],
   "source": [
    "%pip install -U -q \"google-generativeai>=0.8.3\""
   ]
  },
  {
   "cell_type": "markdown",
   "id": "82383964",
   "metadata": {
    "papermill": {
     "duration": 0.014185,
     "end_time": "2024-11-15T17:29:09.617396",
     "exception": false,
     "start_time": "2024-11-15T17:29:09.603211",
     "status": "completed"
    },
    "tags": []
   },
   "source": [
    "You do not need to restart the kernel."
   ]
  },
  {
   "cell_type": "code",
   "execution_count": 3,
   "id": "8e27f60e",
   "metadata": {
    "execution": {
     "iopub.execute_input": "2024-11-15T17:29:09.646870Z",
     "iopub.status.busy": "2024-11-15T17:29:09.646437Z",
     "iopub.status.idle": "2024-11-15T17:29:10.750117Z",
     "shell.execute_reply": "2024-11-15T17:29:10.748901Z"
    },
    "id": "5DwxYIRavMST",
    "papermill": {
     "duration": 1.121506,
     "end_time": "2024-11-15T17:29:10.752681",
     "exception": false,
     "start_time": "2024-11-15T17:29:09.631175",
     "status": "completed"
    },
    "tags": []
   },
   "outputs": [],
   "source": [
    "import google.generativeai as genai\n",
    "from IPython.display import HTML, Markdown, display"
   ]
  },
  {
   "cell_type": "markdown",
   "id": "65085253",
   "metadata": {
    "id": "DNEt2BCOvOJ1",
    "papermill": {
     "duration": 0.014143,
     "end_time": "2024-11-15T17:29:10.780494",
     "exception": false,
     "start_time": "2024-11-15T17:29:10.766351",
     "status": "completed"
    },
    "tags": []
   },
   "source": [
    "### Set up your API key\n",
    "\n",
    "To run the following cell, your API key must be stored it in a [Kaggle secret](https://www.kaggle.com/discussions/product-feedback/114053) named `GOOGLE_API_KEY`.\n",
    "\n",
    "If you don't already have an API key, you can grab one from [AI Studio](https://aistudio.google.com/app/apikey). You can find [detailed instructions in the docs](https://ai.google.dev/gemini-api/docs/api-key).\n",
    "\n",
    "To make the key available through Kaggle secrets, choose `Secrets` from the `Add-ons` menu and follow the instructions to add your key or enable it for this notebook."
   ]
  },
  {
   "cell_type": "code",
   "execution_count": 4,
   "id": "50552809",
   "metadata": {
    "execution": {
     "iopub.execute_input": "2024-11-15T17:29:10.811027Z",
     "iopub.status.busy": "2024-11-15T17:29:10.809798Z",
     "iopub.status.idle": "2024-11-15T17:29:10.907281Z",
     "shell.execute_reply": "2024-11-15T17:29:10.906220Z"
    },
    "id": "SHl0bkPCvayd",
    "papermill": {
     "duration": 0.115812,
     "end_time": "2024-11-15T17:29:10.909905",
     "exception": false,
     "start_time": "2024-11-15T17:29:10.794093",
     "status": "completed"
    },
    "tags": []
   },
   "outputs": [],
   "source": [
    "from kaggle_secrets import UserSecretsClient\n",
    "\n",
    "GOOGLE_API_KEY = UserSecretsClient().get_secret(\"GOOGLE_API_KEY\")\n",
    "genai.configure(api_key=GOOGLE_API_KEY)"
   ]
  },
  {
   "cell_type": "markdown",
   "id": "d8888ac6",
   "metadata": {
    "id": "4e720472fd86",
    "papermill": {
     "duration": 0.013078,
     "end_time": "2024-11-15T17:29:10.936669",
     "exception": false,
     "start_time": "2024-11-15T17:29:10.923591",
     "status": "completed"
    },
    "tags": []
   },
   "source": [
    "If you received an error response along the lines of `No user secrets exist for kernel id ...`, then you need to add your API key via `Add-ons`, `Secrets` **and** enable it.\n",
    "\n",
    "![Screenshot of the checkbox to enable GOOGLE_API_KEY secret](https://storage.googleapis.com/kaggle-media/Images/5gdai_sc_3.png)"
   ]
  },
  {
   "cell_type": "markdown",
   "id": "25335bc9",
   "metadata": {
    "id": "H_YXCYIKvyZJ",
    "papermill": {
     "duration": 0.013084,
     "end_time": "2024-11-15T17:29:10.963214",
     "exception": false,
     "start_time": "2024-11-15T17:29:10.950130",
     "status": "completed"
    },
    "tags": []
   },
   "source": [
    "### Run your first prompt\n",
    "\n",
    "In this step, you will test that your API key is set up correctly by making a request. The `gemini-1.5-flash` model has been selected here."
   ]
  },
  {
   "cell_type": "code",
   "execution_count": 5,
   "id": "252494a1",
   "metadata": {
    "execution": {
     "iopub.execute_input": "2024-11-15T17:29:10.992280Z",
     "iopub.status.busy": "2024-11-15T17:29:10.991849Z",
     "iopub.status.idle": "2024-11-15T17:30:12.888489Z",
     "shell.execute_reply": "2024-11-15T17:30:12.887209Z"
    },
    "id": "BV1o0PmcvyJF",
    "papermill": {
     "duration": 61.927311,
     "end_time": "2024-11-15T17:30:12.904253",
     "exception": false,
     "start_time": "2024-11-15T17:29:10.976942",
     "status": "completed"
    },
    "tags": []
   },
   "outputs": [
    {
     "name": "stdout",
     "output_type": "stream",
     "text": [
      "Imagine you have a really smart puppy.  You teach it tricks, like \"sit\" and \"fetch.\"  The puppy learns by watching you and getting treats when it does things right.\n",
      "\n",
      "AI is kind of like that super smart puppy, but instead of learning tricks, it learns from information.  We give it lots and lots of information, like pictures of cats and dogs, or sentences in different languages.  The AI looks for patterns in this information, and gets \"better\" at understanding things the more information it sees.\n",
      "\n",
      "So, if you show an AI a picture of a cat, it can learn to recognize other cats because it's found patterns like pointy ears, whiskers, and furry tails.  It's not actually *thinking* like you or me, but it's getting really good at figuring things out based on the information it's been given.\n",
      "\n",
      "AI helps us do lots of cool things, like:\n",
      "\n",
      "* **Play games:**  Some video games have AI that makes the characters act smart.\n",
      "* **Talk to your phone:**  Siri and Alexa use AI to understand your words.\n",
      "* **Recommend movies:**  Netflix uses AI to suggest movies you might like.\n",
      "\n",
      "It's still learning and getting better all the time, just like your puppy!\n",
      "\n"
     ]
    }
   ],
   "source": [
    "flash = genai.GenerativeModel('gemini-1.5-flash')\n",
    "response = flash.generate_content(\"Explain AI to me like I'm a kid.\")\n",
    "print(response.text)"
   ]
  },
  {
   "cell_type": "markdown",
   "id": "a9dd9a17",
   "metadata": {
    "id": "f60ed9d8ae41",
    "papermill": {
     "duration": 0.013385,
     "end_time": "2024-11-15T17:30:12.931978",
     "exception": false,
     "start_time": "2024-11-15T17:30:12.918593",
     "status": "completed"
    },
    "tags": []
   },
   "source": [
    "The response often comes back in markdown format, which you can render directly in this notebook."
   ]
  },
  {
   "cell_type": "code",
   "execution_count": 6,
   "id": "d258442a",
   "metadata": {
    "execution": {
     "iopub.execute_input": "2024-11-15T17:30:12.961225Z",
     "iopub.status.busy": "2024-11-15T17:30:12.960217Z",
     "iopub.status.idle": "2024-11-15T17:30:12.968103Z",
     "shell.execute_reply": "2024-11-15T17:30:12.967194Z"
    },
    "id": "c933e5e460a5",
    "papermill": {
     "duration": 0.024642,
     "end_time": "2024-11-15T17:30:12.970277",
     "exception": false,
     "start_time": "2024-11-15T17:30:12.945635",
     "status": "completed"
    },
    "tags": []
   },
   "outputs": [
    {
     "data": {
      "text/markdown": [
       "Imagine you have a really smart puppy.  You teach it tricks, like \"sit\" and \"fetch.\"  The puppy learns by watching you and getting treats when it does things right.\n",
       "\n",
       "AI is kind of like that super smart puppy, but instead of learning tricks, it learns from information.  We give it lots and lots of information, like pictures of cats and dogs, or sentences in different languages.  The AI looks for patterns in this information, and gets \"better\" at understanding things the more information it sees.\n",
       "\n",
       "So, if you show an AI a picture of a cat, it can learn to recognize other cats because it's found patterns like pointy ears, whiskers, and furry tails.  It's not actually *thinking* like you or me, but it's getting really good at figuring things out based on the information it's been given.\n",
       "\n",
       "AI helps us do lots of cool things, like:\n",
       "\n",
       "* **Play games:**  Some video games have AI that makes the characters act smart.\n",
       "* **Talk to your phone:**  Siri and Alexa use AI to understand your words.\n",
       "* **Recommend movies:**  Netflix uses AI to suggest movies you might like.\n",
       "\n",
       "It's still learning and getting better all the time, just like your puppy!\n"
      ],
      "text/plain": [
       "<IPython.core.display.Markdown object>"
      ]
     },
     "execution_count": 6,
     "metadata": {},
     "output_type": "execute_result"
    }
   ],
   "source": [
    "Markdown(response.text)"
   ]
  },
  {
   "cell_type": "markdown",
   "id": "f855af50",
   "metadata": {
    "id": "byx0pT9ZMW2Q",
    "papermill": {
     "duration": 0.013683,
     "end_time": "2024-11-15T17:30:12.997798",
     "exception": false,
     "start_time": "2024-11-15T17:30:12.984115",
     "status": "completed"
    },
    "tags": []
   },
   "source": [
    "### Start a chat\n",
    "\n",
    "The previous example uses a single-turn, text-in/text-out structure, but you can also set up a multi-turn chat structure too."
   ]
  },
  {
   "cell_type": "code",
   "execution_count": 7,
   "id": "3edf0d5d",
   "metadata": {
    "execution": {
     "iopub.execute_input": "2024-11-15T17:30:13.027969Z",
     "iopub.status.busy": "2024-11-15T17:30:13.026698Z",
     "iopub.status.idle": "2024-11-15T17:32:00.891422Z",
     "shell.execute_reply": "2024-11-15T17:32:00.890247Z"
    },
    "id": "lV_S5ZL5MidD",
    "papermill": {
     "duration": 107.896779,
     "end_time": "2024-11-15T17:32:00.908338",
     "exception": false,
     "start_time": "2024-11-15T17:30:13.011559",
     "status": "completed"
    },
    "tags": []
   },
   "outputs": [
    {
     "name": "stdout",
     "output_type": "stream",
     "text": [
      "It's nice to meet you, Zlork!  How can I help you today?\n",
      "\n"
     ]
    }
   ],
   "source": [
    "chat = flash.start_chat(history=[])\n",
    "response = chat.send_message('Hello! My name is Zlork.')\n",
    "print(response.text)"
   ]
  },
  {
   "cell_type": "code",
   "execution_count": 8,
   "id": "6f02aa37",
   "metadata": {
    "execution": {
     "iopub.execute_input": "2024-11-15T17:32:00.937753Z",
     "iopub.status.busy": "2024-11-15T17:32:00.937360Z",
     "iopub.status.idle": "2024-11-15T17:32:21.542779Z",
     "shell.execute_reply": "2024-11-15T17:32:21.540998Z"
    },
    "id": "7b0372c3c64a",
    "papermill": {
     "duration": 20.622979,
     "end_time": "2024-11-15T17:32:21.545186",
     "exception": false,
     "start_time": "2024-11-15T17:32:00.922207",
     "status": "completed"
    },
    "tags": []
   },
   "outputs": [
    {
     "name": "stdout",
     "output_type": "stream",
     "text": [
      "Many dinosaurs likely had feathers!  While we often picture them as scaly reptiles,  evidence suggests that many theropod dinosaurs (the group that includes *Tyrannosaurus rex* and *Velociraptor*) were covered in feathers, ranging from simple filaments to complex, bird-like plumage. This is a significant finding that sheds light on the evolutionary relationship between dinosaurs and birds.\n",
      "\n"
     ]
    }
   ],
   "source": [
    "response = chat.send_message('Can you tell something interesting about dinosaurs?')\n",
    "print(response.text)"
   ]
  },
  {
   "cell_type": "code",
   "execution_count": 9,
   "id": "6a9522cb",
   "metadata": {
    "execution": {
     "iopub.execute_input": "2024-11-15T17:32:21.575361Z",
     "iopub.status.busy": "2024-11-15T17:32:21.574948Z",
     "iopub.status.idle": "2024-11-15T17:33:25.210718Z",
     "shell.execute_reply": "2024-11-15T17:33:25.209392Z"
    },
    "id": "d3f9591392a7",
    "papermill": {
     "duration": 63.674941,
     "end_time": "2024-11-15T17:33:25.234507",
     "exception": false,
     "start_time": "2024-11-15T17:32:21.559566",
     "status": "completed"
    },
    "tags": []
   },
   "outputs": [
    {
     "name": "stdout",
     "output_type": "stream",
     "text": [
      "Yes, your name is Zlork.\n",
      "\n"
     ]
    }
   ],
   "source": [
    "# While you have the `chat` object around, the conversation state\n",
    "# persists. Confirm that by asking if it knows my name.\n",
    "response = chat.send_message('Do you remember what my name is?')\n",
    "print(response.text)"
   ]
  },
  {
   "cell_type": "markdown",
   "id": "a85490d3",
   "metadata": {
    "id": "2KAjpr1200sW",
    "papermill": {
     "duration": 0.018155,
     "end_time": "2024-11-15T17:33:25.272835",
     "exception": false,
     "start_time": "2024-11-15T17:33:25.254680",
     "status": "completed"
    },
    "tags": []
   },
   "source": [
    "### Choose a model\n",
    "\n",
    "The Gemini API provides access to a number of models from the Gemini model family. Read about the available models and their capabilities on the [model overview page](https://ai.google.dev/gemini-api/docs/models/gemini).\n",
    "\n",
    "In this step you'll use the API to list all of the available models."
   ]
  },
  {
   "cell_type": "code",
   "execution_count": 10,
   "id": "3061fbb0",
   "metadata": {
    "execution": {
     "iopub.execute_input": "2024-11-15T17:33:25.307239Z",
     "iopub.status.busy": "2024-11-15T17:33:25.306781Z",
     "iopub.status.idle": "2024-11-15T17:33:25.368210Z",
     "shell.execute_reply": "2024-11-15T17:33:25.366827Z"
    },
    "id": "uUUZa2uq2jDm",
    "papermill": {
     "duration": 0.0795,
     "end_time": "2024-11-15T17:33:25.370746",
     "exception": false,
     "start_time": "2024-11-15T17:33:25.291246",
     "status": "completed"
    },
    "tags": []
   },
   "outputs": [
    {
     "name": "stdout",
     "output_type": "stream",
     "text": [
      "models/chat-bison-001\n",
      "models/text-bison-001\n",
      "models/embedding-gecko-001\n",
      "models/gemini-1.0-pro-latest\n",
      "models/gemini-1.0-pro\n",
      "models/gemini-pro\n",
      "models/gemini-1.0-pro-001\n",
      "models/gemini-1.0-pro-vision-latest\n",
      "models/gemini-pro-vision\n",
      "models/gemini-1.5-pro-latest\n",
      "models/gemini-1.5-pro-001\n",
      "models/gemini-1.5-pro-002\n",
      "models/gemini-1.5-pro\n",
      "models/gemini-1.5-pro-exp-0801\n",
      "models/gemini-1.5-pro-exp-0827\n",
      "models/gemini-1.5-flash-latest\n",
      "models/gemini-1.5-flash-001\n",
      "models/gemini-1.5-flash-001-tuning\n",
      "models/gemini-1.5-flash\n",
      "models/gemini-1.5-flash-exp-0827\n",
      "models/gemini-1.5-flash-002\n",
      "models/gemini-1.5-flash-8b\n",
      "models/gemini-1.5-flash-8b-001\n",
      "models/gemini-1.5-flash-8b-latest\n",
      "models/gemini-1.5-flash-8b-exp-0827\n",
      "models/gemini-1.5-flash-8b-exp-0924\n",
      "models/embedding-001\n",
      "models/text-embedding-004\n",
      "models/aqa\n"
     ]
    }
   ],
   "source": [
    "for model in genai.list_models():\n",
    "  print(model.name)"
   ]
  },
  {
   "cell_type": "markdown",
   "id": "24f90526",
   "metadata": {
    "id": "rN49kSI54R1v",
    "papermill": {
     "duration": 0.013729,
     "end_time": "2024-11-15T17:33:25.398947",
     "exception": false,
     "start_time": "2024-11-15T17:33:25.385218",
     "status": "completed"
    },
    "tags": []
   },
   "source": [
    "The [`models.list`](https://ai.google.dev/api/models#method:-models.list) response also returns additional information about the model's capabilities, like the token limits and supported parameters."
   ]
  },
  {
   "cell_type": "code",
   "execution_count": 11,
   "id": "99f5b852",
   "metadata": {
    "execution": {
     "iopub.execute_input": "2024-11-15T17:33:25.430085Z",
     "iopub.status.busy": "2024-11-15T17:33:25.429188Z",
     "iopub.status.idle": "2024-11-15T17:33:25.491420Z",
     "shell.execute_reply": "2024-11-15T17:33:25.490343Z"
    },
    "id": "k7JJ1K6j4Rl8",
    "papermill": {
     "duration": 0.080609,
     "end_time": "2024-11-15T17:33:25.493865",
     "exception": false,
     "start_time": "2024-11-15T17:33:25.413256",
     "status": "completed"
    },
    "tags": []
   },
   "outputs": [
    {
     "name": "stdout",
     "output_type": "stream",
     "text": [
      "Model(name='models/gemini-1.5-flash',\n",
      "      base_model_id='',\n",
      "      version='001',\n",
      "      display_name='Gemini 1.5 Flash',\n",
      "      description='Fast and versatile multimodal model for scaling across diverse tasks',\n",
      "      input_token_limit=1000000,\n",
      "      output_token_limit=8192,\n",
      "      supported_generation_methods=['generateContent', 'countTokens'],\n",
      "      temperature=1.0,\n",
      "      max_temperature=2.0,\n",
      "      top_p=0.95,\n",
      "      top_k=40)\n"
     ]
    }
   ],
   "source": [
    "for model in genai.list_models():\n",
    "  if model.name == 'models/gemini-1.5-flash':\n",
    "    print(model)\n",
    "    break"
   ]
  },
  {
   "cell_type": "markdown",
   "id": "5131c8c0",
   "metadata": {
    "id": "5rU_UBlZdooM",
    "papermill": {
     "duration": 0.014072,
     "end_time": "2024-11-15T17:33:25.522439",
     "exception": false,
     "start_time": "2024-11-15T17:33:25.508367",
     "status": "completed"
    },
    "tags": []
   },
   "source": [
    "## Explore generation parameters\n",
    "\n"
   ]
  },
  {
   "cell_type": "markdown",
   "id": "758445ac",
   "metadata": {
    "id": "G7NfEizeipbW",
    "papermill": {
     "duration": 0.014278,
     "end_time": "2024-11-15T17:33:25.551341",
     "exception": false,
     "start_time": "2024-11-15T17:33:25.537063",
     "status": "completed"
    },
    "tags": []
   },
   "source": [
    "### Output length\n",
    "\n",
    "When generating text with an LLM, the output length affects cost and performance. Generating more tokens increases computation, leading to higher energy consumption, latency, and cost.\n",
    "\n",
    "To stop the model from generating tokens past a limit, you can specify the `max_output_tokens` parameter when using the Gemini API. Specifying this parameter does not influence the generation of the output tokens, so the output will not become more stylistically or textually succinct, but it will stop generating tokens once the specified length is reached. Prompt engineering may be required to generate a more complete output for your given limit."
   ]
  },
  {
   "cell_type": "code",
   "execution_count": 12,
   "id": "b1597ae7",
   "metadata": {
    "execution": {
     "iopub.execute_input": "2024-11-15T17:33:25.582172Z",
     "iopub.status.busy": "2024-11-15T17:33:25.581736Z",
     "iopub.status.idle": "2024-11-15T17:34:31.197168Z",
     "shell.execute_reply": "2024-11-15T17:34:31.195991Z"
    },
    "id": "qVf23JsIi9ma",
    "papermill": {
     "duration": 65.647568,
     "end_time": "2024-11-15T17:34:31.213188",
     "exception": false,
     "start_time": "2024-11-15T17:33:25.565620",
     "status": "completed"
    },
    "tags": []
   },
   "outputs": [
    {
     "name": "stdout",
     "output_type": "stream",
     "text": [
      "## The Enduring Significance of Olives in Modern Society\n",
      "\n",
      "The olive, a seemingly humble fruit, holds a profound and multifaceted significance in modern society that extends far beyond its culinary applications.  From its ancient roots in Mediterranean culture to its contemporary role in global economics and health, the olive’s influence is both pervasive and enduring. This essay will explore the importance of olives in modern society, examining their cultural, economic, and health-related impacts, while also considering the challenges and opportunities facing the olive industry in the 21st century.\n",
      "\n",
      "The olive’s cultural significance is arguably its most deeply rooted impact. For millennia, it has been intrinsically linked to the identity and traditions of Mediterranean cultures.  From the ancient Greeks and Romans, who revered the olive tree as a symbol of peace, wisdom, and fertility, to the modern-day populations of Greece, Italy, Spain, and beyond, the olive holds a unique place in the cultural landscape.  The olive tree itself is often a central\n"
     ]
    }
   ],
   "source": [
    "short_model = genai.GenerativeModel(\n",
    "    'gemini-1.5-flash',\n",
    "    generation_config=genai.GenerationConfig(max_output_tokens=200))\n",
    "\n",
    "response = short_model.generate_content('Write a 1000 word essay on the importance of olives in modern society.')\n",
    "print(response.text)"
   ]
  },
  {
   "cell_type": "code",
   "execution_count": 13,
   "id": "84cf7e9b",
   "metadata": {
    "execution": {
     "iopub.execute_input": "2024-11-15T17:34:31.244243Z",
     "iopub.status.busy": "2024-11-15T17:34:31.243787Z",
     "iopub.status.idle": "2024-11-15T17:34:42.066170Z",
     "shell.execute_reply": "2024-11-15T17:34:42.064823Z"
    },
    "id": "W-3kR2F5kdMR",
    "papermill": {
     "duration": 10.841378,
     "end_time": "2024-11-15T17:34:42.068913",
     "exception": false,
     "start_time": "2024-11-15T17:34:31.227535",
     "status": "completed"
    },
    "tags": []
   },
   "outputs": [
    {
     "name": "stdout",
     "output_type": "stream",
     "text": [
      "From ancient groves, a bounty flows,\n",
      "The olive's gift, the world bestows.\n",
      "In oil we find a taste so deep,\n",
      "On salads spread, or secrets keep.\n",
      "\n",
      "A symbol old, a modern grace,\n",
      "In every dish, it finds its place.\n",
      "From table fare to lotions mild,\n",
      "The olive's worth, forever styled.\n",
      "\n"
     ]
    }
   ],
   "source": [
    "response = short_model.generate_content('Write a short poem on the importance of olives in modern society.')\n",
    "print(response.text)"
   ]
  },
  {
   "cell_type": "code",
   "execution_count": 14,
   "id": "fecfbe27",
   "metadata": {
    "execution": {
     "iopub.execute_input": "2024-11-15T17:34:42.100642Z",
     "iopub.status.busy": "2024-11-15T17:34:42.100198Z",
     "iopub.status.idle": "2024-11-15T17:35:49.815306Z",
     "shell.execute_reply": "2024-11-15T17:35:49.814169Z"
    },
    "papermill": {
     "duration": 67.748303,
     "end_time": "2024-11-15T17:35:49.832485",
     "exception": false,
     "start_time": "2024-11-15T17:34:42.084182",
     "status": "completed"
    },
    "tags": []
   },
   "outputs": [
    {
     "name": "stdout",
     "output_type": "stream",
     "text": [
      "The modern understanding of fruits and vegetables' health benefits emerged gradually.  Early 20th-century nutritional science linked deficiencies to diseases like scurvy and rickets, highlighting the importance of vitamins and minerals found in produce.  Mid-century studies further emphasized their role in preventing chronic diseases like heart disease and cancer.  Today, public health campaigns promote fruit and vegetable consumption, linking it to improved immunity, weight management, and overall well-being.  However, challenges remain in ensuring equitable access to affordable, fresh produce, especially in underserved communities.\n",
      "\n"
     ]
    }
   ],
   "source": [
    "response = short_model.generate_content('Write a 100 word history on benefits fruits and vegitables in modern society.')\n",
    "print(response.text)"
   ]
  },
  {
   "cell_type": "markdown",
   "id": "fdf30924",
   "metadata": {
    "id": "3ZhDSLB6lqqB",
    "papermill": {
     "duration": 0.014182,
     "end_time": "2024-11-15T17:35:49.861175",
     "exception": false,
     "start_time": "2024-11-15T17:35:49.846993",
     "status": "completed"
    },
    "tags": []
   },
   "source": [
    "Explore with your own prompts. Try a prompt with a restrictive output limit and then adjust the prompt to work within that limit."
   ]
  },
  {
   "cell_type": "code",
   "execution_count": 15,
   "id": "45e05c73",
   "metadata": {
    "execution": {
     "iopub.execute_input": "2024-11-15T17:35:49.891731Z",
     "iopub.status.busy": "2024-11-15T17:35:49.891324Z",
     "iopub.status.idle": "2024-11-15T17:36:15.484594Z",
     "shell.execute_reply": "2024-11-15T17:36:15.483425Z"
    },
    "papermill": {
     "duration": 25.611833,
     "end_time": "2024-11-15T17:36:15.487313",
     "exception": false,
     "start_time": "2024-11-15T17:35:49.875480",
     "status": "completed"
    },
    "tags": []
   },
   "outputs": [
    {
     "name": "stdout",
     "output_type": "stream",
     "text": [
      "Bright hues upon the market stall,\n",
      "A vibrant, healthy, hopeful call.\n",
      "From leafy greens to berries red,\n",
      "The life our bodies truly need.\n",
      "\n",
      "Forget the pill, the sugary treat,\n",
      "In nature's bounty, goodness meet.\n",
      "Fruits and vegetables, strong and bold,\n",
      "A story in each bite unfolds.\n",
      "\n",
      "For health and strength, a vibrant hand,\n",
      "The future built on fertile land. \n",
      "So choose the good, the fresh, the bright,\n",
      "And fill your days with pure delight.\n",
      "\n"
     ]
    }
   ],
   "source": [
    "response = short_model.generate_content('Write a short poem on the importance fruits and vegitables in modern society.')\n",
    "print(response.text)"
   ]
  },
  {
   "cell_type": "markdown",
   "id": "f8bb223c",
   "metadata": {
    "id": "alx-WaAvir_9",
    "papermill": {
     "duration": 0.014605,
     "end_time": "2024-11-15T17:36:15.517017",
     "exception": false,
     "start_time": "2024-11-15T17:36:15.502412",
     "status": "completed"
    },
    "tags": []
   },
   "source": [
    "### Temperature\n",
    "\n",
    "Temperature controls the degree of randomness in token selection. Higher temperatures result in a higher number of candidate tokens from which the next output token is selected, and can produce more diverse results, while lower temperatures have the opposite effect, such that a temperature of 0 results in greedy decoding, selecting the most probable token at each step.\n",
    "\n",
    "Temperature doesn't provide any guarantees of randomness, but it can be used to \"nudge\" the output somewhat.\n",
    "\n",
    "**Note that if you see a 429 Resource Exhausted error here, you may be able to edit the words in the prompt slightly to progress.**"
   ]
  },
  {
   "cell_type": "code",
   "execution_count": 16,
   "id": "d6801baa",
   "metadata": {
    "execution": {
     "iopub.execute_input": "2024-11-15T17:36:15.549123Z",
     "iopub.status.busy": "2024-11-15T17:36:15.548187Z",
     "iopub.status.idle": "2024-11-15T17:39:38.898926Z",
     "shell.execute_reply": "2024-11-15T17:39:38.897592Z"
    },
    "id": "SHraGMzqnZqt",
    "papermill": {
     "duration": 203.383596,
     "end_time": "2024-11-15T17:39:38.915484",
     "exception": false,
     "start_time": "2024-11-15T17:36:15.531888",
     "status": "completed"
    },
    "tags": []
   },
   "outputs": [
    {
     "name": "stdout",
     "output_type": "stream",
     "text": [
      "Aquamarine\n",
      " -------------------------\n",
      "Purple\n",
      " -------------------------\n",
      "Maroon\n",
      " -------------------------\n",
      "Maroon\n",
      " -------------------------\n",
      "Maroon\n",
      " -------------------------\n"
     ]
    }
   ],
   "source": [
    "from google.api_core import retry\n",
    "\n",
    "high_temp_model = genai.GenerativeModel(\n",
    "    'gemini-1.5-flash',\n",
    "    generation_config=genai.GenerationConfig(temperature=2.0))\n",
    "\n",
    "\n",
    "# When running lots of queries, it's a good practice to use a retry policy so your code\n",
    "# automatically retries when hitting Resource Exhausted (quota limit) errors.\n",
    "retry_policy = {\n",
    "    \"retry\": retry.Retry(predicate=retry.if_transient_error, initial=10, multiplier=1.5, timeout=300)\n",
    "}\n",
    "\n",
    "for _ in range(5):\n",
    "  response = high_temp_model.generate_content('Pick a random colour... (respond in a single word)',\n",
    "                                              request_options=retry_policy)\n",
    "  if response.parts:\n",
    "    print(response.text, '-' * 25)"
   ]
  },
  {
   "cell_type": "markdown",
   "id": "bd818664",
   "metadata": {
    "id": "z3J4pCTuof7e",
    "papermill": {
     "duration": 0.014644,
     "end_time": "2024-11-15T17:39:38.944958",
     "exception": false,
     "start_time": "2024-11-15T17:39:38.930314",
     "status": "completed"
    },
    "tags": []
   },
   "source": [
    "Now try the same prompt with temperature set to zero. Note that the output is not completely deterministic, as other parameters affect token selection, but the results will tend to be more stable."
   ]
  },
  {
   "cell_type": "code",
   "execution_count": 17,
   "id": "c8223b4b",
   "metadata": {
    "execution": {
     "iopub.execute_input": "2024-11-15T17:39:38.977191Z",
     "iopub.status.busy": "2024-11-15T17:39:38.976059Z",
     "iopub.status.idle": "2024-11-15T17:41:14.728968Z",
     "shell.execute_reply": "2024-11-15T17:41:14.727533Z"
    },
    "id": "clymkWv-PfUZ",
    "papermill": {
     "duration": 95.771546,
     "end_time": "2024-11-15T17:41:14.731414",
     "exception": false,
     "start_time": "2024-11-15T17:39:38.959868",
     "status": "completed"
    },
    "tags": []
   },
   "outputs": [
    {
     "name": "stdout",
     "output_type": "stream",
     "text": [
      "Maroon\n",
      " -------------------------\n",
      "Maroon\n",
      " -------------------------\n",
      "Maroon\n",
      " -------------------------\n",
      "Maroon\n",
      " -------------------------\n",
      "Maroon\n",
      " -------------------------\n"
     ]
    }
   ],
   "source": [
    "low_temp_model = genai.GenerativeModel(\n",
    "    'gemini-1.5-flash',\n",
    "    generation_config=genai.GenerationConfig(temperature=0.0))\n",
    "\n",
    "for _ in range(5):\n",
    "  response = low_temp_model.generate_content('Pick a random colour... (respond in a single word)',\n",
    "                                             request_options=retry_policy)\n",
    "  if response.parts:\n",
    "    print(response.text, '-' * 25)"
   ]
  },
  {
   "cell_type": "markdown",
   "id": "34c7a15e",
   "metadata": {
    "id": "St5nt3vzitsZ",
    "papermill": {
     "duration": 0.014952,
     "end_time": "2024-11-15T17:41:14.761753",
     "exception": false,
     "start_time": "2024-11-15T17:41:14.746801",
     "status": "completed"
    },
    "tags": []
   },
   "source": [
    "### Top-K and top-P\n",
    "\n",
    "Like temperature, top-K and top-P parameters are also used to control the diversity of the model's output.\n",
    "\n",
    "Top-K is a positive integer that defines the number of most probable tokens from which to select the output token. A top-K of 1 selects a single token, performing greedy decoding.\n",
    "\n",
    "Top-P defines the probability threshold that, once cumulatively exceeded, tokens stop being selected as candidates. A top-P of 0 is typically equivalent to greedy decoding, and a top-P of 1 typically selects every token in the model's vocabulary.\n",
    "\n",
    "When both are supplied, the Gemini API will filter top-K tokens first, then top-P and then finally sample from the candidate tokens using the supplied temperature.\n",
    "\n",
    "Run this example a number of times, change the settings and observe the change in output."
   ]
  },
  {
   "cell_type": "code",
   "execution_count": 18,
   "id": "8addce82",
   "metadata": {
    "execution": {
     "iopub.execute_input": "2024-11-15T17:41:14.793765Z",
     "iopub.status.busy": "2024-11-15T17:41:14.793321Z",
     "iopub.status.idle": "2024-11-15T17:41:17.825912Z",
     "shell.execute_reply": "2024-11-15T17:41:17.824754Z"
    },
    "id": "lPlzpEavUV8F",
    "papermill": {
     "duration": 3.051797,
     "end_time": "2024-11-15T17:41:17.828627",
     "exception": false,
     "start_time": "2024-11-15T17:41:14.776830",
     "status": "completed"
    },
    "tags": []
   },
   "outputs": [
    {
     "name": "stdout",
     "output_type": "stream",
     "text": [
      "Bartholomew, a ginger tabby with a penchant for mischief and a disdain for routine, had always dreamt of the world beyond the garden wall. He’d watched with envy as the birds soared, the squirrels scampered, and the wind whispered tales of faraway lands.  One sunny afternoon, boredom gnawed at him like a particularly tenacious flea. He saw his chance. \n",
      "\n",
      "The old, rusted gate had finally given way, its hinges creaking a mournful symphony. With a flick of his tail and a knowing glint in his eye, Bartholomew slipped through the gap, the world suddenly a vast, exhilarating expanse. \n",
      "\n",
      "The adventure began with a symphony of scents.  The pungent aroma of freshly cut grass, the earthy musk of damp soil, and the heady perfume of honeysuckle – all a heady cocktail for a curious cat. He stalked through the long grass, a shadow of orange flitting between sunflowers, each blade a tiny, whispering secret.  \n",
      "\n",
      "He encountered a grumpy old tomcat, who warned him of the dangers beyond the wall. He ignored him, of course, a bold adventurer with a nose for trouble. He chased butterflies, their wings like stained glass, and startled a family of ducks, who honked their disapproval. \n",
      "\n",
      "His journey took him to a bustling market, a labyrinth of smells and sounds. He spied on a plump pigeon, preening its feathers, then darted between legs, a furry whirlwind of orange and white.  The vendors, surprised by his audacity, laughed, their laughter echoing through the vibrant, chaotic scene.  \n",
      "\n",
      "As the sun began to dip below the horizon, a sense of exhaustion settled upon Bartholomew. The world was bigger, wilder, and more wondrous than he could have imagined. He found himself by the river, its surface mirroring the fading light. It was a place of peace, a sanctuary from the cacophony of the day. \n",
      "\n",
      "As darkness fell, Bartholomew knew it was time to return. He’d tasted freedom, felt the wind on his fur, and learned the secrets whispered by the world beyond the wall.  He slipped through the gate, his heart a purring drum of contentment. Back in the garden, he stretched, the familiar scent of lavender and rosemary a comforting embrace.  He was a changed cat, his eyes now holding a hint of the world he’d seen, a story etched in the amber of his gaze. \n",
      "\n",
      "From that day on, Bartholomew, the adventurer cat, never looked at the garden wall the same way again. He knew it held a world of wonder, a world that awaited his next daring escape.  And he knew, with the certainty of a cat who had tasted freedom, he would return. \n",
      "\n"
     ]
    }
   ],
   "source": [
    "model = genai.GenerativeModel(\n",
    "    'gemini-1.5-flash-001',\n",
    "    generation_config=genai.GenerationConfig(\n",
    "        # These are the default values for gemini-1.5-flash-001.\n",
    "        temperature=1.0,\n",
    "        top_k=64,\n",
    "        top_p=0.95,\n",
    "    ))\n",
    "\n",
    "story_prompt = \"You are a creative writer. Write a short story about a cat who goes on an adventure.\"\n",
    "response = model.generate_content(story_prompt, request_options=retry_policy)\n",
    "print(response.text)"
   ]
  },
  {
   "cell_type": "markdown",
   "id": "7cf92bf8",
   "metadata": {
    "id": "rMrYs1koY6DX",
    "papermill": {
     "duration": 0.015162,
     "end_time": "2024-11-15T17:41:17.859643",
     "exception": false,
     "start_time": "2024-11-15T17:41:17.844481",
     "status": "completed"
    },
    "tags": []
   },
   "source": [
    "## Prompting\n",
    "\n",
    "This section contains some prompts from the chapter for you to try out directly in the API. Try changing the text here to see how each prompt performs with different instructions, more examples, or any other changes you can think of."
   ]
  },
  {
   "cell_type": "markdown",
   "id": "a12e4ac2",
   "metadata": {
    "id": "hhj_tQidZJP7",
    "papermill": {
     "duration": 0.015127,
     "end_time": "2024-11-15T17:41:17.890218",
     "exception": false,
     "start_time": "2024-11-15T17:41:17.875091",
     "status": "completed"
    },
    "tags": []
   },
   "source": [
    "### Zero-shot\n",
    "\n",
    "Zero-shot prompts are prompts that describe the request for the model directly.\n",
    "\n",
    "<table align=left>\n",
    "  <td>\n",
    "    <a target=\"_blank\" href=\"https://aistudio.google.com/prompts/1gzKKgDHwkAvexG5Up0LMtl1-6jKMKe4g\"><img src=\"https://ai.google.dev/site-assets/images/marketing/home/icon-ais.png\" style=\"height: 24px\" height=24/> Open in AI Studio</a>\n",
    "  </td>\n",
    "</table>"
   ]
  },
  {
   "cell_type": "code",
   "execution_count": 19,
   "id": "5fa8d508",
   "metadata": {
    "execution": {
     "iopub.execute_input": "2024-11-15T17:41:17.922999Z",
     "iopub.status.busy": "2024-11-15T17:41:17.922559Z",
     "iopub.status.idle": "2024-11-15T17:41:18.187840Z",
     "shell.execute_reply": "2024-11-15T17:41:18.186542Z"
    },
    "id": "1_t-cwnDZzbH",
    "papermill": {
     "duration": 0.284589,
     "end_time": "2024-11-15T17:41:18.190273",
     "exception": false,
     "start_time": "2024-11-15T17:41:17.905684",
     "status": "completed"
    },
    "tags": []
   },
   "outputs": [
    {
     "name": "stdout",
     "output_type": "stream",
     "text": [
      "Sentiment: **POSITIVE**\n"
     ]
    }
   ],
   "source": [
    "model = genai.GenerativeModel(\n",
    "    'gemini-1.5-flash-001',\n",
    "    generation_config=genai.GenerationConfig(\n",
    "        temperature=0.1,\n",
    "        top_p=1,\n",
    "        max_output_tokens=5,\n",
    "    ))\n",
    "\n",
    "zero_shot_prompt = \"\"\"Classify movie reviews as POSITIVE, NEUTRAL or NEGATIVE.\n",
    "Review: \"Her\" is a disturbing study revealing the direction\n",
    "humanity is headed if AI is allowed to keep evolving,\n",
    "unchecked. I wish there were more movies like this masterpiece.\n",
    "Sentiment: \"\"\"\n",
    "\n",
    "response = model.generate_content(zero_shot_prompt, request_options=retry_policy)\n",
    "print(response.text)"
   ]
  },
  {
   "cell_type": "markdown",
   "id": "1f8dbb55",
   "metadata": {
    "id": "3b5568bdeb11",
    "papermill": {
     "duration": 0.01557,
     "end_time": "2024-11-15T17:41:18.221472",
     "exception": false,
     "start_time": "2024-11-15T17:41:18.205902",
     "status": "completed"
    },
    "tags": []
   },
   "source": [
    "#### Enum mode\n",
    "\n",
    "The models are trained to generate text, and can sometimes produce more text than you may wish for. In the preceding example, the model will output the label, sometimes it can include a preceding \"Sentiment\" label, and without an output token limit, it may also add explanatory text afterwards.\n",
    "\n",
    "The Gemini API has an [Enum mode](https://github.com/google-gemini/cookbook/blob/main/quickstarts/Enum.ipynb) feature that allows you to constrain the output to a fixed set of values."
   ]
  },
  {
   "cell_type": "code",
   "execution_count": 20,
   "id": "e24f75c3",
   "metadata": {
    "execution": {
     "iopub.execute_input": "2024-11-15T17:41:18.254172Z",
     "iopub.status.busy": "2024-11-15T17:41:18.253743Z",
     "iopub.status.idle": "2024-11-15T17:41:18.860262Z",
     "shell.execute_reply": "2024-11-15T17:41:18.859196Z"
    },
    "id": "ad118a56c598",
    "papermill": {
     "duration": 0.625791,
     "end_time": "2024-11-15T17:41:18.862684",
     "exception": false,
     "start_time": "2024-11-15T17:41:18.236893",
     "status": "completed"
    },
    "tags": []
   },
   "outputs": [
    {
     "name": "stdout",
     "output_type": "stream",
     "text": [
      "positive\n"
     ]
    }
   ],
   "source": [
    "import enum\n",
    "\n",
    "class Sentiment(enum.Enum):\n",
    "    POSITIVE = \"positive\"\n",
    "    NEUTRAL = \"neutral\"\n",
    "    NEGATIVE = \"negative\"\n",
    "\n",
    "\n",
    "model = genai.GenerativeModel(\n",
    "    'gemini-1.5-flash-001',\n",
    "    generation_config=genai.GenerationConfig(\n",
    "        response_mime_type=\"text/x.enum\",\n",
    "        response_schema=Sentiment\n",
    "    ))\n",
    "\n",
    "response = model.generate_content(zero_shot_prompt, request_options=retry_policy)\n",
    "print(response.text)"
   ]
  },
  {
   "cell_type": "markdown",
   "id": "e4225d09",
   "metadata": {
    "id": "0udiSwNbv45W",
    "papermill": {
     "duration": 0.015273,
     "end_time": "2024-11-15T17:41:18.893536",
     "exception": false,
     "start_time": "2024-11-15T17:41:18.878263",
     "status": "completed"
    },
    "tags": []
   },
   "source": [
    "### One-shot and few-shot\n",
    "\n",
    "Providing an example of the expected response is known as a \"one-shot\" prompt. When you provide multiple examples, it is a \"few-shot\" prompt.\n",
    "\n",
    "<table align=left>\n",
    "  <td>\n",
    "    <a target=\"_blank\" href=\"https://aistudio.google.com/prompts/1jjWkjUSoMXmLvMJ7IzADr_GxHPJVV2bg\"><img src=\"https://ai.google.dev/site-assets/images/marketing/home/icon-ais.png\" style=\"height: 24px\" height=24/> Open in AI Studio</a>\n",
    "  </td>\n",
    "</table>\n"
   ]
  },
  {
   "cell_type": "code",
   "execution_count": 21,
   "id": "297c8cf3",
   "metadata": {
    "execution": {
     "iopub.execute_input": "2024-11-15T17:41:18.927043Z",
     "iopub.status.busy": "2024-11-15T17:41:18.926120Z",
     "iopub.status.idle": "2024-11-15T17:41:21.464621Z",
     "shell.execute_reply": "2024-11-15T17:41:21.463101Z"
    },
    "id": "hd4mVUukwOKZ",
    "papermill": {
     "duration": 2.557828,
     "end_time": "2024-11-15T17:41:21.467076",
     "exception": false,
     "start_time": "2024-11-15T17:41:18.909248",
     "status": "completed"
    },
    "tags": []
   },
   "outputs": [
    {
     "name": "stdout",
     "output_type": "stream",
     "text": [
      "```json\n",
      "{\n",
      "  \"size\": \"large\",\n",
      "  \"type\": \"normal\",\n",
      "  \"ingredients\": [\"cheese\", \"pineapple\"]\n",
      "}\n",
      "```\n",
      "\n"
     ]
    }
   ],
   "source": [
    "model = genai.GenerativeModel(\n",
    "    'gemini-1.5-flash-latest',\n",
    "    generation_config=genai.GenerationConfig(\n",
    "        temperature=0.1,\n",
    "        top_p=1,\n",
    "        max_output_tokens=250,\n",
    "    ))\n",
    "\n",
    "few_shot_prompt = \"\"\"Parse a customer's pizza order into valid JSON:\n",
    "\n",
    "EXAMPLE:\n",
    "I want a small pizza with cheese, tomato sauce, and pepperoni.\n",
    "JSON Response:\n",
    "```\n",
    "{\n",
    "\"size\": \"small\",\n",
    "\"type\": \"normal\",\n",
    "\"ingredients\": [\"cheese\", \"tomato sauce\", \"peperoni\"]\n",
    "}\n",
    "```\n",
    "\n",
    "EXAMPLE:\n",
    "Can I get a large pizza with tomato sauce, basil and mozzarella\n",
    "JSON Response:\n",
    "```\n",
    "{\n",
    "\"size\": \"large\",\n",
    "\"type\": \"normal\",\n",
    "\"ingredients\": [\"tomato sauce\", \"basil\", \"mozzarella\"]\n",
    "}\n",
    "\n",
    "ORDER:\n",
    "\"\"\"\n",
    "\n",
    "customer_order = \"Give me a large with cheese & pineapple\"\n",
    "\n",
    "\n",
    "response = model.generate_content([few_shot_prompt, customer_order], request_options=retry_policy)\n",
    "print(response.text)"
   ]
  },
  {
   "cell_type": "code",
   "execution_count": 22,
   "id": "25b71625",
   "metadata": {
    "execution": {
     "iopub.execute_input": "2024-11-15T17:41:21.500882Z",
     "iopub.status.busy": "2024-11-15T17:41:21.500446Z",
     "iopub.status.idle": "2024-11-15T17:41:22.107486Z",
     "shell.execute_reply": "2024-11-15T17:41:22.106317Z"
    },
    "papermill": {
     "duration": 0.626692,
     "end_time": "2024-11-15T17:41:22.110022",
     "exception": false,
     "start_time": "2024-11-15T17:41:21.483330",
     "status": "completed"
    },
    "tags": []
   },
   "outputs": [
    {
     "name": "stdout",
     "output_type": "stream",
     "text": [
      "```json\n",
      "{\n",
      "  \"size\": \"medium\",\n",
      "  \"type\": \"normal\",\n",
      "  \"ingredients\": [\"fruits\", \"meat\"]\n",
      "}\n",
      "```\n",
      "\n"
     ]
    }
   ],
   "source": [
    "\n",
    "customer_order = \"Give me a medium with fruits & meat\"\n",
    "\n",
    "\n",
    "response = model.generate_content([few_shot_prompt, customer_order], request_options=retry_policy)\n",
    "print(response.text)"
   ]
  },
  {
   "cell_type": "markdown",
   "id": "94d9f3e6",
   "metadata": {
    "id": "021293096f08",
    "papermill": {
     "duration": 0.0154,
     "end_time": "2024-11-15T17:41:22.141295",
     "exception": false,
     "start_time": "2024-11-15T17:41:22.125895",
     "status": "completed"
    },
    "tags": []
   },
   "source": [
    "#### JSON mode\n",
    "\n",
    "To provide control over the schema, and to ensure that you only receive JSON (with no other text or markdown), you can use the Gemini API's [JSON mode](https://github.com/google-gemini/cookbook/blob/main/quickstarts/JSON_mode.ipynb). This forces the model to constrain decoding, such that token selection is guided by the supplied schema."
   ]
  },
  {
   "cell_type": "code",
   "execution_count": 23,
   "id": "f91340ba",
   "metadata": {
    "execution": {
     "iopub.execute_input": "2024-11-15T17:41:22.174916Z",
     "iopub.status.busy": "2024-11-15T17:41:22.174518Z",
     "iopub.status.idle": "2024-11-15T17:41:26.057685Z",
     "shell.execute_reply": "2024-11-15T17:41:26.056206Z"
    },
    "id": "50fbf0260912",
    "papermill": {
     "duration": 3.902673,
     "end_time": "2024-11-15T17:41:26.060109",
     "exception": false,
     "start_time": "2024-11-15T17:41:22.157436",
     "status": "completed"
    },
    "tags": []
   },
   "outputs": [
    {
     "name": "stdout",
     "output_type": "stream",
     "text": [
      "{\"ingredients\": [\"apple\", \"chocolate\"], \"size\": \"large\", \"type\": \"dessert pizza\"}\n",
      "\n"
     ]
    }
   ],
   "source": [
    "import typing_extensions as typing\n",
    "\n",
    "class PizzaOrder(typing.TypedDict):\n",
    "    size: str\n",
    "    ingredients: list[str]\n",
    "    type: str\n",
    "\n",
    "\n",
    "model = genai.GenerativeModel(\n",
    "    'gemini-1.5-flash-latest',\n",
    "    generation_config=genai.GenerationConfig(\n",
    "        temperature=0.1,\n",
    "        response_mime_type=\"application/json\",\n",
    "        response_schema=PizzaOrder,\n",
    "    ))\n",
    "\n",
    "response = model.generate_content(\"Can I have a large dessert pizza with apple and chocolate\")\n",
    "print(response.text)"
   ]
  },
  {
   "cell_type": "markdown",
   "id": "40dcba1d",
   "metadata": {
    "id": "4a93e338e57c",
    "papermill": {
     "duration": 0.015266,
     "end_time": "2024-11-15T17:41:26.091116",
     "exception": false,
     "start_time": "2024-11-15T17:41:26.075850",
     "status": "completed"
    },
    "tags": []
   },
   "source": [
    "### Chain of Thought (CoT)\n",
    "\n",
    "Direct prompting on LLMs can return answers quickly and (in terms of output token usage) efficiently, but they can be prone to hallucination. The answer may \"look\" correct (in terms of language and syntax) but is incorrect in terms of factuality and reasoning.\n",
    "\n",
    "Chain-of-Thought prompting is a technique where you instruct the model to output intermediate reasoning steps, and it typically gets better results, especially when combined with few-shot examples. It is worth noting that this technique doesn't completely eliminate hallucinations, and that it tends to cost more to run, due to the increased token count.\n",
    "\n",
    "As models like the Gemini family are trained to be \"chatty\" and provide reasoning steps, you can ask the model to be more direct in the prompt."
   ]
  },
  {
   "cell_type": "code",
   "execution_count": 24,
   "id": "d3db0878",
   "metadata": {
    "execution": {
     "iopub.execute_input": "2024-11-15T17:41:26.125940Z",
     "iopub.status.busy": "2024-11-15T17:41:26.125074Z",
     "iopub.status.idle": "2024-11-15T17:41:26.461199Z",
     "shell.execute_reply": "2024-11-15T17:41:26.459531Z"
    },
    "id": "5715555db1c1",
    "papermill": {
     "duration": 0.355437,
     "end_time": "2024-11-15T17:41:26.463614",
     "exception": false,
     "start_time": "2024-11-15T17:41:26.108177",
     "status": "completed"
    },
    "tags": []
   },
   "outputs": [
    {
     "name": "stdout",
     "output_type": "stream",
     "text": [
      "41\n",
      "\n"
     ]
    }
   ],
   "source": [
    "prompt = \"\"\"When I was 4 years old, my partner was 3 times my age. Now, I\n",
    "am 20 years old. How old is my partner? Return the answer directly.\"\"\"\n",
    "\n",
    "model = genai.GenerativeModel('gemini-1.5-flash-latest')\n",
    "response = model.generate_content(prompt, request_options=retry_policy)\n",
    "\n",
    "print(response.text) "
   ]
  },
  {
   "cell_type": "markdown",
   "id": "5f2bd5c2",
   "metadata": {
    "id": "e12b19677bfd",
    "papermill": {
     "duration": 0.015746,
     "end_time": "2024-11-15T17:41:26.495530",
     "exception": false,
     "start_time": "2024-11-15T17:41:26.479784",
     "status": "completed"
    },
    "tags": []
   },
   "source": [
    "Now try the same approach, but indicate to the model that it should \"think step by step\"."
   ]
  },
  {
   "cell_type": "code",
   "execution_count": 25,
   "id": "b24f7dea",
   "metadata": {
    "execution": {
     "iopub.execute_input": "2024-11-15T17:41:26.529799Z",
     "iopub.status.busy": "2024-11-15T17:41:26.529384Z",
     "iopub.status.idle": "2024-11-15T17:41:28.666052Z",
     "shell.execute_reply": "2024-11-15T17:41:28.664734Z"
    },
    "id": "ffd7536a481f",
    "papermill": {
     "duration": 2.156647,
     "end_time": "2024-11-15T17:41:28.668584",
     "exception": false,
     "start_time": "2024-11-15T17:41:26.511937",
     "status": "completed"
    },
    "tags": []
   },
   "outputs": [
    {
     "name": "stdout",
     "output_type": "stream",
     "text": [
      "Step 1: Find the partner's age when you were 4.\n",
      "\n",
      "* When you were 4, your partner was 3 times your age, so they were 3 * 4 = 12 years old.\n",
      "\n",
      "Step 2: Find the age difference between you and your partner.\n",
      "\n",
      "* The age difference is 12 - 4 = 8 years.\n",
      "\n",
      "Step 3: Determine your partner's current age.\n",
      "\n",
      "* You are now 20 years old.\n",
      "* Your partner is 8 years older than you.\n",
      "* Therefore, your partner is currently 20 + 8 = 28 years old.\n",
      "\n",
      "So the answer is $\\boxed{28}$\n",
      "\n"
     ]
    }
   ],
   "source": [
    "prompt = \"\"\"When I was 4 years old, my partner was 3 times my age. Now,\n",
    "I am 20 years old. How old is my partner? Let's think step by step.\"\"\"\n",
    "\n",
    "response = model.generate_content(prompt, request_options=retry_policy)\n",
    "print(response.text)"
   ]
  },
  {
   "cell_type": "markdown",
   "id": "bb95b631",
   "metadata": {
    "id": "oiLgBQJj0V53",
    "papermill": {
     "duration": 0.015728,
     "end_time": "2024-11-15T17:41:28.700363",
     "exception": false,
     "start_time": "2024-11-15T17:41:28.684635",
     "status": "completed"
    },
    "tags": []
   },
   "source": [
    "### ReAct: Reason and act\n",
    "\n",
    "In this example you will run a ReAct prompt directly in the Gemini API and perform the searching steps yourself. As this prompt follows a well-defined structure, there are frameworks available that wrap the prompt into easier-to-use APIs that make tool calls automatically, such as the LangChain example from the chapter.\n",
    "\n",
    "To try this out with the Wikipedia search engine, check out the [Searching Wikipedia with ReAct](https://github.com/google-gemini/cookbook/blob/main/examples/Search_Wikipedia_using_ReAct.ipynb) cookbook example.\n",
    "\n",
    "\n",
    "> Note: The prompt and in-context examples used here are from [https://github.com/ysymyth/ReAct](https://github.com/ysymyth/ReAct) which is published under a [MIT license](https://opensource.org/licenses/MIT), Copyright (c) 2023 Shunyu Yao.\n",
    "\n",
    "<table align=left>\n",
    "  <td>\n",
    "    <a target=\"_blank\" href=\"https://aistudio.google.com/prompts/18oo63Lwosd-bQ6Ay51uGogB3Wk3H8XMO\"><img src=\"https://ai.google.dev/site-assets/images/marketing/home/icon-ais.png\" style=\"height: 24px\" height=24/> Open in AI Studio</a>\n",
    "  </td>\n",
    "</table>\n"
   ]
  },
  {
   "cell_type": "code",
   "execution_count": 26,
   "id": "129db20f",
   "metadata": {
    "execution": {
     "iopub.execute_input": "2024-11-15T17:41:28.733990Z",
     "iopub.status.busy": "2024-11-15T17:41:28.733572Z",
     "iopub.status.idle": "2024-11-15T17:41:28.740625Z",
     "shell.execute_reply": "2024-11-15T17:41:28.739543Z"
    },
    "id": "cBgyNJ5z0VSs",
    "papermill": {
     "duration": 0.026563,
     "end_time": "2024-11-15T17:41:28.742747",
     "exception": false,
     "start_time": "2024-11-15T17:41:28.716184",
     "status": "completed"
    },
    "tags": []
   },
   "outputs": [],
   "source": [
    "model_instructions = \"\"\"\n",
    "Solve a question answering task with interleaving Thought, Action, Observation steps. Thought can reason about the current situation,\n",
    "Observation is understanding relevant information from an Action's output and Action can be one of three types:\n",
    " (1) <search>entity</search>, which searches the exact entity on Wikipedia and returns the first paragraph if it exists. If not, it\n",
    "     will return some similar entities to search and you can try to search the information from those topics.\n",
    " (2) <lookup>keyword</lookup>, which returns the next sentence containing keyword in the current context. This only does exact matches,\n",
    "     so keep your searches short.\n",
    " (3) <finish>answer</finish>, which returns the answer and finishes the task.\n",
    "\"\"\"\n",
    "\n",
    "example1 = \"\"\"Question\n",
    "Musician and satirist Allie Goertz wrote a song about the \"The Simpsons\" character Milhouse, who Matt Groening named after who?\n",
    "\n",
    "Thought 1\n",
    "The question simplifies to \"The Simpsons\" character Milhouse is named after who. I only need to search Milhouse and find who it is named after.\n",
    "\n",
    "Action 1\n",
    "<search>Milhouse</search>\n",
    "\n",
    "Observation 1\n",
    "Milhouse Mussolini Van Houten is a recurring character in the Fox animated television series The Simpsons voiced by Pamela Hayden and created by Matt Groening.\n",
    "\n",
    "Thought 2\n",
    "The paragraph does not tell who Milhouse is named after, maybe I can look up \"named after\".\n",
    "\n",
    "Action 2\n",
    "<lookup>named after</lookup>\n",
    "\n",
    "Observation 2\n",
    "Milhouse was named after U.S. president Richard Nixon, whose middle name was Milhous.\n",
    "\n",
    "Thought 3\n",
    "Milhouse was named after U.S. president Richard Nixon, so the answer is Richard Nixon.\n",
    "\n",
    "Action 3\n",
    "<finish>Richard Nixon</finish>\n",
    "\"\"\"\n",
    "\n",
    "example2 = \"\"\"Question\n",
    "What is the elevation range for the area that the eastern sector of the Colorado orogeny extends into?\n",
    "\n",
    "Thought 1\n",
    "I need to search Colorado orogeny, find the area that the eastern sector of the Colorado orogeny extends into, then find the elevation range of the area.\n",
    "\n",
    "Action 1\n",
    "<search>Colorado orogeny</search>\n",
    "\n",
    "Observation 1\n",
    "The Colorado orogeny was an episode of mountain building (an orogeny) in Colorado and surrounding areas.\n",
    "\n",
    "Thought 2\n",
    "It does not mention the eastern sector. So I need to look up eastern sector.\n",
    "\n",
    "Action 2\n",
    "<lookup>eastern sector</lookup>\n",
    "\n",
    "Observation 2\n",
    "The eastern sector extends into the High Plains and is called the Central Plains orogeny.\n",
    "\n",
    "Thought 3\n",
    "The eastern sector of Colorado orogeny extends into the High Plains. So I need to search High Plains and find its elevation range.\n",
    "\n",
    "Action 3\n",
    "<search>High Plains</search>\n",
    "\n",
    "Observation 3\n",
    "High Plains refers to one of two distinct land regions\n",
    "\n",
    "Thought 4\n",
    "I need to instead search High Plains (United States).\n",
    "\n",
    "Action 4\n",
    "<search>High Plains (United States)</search>\n",
    "\n",
    "Observation 4\n",
    "The High Plains are a subregion of the Great Plains. From east to west, the High Plains rise in elevation from around 1,800 to 7,000 ft (550 to 2,130m).\n",
    "\n",
    "Thought 5\n",
    "High Plains rise in elevation from around 1,800 to 7,000 ft, so the answer is 1,800 to 7,000 ft.\n",
    "\n",
    "Action 5\n",
    "<finish>1,800 to 7,000 ft</finish>\n",
    "\"\"\"\n",
    "\n",
    "# Come up with more examples yourself, or take a look through https://github.com/ysymyth/ReAct/"
   ]
  },
  {
   "cell_type": "markdown",
   "id": "a660dc0f",
   "metadata": {
    "id": "C3wbfstjTgey",
    "papermill": {
     "duration": 0.015401,
     "end_time": "2024-11-15T17:41:28.774027",
     "exception": false,
     "start_time": "2024-11-15T17:41:28.758626",
     "status": "completed"
    },
    "tags": []
   },
   "source": [
    "To capture a single step at a time, while ignoring any hallucinated Observation steps, you will use `stop_sequences` to end the generation process. The steps are `Thought`, `Action`, `Observation`, in that order."
   ]
  },
  {
   "cell_type": "code",
   "execution_count": 27,
   "id": "0f88d379",
   "metadata": {
    "execution": {
     "iopub.execute_input": "2024-11-15T17:41:28.807793Z",
     "iopub.status.busy": "2024-11-15T17:41:28.807409Z",
     "iopub.status.idle": "2024-11-15T17:41:32.616965Z",
     "shell.execute_reply": "2024-11-15T17:41:32.615924Z"
    },
    "id": "8mxrXRkRTdXm",
    "papermill": {
     "duration": 3.829561,
     "end_time": "2024-11-15T17:41:32.619320",
     "exception": false,
     "start_time": "2024-11-15T17:41:28.789759",
     "status": "completed"
    },
    "tags": []
   },
   "outputs": [
    {
     "name": "stdout",
     "output_type": "stream",
     "text": [
      "Thought 1\n",
      "I need to find the Transformers NLP paper and then identify the authors and their ages to find the youngest.  This will require multiple steps.  First, I need to find the paper.\n",
      "\n",
      "Action 1\n",
      "<search>Transformers NLP paper</search>\n",
      "\n"
     ]
    }
   ],
   "source": [
    "question = \"\"\"Question\n",
    "Who was the youngest author listed on the transformers NLP paper?\n",
    "\"\"\"\n",
    "\n",
    "model = genai.GenerativeModel('gemini-1.5-flash-latest')\n",
    "react_chat = model.start_chat()\n",
    "\n",
    "# You will perform the Action, so generate up to, but not including, the Observation.\n",
    "config = genai.GenerationConfig(stop_sequences=[\"\\nObservation\"])\n",
    "\n",
    "resp = react_chat.send_message(\n",
    "    [model_instructions, example1, example2, question],\n",
    "    generation_config=config,\n",
    "    request_options=retry_policy)\n",
    "print(resp.text)"
   ]
  },
  {
   "cell_type": "markdown",
   "id": "4070262b",
   "metadata": {
    "id": "aW2PIdLbVv3l",
    "papermill": {
     "duration": 0.016157,
     "end_time": "2024-11-15T17:41:32.651615",
     "exception": false,
     "start_time": "2024-11-15T17:41:32.635458",
     "status": "completed"
    },
    "tags": []
   },
   "source": [
    "Now you can perform this research yourself and supply it back to the model."
   ]
  },
  {
   "cell_type": "code",
   "execution_count": 28,
   "id": "7de2ee75",
   "metadata": {
    "execution": {
     "iopub.execute_input": "2024-11-15T17:41:32.686049Z",
     "iopub.status.busy": "2024-11-15T17:41:32.685054Z",
     "iopub.status.idle": "2024-11-15T17:41:33.590593Z",
     "shell.execute_reply": "2024-11-15T17:41:33.589231Z"
    },
    "id": "mLMc0DZaV9g2",
    "papermill": {
     "duration": 0.92525,
     "end_time": "2024-11-15T17:41:33.592986",
     "exception": false,
     "start_time": "2024-11-15T17:41:32.667736",
     "status": "completed"
    },
    "tags": []
   },
   "outputs": [
    {
     "name": "stdout",
     "output_type": "stream",
     "text": [
      "Thought 2:\n",
      "The observation gives me the authors of the paper \"Attention is All You Need\". I need to find their ages to determine the youngest.  I can't directly get ages from this information.  This will likely require external resources or further searching.  A simple approach may be to search each author individually.\n",
      "\n",
      "\n",
      "Action 2:\n",
      "Let's start with the first author. <search>Ashish Vaswani age</search>\n",
      "\n",
      "\n",
      "\n"
     ]
    }
   ],
   "source": [
    "observation = \"\"\"Observation 1\n",
    "[1706.03762] Attention Is All You Need\n",
    "Ashish Vaswani, Noam Shazeer, Niki Parmar, Jakob Uszkoreit, Llion Jones, Aidan N. Gomez, Lukasz Kaiser, Illia Polosukhin\n",
    "We propose a new simple network architecture, the Transformer, based solely on attention mechanisms, dispensing with recurrence and convolutions entirely.\n",
    "\"\"\"\n",
    "resp = react_chat.send_message(observation, generation_config=config, request_options=retry_policy)\n",
    "print(resp.text)"
   ]
  },
  {
   "cell_type": "markdown",
   "id": "8adc1144",
   "metadata": {
    "id": "bo0tzf4nX6dA",
    "papermill": {
     "duration": 0.016142,
     "end_time": "2024-11-15T17:41:33.625421",
     "exception": false,
     "start_time": "2024-11-15T17:41:33.609279",
     "status": "completed"
    },
    "tags": []
   },
   "source": [
    "This process repeats until the `<finish>` action is reached. You can continue running this yourself if you like, or try the [Wikipedia example](https://github.com/google-gemini/cookbook/blob/main/examples/Search_Wikipedia_using_ReAct.ipynb) to see a fully automated ReAct system at work."
   ]
  },
  {
   "cell_type": "markdown",
   "id": "09e98d06",
   "metadata": {
    "id": "jPiZ_eIIaVPt",
    "papermill": {
     "duration": 0.016438,
     "end_time": "2024-11-15T17:41:33.657937",
     "exception": false,
     "start_time": "2024-11-15T17:41:33.641499",
     "status": "completed"
    },
    "tags": []
   },
   "source": [
    "## Code prompting"
   ]
  },
  {
   "cell_type": "markdown",
   "id": "6c6629f9",
   "metadata": {
    "id": "ZinKamwXeR6C",
    "papermill": {
     "duration": 0.015628,
     "end_time": "2024-11-15T17:41:33.689481",
     "exception": false,
     "start_time": "2024-11-15T17:41:33.673853",
     "status": "completed"
    },
    "tags": []
   },
   "source": [
    "### Generating code\n",
    "\n",
    "The Gemini family of models can be used to generate code, configuration and scripts. Generating code can be helpful when learning to code, learning a new language or for rapidly generating a first draft.\n",
    "\n",
    "It's important to be aware that since LLMs can't reason, and can repeat training data, it's essential to read and test your code first, and comply with any relevant licenses.\n",
    "\n",
    "<table align=left>\n",
    "  <td>\n",
    "    <a target=\"_blank\" href=\"https://aistudio.google.com/prompts/1YX71JGtzDjXQkgdes8bP6i3oH5lCRKxv\"><img src=\"https://ai.google.dev/site-assets/images/marketing/home/icon-ais.png\" style=\"height: 24px\" height=24/> Open in AI Studio</a>\n",
    "  </td>\n",
    "</table>"
   ]
  },
  {
   "cell_type": "code",
   "execution_count": 29,
   "id": "27fb2599",
   "metadata": {
    "execution": {
     "iopub.execute_input": "2024-11-15T17:41:33.723861Z",
     "iopub.status.busy": "2024-11-15T17:41:33.723044Z",
     "iopub.status.idle": "2024-11-15T17:41:34.327068Z",
     "shell.execute_reply": "2024-11-15T17:41:34.325762Z"
    },
    "id": "fOQP9pqmeUO1",
    "papermill": {
     "duration": 0.624653,
     "end_time": "2024-11-15T17:41:34.330056",
     "exception": false,
     "start_time": "2024-11-15T17:41:33.705403",
     "status": "completed"
    },
    "tags": []
   },
   "outputs": [
    {
     "data": {
      "text/markdown": [
       "```python\n",
       "def factorial(n):\n",
       "  if n == 0:\n",
       "    return 1\n",
       "  else:\n",
       "    return n * factorial(n-1)\n",
       "```\n"
      ],
      "text/plain": [
       "<IPython.core.display.Markdown object>"
      ]
     },
     "execution_count": 29,
     "metadata": {},
     "output_type": "execute_result"
    }
   ],
   "source": [
    "model = genai.GenerativeModel(\n",
    "    'gemini-1.5-flash-latest',\n",
    "    generation_config=genai.GenerationConfig(\n",
    "        temperature=1,\n",
    "        top_p=1,\n",
    "        max_output_tokens=1024,\n",
    "    ))\n",
    "\n",
    "# Gemini 1.5 models are very chatty, so it helps to specify they stick to the code.\n",
    "code_prompt = \"\"\"\n",
    "Write a Python function to calculate the factorial of a number. No explanation, provide only the code.\n",
    "\"\"\"\n",
    "\n",
    "response = model.generate_content(code_prompt, request_options=retry_policy)\n",
    "Markdown(response.text)"
   ]
  },
  {
   "cell_type": "code",
   "execution_count": 30,
   "id": "61a3440b",
   "metadata": {
    "execution": {
     "iopub.execute_input": "2024-11-15T17:41:34.365852Z",
     "iopub.status.busy": "2024-11-15T17:41:34.365351Z",
     "iopub.status.idle": "2024-11-15T17:41:34.939047Z",
     "shell.execute_reply": "2024-11-15T17:41:34.937933Z"
    },
    "papermill": {
     "duration": 0.595645,
     "end_time": "2024-11-15T17:41:34.942363",
     "exception": false,
     "start_time": "2024-11-15T17:41:34.346718",
     "status": "completed"
    },
    "tags": []
   },
   "outputs": [
    {
     "data": {
      "text/markdown": [
       "```python\n",
       "def gcf(a, b):\n",
       "    while(b):\n",
       "        a, b = b, a % b\n",
       "    return a\n",
       "```\n"
      ],
      "text/plain": [
       "<IPython.core.display.Markdown object>"
      ]
     },
     "execution_count": 30,
     "metadata": {},
     "output_type": "execute_result"
    }
   ],
   "source": [
    "code_prompt = \"\"\"\n",
    "Write a Python function to calculate the GCF of numbers. No explanation, provide only the code.\n",
    "\"\"\"\n",
    "\n",
    "response = model.generate_content(code_prompt, request_options=retry_policy)\n",
    "Markdown(response.text)"
   ]
  },
  {
   "cell_type": "markdown",
   "id": "94c1e349",
   "metadata": {
    "id": "wlBMWSFhgVRQ",
    "papermill": {
     "duration": 0.016498,
     "end_time": "2024-11-15T17:41:34.981263",
     "exception": false,
     "start_time": "2024-11-15T17:41:34.964765",
     "status": "completed"
    },
    "tags": []
   },
   "source": [
    "### Code execution\n",
    "\n",
    "The Gemini API can automatically run generated code too, and will return the output.\n",
    "\n",
    "<table align=left>\n",
    "  <td>\n",
    "    <a target=\"_blank\" href=\"https://aistudio.google.com/prompts/11veFr_VYEwBWcLkhNLr-maCG0G8sS_7Z\"><img src=\"https://ai.google.dev/site-assets/images/marketing/home/icon-ais.png\" style=\"height: 24px\" height=24/> Open in AI Studio</a>\n",
    "  </td>\n",
    "</table>"
   ]
  },
  {
   "cell_type": "code",
   "execution_count": 31,
   "id": "db67e937",
   "metadata": {
    "execution": {
     "iopub.execute_input": "2024-11-15T17:41:35.024260Z",
     "iopub.status.busy": "2024-11-15T17:41:35.023717Z",
     "iopub.status.idle": "2024-11-15T17:41:38.945467Z",
     "shell.execute_reply": "2024-11-15T17:41:38.944223Z"
    },
    "id": "jT3OfWYfhjRL",
    "papermill": {
     "duration": 3.950681,
     "end_time": "2024-11-15T17:41:38.948408",
     "exception": false,
     "start_time": "2024-11-15T17:41:34.997727",
     "status": "completed"
    },
    "tags": []
   },
   "outputs": [
    {
     "data": {
      "text/markdown": [
       "To calculate the sum of the first 14 odd prime numbers, I will first identify the first 14 odd prime numbers and then compute their sum.  Prime numbers are whole numbers greater than 1 that have only two divisors: 1 and themselves.  Odd prime numbers are prime numbers that are not divisible by 2.\n",
       "\n",
       "\n",
       "``` python\n",
       "def is_prime(n):\n",
       "    \"\"\"Checks if a number is prime.\"\"\"\n",
       "    if n <= 1:\n",
       "        return False\n",
       "    if n <= 3:\n",
       "        return True\n",
       "    if n % 2 == 0 or n % 3 == 0:\n",
       "        return False\n",
       "    i = 5\n",
       "    while i * i <= n:\n",
       "        if n % i == 0 or n % (i + 2) == 0:\n",
       "            return False\n",
       "        i += 6\n",
       "    return True\n",
       "\n",
       "count = 0\n",
       "number = 1\n",
       "primes = []\n",
       "while count < 14:\n",
       "    number += 2 #start from 3, increment by 2 to only check odd numbers.\n",
       "    if is_prime(number):\n",
       "        primes.append(number)\n",
       "        count += 1\n",
       "\n",
       "print(f'{primes=}')\n",
       "print(f'{sum(primes)=}')\n",
       "\n",
       "```\n",
       "```\n",
       "primes=[3, 5, 7, 11, 13, 17, 19, 23, 29, 31, 37, 41, 43, 47]\n",
       "sum(primes)=326\n",
       "\n",
       "```\n",
       "The first 14 odd prime numbers are 3, 5, 7, 11, 13, 17, 19, 23, 29, 31, 37, 41, 43, and 47.  Their sum is 326.\n"
      ],
      "text/plain": [
       "<IPython.core.display.Markdown object>"
      ]
     },
     "execution_count": 31,
     "metadata": {},
     "output_type": "execute_result"
    }
   ],
   "source": [
    "model = genai.GenerativeModel(\n",
    "    'gemini-1.5-flash-latest',\n",
    "    tools='code_execution',)\n",
    "\n",
    "code_exec_prompt = \"\"\"\n",
    "Calculate the sum of the first 14 prime numbers. Only consider the odd primes, and make sure you count them all.\n",
    "\"\"\"\n",
    "\n",
    "response = model.generate_content(code_exec_prompt, request_options=retry_policy)\n",
    "Markdown(response.text)"
   ]
  },
  {
   "cell_type": "code",
   "execution_count": 32,
   "id": "77074d94",
   "metadata": {
    "execution": {
     "iopub.execute_input": "2024-11-15T17:41:38.983795Z",
     "iopub.status.busy": "2024-11-15T17:41:38.982816Z",
     "iopub.status.idle": "2024-11-15T17:41:41.288880Z",
     "shell.execute_reply": "2024-11-15T17:41:41.287577Z"
    },
    "papermill": {
     "duration": 2.326242,
     "end_time": "2024-11-15T17:41:41.291200",
     "exception": false,
     "start_time": "2024-11-15T17:41:38.964958",
     "status": "completed"
    },
    "tags": []
   },
   "outputs": [
    {
     "data": {
      "text/markdown": [
       "To calculate the sum of the first 10 odd numbers, we can use a simple formula or a loop.  Let's use a loop for clarity.\n",
       "\n",
       "The first 10 odd numbers are 1, 3, 5, 7, 9, 11, 13, 15, 17, 19.\n",
       "\n",
       "Here's a Python implementation:\n",
       "\n",
       "\n",
       "``` python\n",
       "odd_numbers = []\n",
       "for i in range(1, 21, 2):  # Generate the first 10 odd numbers\n",
       "    odd_numbers.append(i)\n",
       "\n",
       "sum_of_odds = sum(odd_numbers)\n",
       "print(f\"The first 10 odd numbers are: {odd_numbers}\")\n",
       "print(f\"Their sum is: {sum_of_odds}\")\n",
       "\n",
       "\n",
       "```\n",
       "```\n",
       "The first 10 odd numbers are: [1, 3, 5, 7, 9, 11, 13, 15, 17, 19]\n",
       "Their sum is: 100\n",
       "\n",
       "```\n",
       "The sum of the first 10 odd numbers is 100.  The Python code above clearly demonstrates this.\n"
      ],
      "text/plain": [
       "<IPython.core.display.Markdown object>"
      ]
     },
     "execution_count": 32,
     "metadata": {},
     "output_type": "execute_result"
    }
   ],
   "source": [
    "code_exec_prompt = \"\"\"\n",
    "Calculate the sum of the first 10 odd numbers. Only consider the odd numbers, and make sure you count them all.\n",
    "\"\"\"\n",
    "\n",
    "response = model.generate_content(code_exec_prompt, request_options=retry_policy)\n",
    "Markdown(response.text)"
   ]
  },
  {
   "cell_type": "markdown",
   "id": "3efd154a",
   "metadata": {
    "id": "ZspT1GSkjG6d",
    "papermill": {
     "duration": 0.016295,
     "end_time": "2024-11-15T17:41:41.324354",
     "exception": false,
     "start_time": "2024-11-15T17:41:41.308059",
     "status": "completed"
    },
    "tags": []
   },
   "source": [
    "While this looks like a single-part response, you can inspect the response to see the each of the steps: initial text, code generation, execution results, and final text summary."
   ]
  },
  {
   "cell_type": "code",
   "execution_count": 33,
   "id": "e0bb8ff9",
   "metadata": {
    "execution": {
     "iopub.execute_input": "2024-11-15T17:41:41.359317Z",
     "iopub.status.busy": "2024-11-15T17:41:41.358886Z",
     "iopub.status.idle": "2024-11-15T17:41:41.365076Z",
     "shell.execute_reply": "2024-11-15T17:41:41.364055Z"
    },
    "id": "j4gQVzcRjRX-",
    "papermill": {
     "duration": 0.026483,
     "end_time": "2024-11-15T17:41:41.367490",
     "exception": false,
     "start_time": "2024-11-15T17:41:41.341007",
     "status": "completed"
    },
    "tags": []
   },
   "outputs": [
    {
     "name": "stdout",
     "output_type": "stream",
     "text": [
      "text: \"To calculate the sum of the first 10 odd numbers, we can use a simple formula or a loop.  Let\\'s use a loop for clarity.\\n\\nThe first 10 odd numbers are 1, 3, 5, 7, 9, 11, 13, 15, 17, 19.\\n\\nHere\\'s a Python implementation:\\n\\n\"\n",
      "\n",
      "-----\n",
      "executable_code {\n",
      "  language: PYTHON\n",
      "  code: \"\\nodd_numbers = []\\nfor i in range(1, 21, 2):  # Generate the first 10 odd numbers\\n    odd_numbers.append(i)\\n\\nsum_of_odds = sum(odd_numbers)\\nprint(f\\\"The first 10 odd numbers are: {odd_numbers}\\\")\\nprint(f\\\"Their sum is: {sum_of_odds}\\\")\\n\\n\"\n",
      "}\n",
      "\n",
      "-----\n",
      "code_execution_result {\n",
      "  outcome: OUTCOME_OK\n",
      "  output: \"The first 10 odd numbers are: [1, 3, 5, 7, 9, 11, 13, 15, 17, 19]\\nTheir sum is: 100\\n\"\n",
      "}\n",
      "\n",
      "-----\n",
      "text: \"The sum of the first 10 odd numbers is 100.  The Python code above clearly demonstrates this.\\n\"\n",
      "\n",
      "-----\n"
     ]
    }
   ],
   "source": [
    "for part in response.candidates[0].content.parts:\n",
    "  print(part)\n",
    "  print(\"-----\")"
   ]
  },
  {
   "cell_type": "markdown",
   "id": "e2ee6a5c",
   "metadata": {
    "id": "1gUX8QzCj4d5",
    "papermill": {
     "duration": 0.016258,
     "end_time": "2024-11-15T17:41:41.401166",
     "exception": false,
     "start_time": "2024-11-15T17:41:41.384908",
     "status": "completed"
    },
    "tags": []
   },
   "source": [
    "### Explaining code\n",
    "\n",
    "The Gemini family of models can explain code to you too.\n",
    "\n",
    "<table align=left>\n",
    "  <td>\n",
    "    <a target=\"_blank\" href=\"https://aistudio.google.com/prompts/1N7LGzWzCYieyOf_7bAG4plrmkpDNmUyb\"><img src=\"https://ai.google.dev/site-assets/images/marketing/home/icon-ais.png\" style=\"height: 24px\" height=24/> Open in AI Studio</a>\n",
    "  </td>\n",
    "</table>"
   ]
  },
  {
   "cell_type": "code",
   "execution_count": 34,
   "id": "77c18dc5",
   "metadata": {
    "execution": {
     "iopub.execute_input": "2024-11-15T17:41:41.436040Z",
     "iopub.status.busy": "2024-11-15T17:41:41.435634Z",
     "iopub.status.idle": "2024-11-15T17:41:44.125270Z",
     "shell.execute_reply": "2024-11-15T17:41:44.123957Z"
    },
    "id": "7_jPMMoxkIEb",
    "papermill": {
     "duration": 2.710165,
     "end_time": "2024-11-15T17:41:44.127861",
     "exception": false,
     "start_time": "2024-11-15T17:41:41.417696",
     "status": "completed"
    },
    "tags": []
   },
   "outputs": [
    {
     "data": {
      "text/markdown": [
       "This file is a Bash script that enhances your shell prompt to display information about your Git repository.  In essence, it's a **Git prompt customization script**.\n",
       "\n",
       "You would use it to:\n",
       "\n",
       "* **Improve your Git workflow:** By showing your current branch, status (changes, conflicts, etc.), and other relevant Git information directly in your shell prompt, you get a quick overview of your repository's state without needing to run `git status` every time.\n",
       "\n",
       "* **Customize your prompt's appearance:** The script supports themes (color schemes) and allows you to create your own custom themes, tailoring the look and feel of the Git information displayed.\n",
       "\n",
       "* **Increase efficiency:**  The constant visual feedback from the prompt saves you time and keystrokes.\n",
       "\n",
       "The script achieves this by defining a number of functions that:\n",
       "\n",
       "1. **Detect Git repositories:** It checks if the current directory is within a Git repository.\n",
       "2. **Fetch Git status:** It efficiently retrieves the relevant Git status information.\n",
       "3. **Format the output:**  It formats the information according to the chosen theme and configuration options.\n",
       "4. **Integrates with the shell prompt:** It modifies the `PS1` variable (which controls the prompt appearance) to include the Git information.\n",
       "\n",
       "In short, it's a power tool for Git users who want a more informative and visually appealing shell experience.\n"
      ],
      "text/plain": [
       "<IPython.core.display.Markdown object>"
      ]
     },
     "execution_count": 34,
     "metadata": {},
     "output_type": "execute_result"
    }
   ],
   "source": [
    "file_contents = !curl https://raw.githubusercontent.com/magicmonty/bash-git-prompt/refs/heads/master/gitprompt.sh\n",
    "\n",
    "explain_prompt = f\"\"\"\n",
    "Please explain what this file does at a very high level. What is it, and why would I use it?\n",
    "\n",
    "```\n",
    "{file_contents}\n",
    "```\n",
    "\"\"\"\n",
    "\n",
    "model = genai.GenerativeModel('gemini-1.5-flash-latest')\n",
    "\n",
    "response = model.generate_content(explain_prompt, request_options=retry_policy)\n",
    "Markdown(response.text)"
   ]
  },
  {
   "cell_type": "markdown",
   "id": "08cf26f8",
   "metadata": {
    "id": "2a8266d97ce5",
    "papermill": {
     "duration": 0.016913,
     "end_time": "2024-11-15T17:41:44.162243",
     "exception": false,
     "start_time": "2024-11-15T17:41:44.145330",
     "status": "completed"
    },
    "tags": []
   },
   "source": [
    "## Learn more\n",
    "\n",
    "To learn more about prompting in depth:\n",
    "\n",
    "* Check out the whitepaper issued with today's content,\n",
    "* Try out the apps listed at the top of this notebook ([TextFX](https://textfx.withgoogle.com/), [SQL Talk](https://sql-talk-r5gdynozbq-uc.a.run.app/) and [NotebookLM](https://notebooklm.google/)),\n",
    "* Read the [Introduction to Prompting](https://ai.google.dev/gemini-api/docs/prompting-intro) from the Gemini API docs,\n",
    "* Explore the Gemini API's [prompt gallery](https://ai.google.dev/gemini-api/prompts) and try them out in AI Studio,\n",
    "* Check out the Gemini API cookbook for [inspirational examples](https://github.com/google-gemini/cookbook/blob/main/examples/) and [educational quickstarts](https://github.com/google-gemini/cookbook/blob/main/quickstarts/).\n",
    "\n",
    "And please share anything exciting you have tried in the Discord!"
   ]
  }
 ],
 "metadata": {
  "colab": {
   "name": "day-1-prompting.ipynb",
   "toc_visible": true
  },
  "kaggle": {
   "accelerator": "none",
   "dataSources": [],
   "dockerImageVersionId": 30786,
   "isGpuEnabled": false,
   "isInternetEnabled": true,
   "language": "python",
   "sourceType": "notebook"
  },
  "kernelspec": {
   "display_name": "Python 3",
   "language": "python",
   "name": "python3"
  },
  "language_info": {
   "codemirror_mode": {
    "name": "ipython",
    "version": 3
   },
   "file_extension": ".py",
   "mimetype": "text/x-python",
   "name": "python",
   "nbconvert_exporter": "python",
   "pygments_lexer": "ipython3",
   "version": "3.10.14"
  },
  "papermill": {
   "default_parameters": {},
   "duration": 787.33671,
   "end_time": "2024-11-15T17:41:44.802644",
   "environment_variables": {},
   "exception": null,
   "input_path": "__notebook__.ipynb",
   "output_path": "__notebook__.ipynb",
   "parameters": {},
   "start_time": "2024-11-15T17:28:37.465934",
   "version": "2.6.0"
  }
 },
 "nbformat": 4,
 "nbformat_minor": 5
}
