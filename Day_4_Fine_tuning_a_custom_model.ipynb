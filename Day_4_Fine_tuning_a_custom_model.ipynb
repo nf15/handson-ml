{
  "metadata": {
    "kernelspec": {
      "name": "python3",
      "display_name": "Python 3",
      "language": "python"
    },
    "language_info": {
      "name": "python",
      "version": "3.10.14",
      "mimetype": "text/x-python",
      "codemirror_mode": {
        "name": "ipython",
        "version": 3
      },
      "pygments_lexer": "ipython3",
      "nbconvert_exporter": "python",
      "file_extension": ".py"
    },
    "colab": {
      "toc_visible": true,
      "name": "Day 4 - Fine tuning a custom model",
      "provenance": [],
      "include_colab_link": true
    },
    "kaggle": {
      "accelerator": "none",
      "dataSources": [],
      "dockerImageVersionId": 30786,
      "isInternetEnabled": true,
      "language": "python",
      "sourceType": "notebook",
      "isGpuEnabled": false
    }
  },
  "nbformat_minor": 0,
  "nbformat": 4,
  "cells": [
    {
      "cell_type": "markdown",
      "metadata": {
        "id": "view-in-github",
        "colab_type": "text"
      },
      "source": [
        "<a href=\"https://colab.research.google.com/github/nf15/handson-ml/blob/master/Day_4_Fine_tuning_a_custom_model.ipynb\" target=\"_parent\"><img src=\"https://colab.research.google.com/assets/colab-badge.svg\" alt=\"Open In Colab\"/></a>"
      ]
    },
    {
      "cell_type": "markdown",
      "source": [
        "##### Copyright 2024 Google LLC."
      ],
      "metadata": {
        "id": "b6e13eef3f5d"
      }
    },
    {
      "cell_type": "code",
      "source": [
        "# @title Licensed under the Apache License, Version 2.0 (the \"License\");\n",
        "# you may not use this file except in compliance with the License.\n",
        "# You may obtain a copy of the License at\n",
        "#\n",
        "# https://www.apache.org/licenses/LICENSE-2.0\n",
        "#\n",
        "# Unless required by applicable law or agreed to in writing, software\n",
        "# distributed under the License is distributed on an \"AS IS\" BASIS,\n",
        "# WITHOUT WARRANTIES OR CONDITIONS OF ANY KIND, either express or implied.\n",
        "# See the License for the specific language governing permissions and\n",
        "# limitations under the License."
      ],
      "metadata": {
        "cellView": "form",
        "id": "d6597b11df14",
        "execution": {
          "iopub.status.busy": "2024-11-14T03:23:58.909404Z",
          "iopub.execute_input": "2024-11-14T03:23:58.909977Z",
          "iopub.status.idle": "2024-11-14T03:23:58.933914Z",
          "shell.execute_reply.started": "2024-11-14T03:23:58.909929Z",
          "shell.execute_reply": "2024-11-14T03:23:58.932716Z"
        },
        "jupyter": {
          "source_hidden": true
        },
        "trusted": true
      },
      "execution_count": null,
      "outputs": []
    },
    {
      "cell_type": "markdown",
      "source": [
        "# Day 4 - Fine tuning a custom model\n",
        "\n",
        "Welcome back to the Kaggle 5-day Generative AI course!\n",
        "\n",
        "In this notebook you will use the Gemini API to fine-tune a custom, task-specific model. Fine-tuning can be used for a variety of tasks from classic NLP problems like entity extraction or summarisation, to creative tasks like stylised generation. You will fine-tune a model to classify the category a piece of text (a newsgroup post) into the category it belongs to (the newsgroup name).\n",
        "\n",
        "This codelab walks you tuning a model with the API. [AI Studio](https://aistudio.google.com/app/tune) also supports creating new tuned models directly in the web UI, allowing you to quickly create and monitor models using data from Google Sheets, Drive or your own files."
      ],
      "metadata": {
        "id": "4KDIFPAL2EnL"
      }
    },
    {
      "cell_type": "code",
      "source": [
        "%pip install -U -q 'google-generativeai>=0.8.3'"
      ],
      "metadata": {
        "id": "9wafTyEH1_xF",
        "execution": {
          "iopub.status.busy": "2024-11-15T22:23:20.70469Z",
          "iopub.execute_input": "2024-11-15T22:23:20.705135Z",
          "iopub.status.idle": "2024-11-15T22:23:32.211972Z",
          "shell.execute_reply.started": "2024-11-15T22:23:20.705081Z",
          "shell.execute_reply": "2024-11-15T22:23:32.210513Z"
        },
        "trusted": true,
        "outputId": "8c8b83ad-7577-4439-fcb5-0eff3a6a916a"
      },
      "execution_count": null,
      "outputs": [
        {
          "name": "stdout",
          "text": "Note: you may need to restart the kernel to use updated packages.\n",
          "output_type": "stream"
        }
      ]
    },
    {
      "cell_type": "markdown",
      "source": [
        "Note that you do not have to restart the kernel."
      ],
      "metadata": {
        "id": "XrS96qRIhft8"
      }
    },
    {
      "cell_type": "code",
      "source": [
        "import google.generativeai as genai"
      ],
      "metadata": {
        "id": "T0CBG9xL2PvT",
        "execution": {
          "iopub.status.busy": "2024-11-15T22:23:45.737442Z",
          "iopub.execute_input": "2024-11-15T22:23:45.73832Z",
          "iopub.status.idle": "2024-11-15T22:23:46.835359Z",
          "shell.execute_reply.started": "2024-11-15T22:23:45.738273Z",
          "shell.execute_reply": "2024-11-15T22:23:46.83431Z"
        },
        "trusted": true
      },
      "execution_count": null,
      "outputs": []
    },
    {
      "cell_type": "markdown",
      "source": [
        "### Set up your API key\n",
        "\n",
        "To run the following cell, your API key must be stored it in a [Kaggle secret](https://www.kaggle.com/discussions/product-feedback/114053) named `GOOGLE_API_KEY`.\n",
        "\n",
        "If you don't already have an API key, you can grab one from [AI Studio](https://aistudio.google.com/app/apikey). You can find [detailed instructions in the docs](https://ai.google.dev/gemini-api/docs/api-key).\n",
        "\n",
        "To make the key available through Kaggle secrets, choose `Secrets` from the `Add-ons` menu and follow the instructions to add your key or enable it for this notebook."
      ],
      "metadata": {
        "id": "P4bYX2T72ScK"
      }
    },
    {
      "cell_type": "code",
      "source": [
        "from kaggle_secrets import UserSecretsClient\n",
        "\n",
        "GOOGLE_API_KEY = UserSecretsClient().get_secret(\"GOOGLE_API_KEY\")\n",
        "genai.configure(api_key=GOOGLE_API_KEY)"
      ],
      "metadata": {
        "id": "VuJPY3GK2SLZ",
        "execution": {
          "iopub.status.idle": "2024-11-15T22:25:32.112852Z",
          "shell.execute_reply.started": "2024-11-15T22:25:31.95652Z",
          "shell.execute_reply": "2024-11-15T22:25:32.111758Z"
        },
        "trusted": true
      },
      "execution_count": null,
      "outputs": []
    },
    {
      "cell_type": "markdown",
      "source": [
        "If you received an error response along the lines of `No user secrets exist for kernel id ...`, then you need to add your API key via `Add-ons`, `Secrets` **and** enable it.\n",
        "\n",
        "![Screenshot of the checkbox to enable GOOGLE_API_KEY secret](https://storage.googleapis.com/kaggle-media/Images/5gdai_sc_3.png)"
      ],
      "metadata": {
        "id": "25b2127c2052"
      }
    },
    {
      "cell_type": "markdown",
      "source": [
        "### Explore available models\n",
        "\n",
        "You will be using the [`TunedModel.create`](https://ai.google.dev/api/tuning#method:-tunedmodels.create) API method to start the fine-tuning job and create your custom model. Find a model that supports it through the [`models.list`](https://ai.google.dev/api/models#method:-models.list) endpoint. You can also find more information about tuning models in [the model tuning docs](https://ai.google.dev/gemini-api/docs/model-tuning/tutorial?lang=python)."
      ],
      "metadata": {
        "id": "CqVA5QFO6n4z"
      }
    },
    {
      "cell_type": "code",
      "source": [
        "for model in genai.list_models():\n",
        "    if \"createTunedModel\" in model.supported_generation_methods:\n",
        "        print(model.name)"
      ],
      "metadata": {
        "id": "coEacWAB6o0G",
        "execution": {
          "iopub.status.busy": "2024-11-15T22:30:49.032591Z",
          "iopub.execute_input": "2024-11-15T22:30:49.033042Z",
          "iopub.status.idle": "2024-11-15T22:30:49.269195Z",
          "shell.execute_reply.started": "2024-11-15T22:30:49.032996Z",
          "shell.execute_reply": "2024-11-15T22:30:49.268096Z"
        },
        "trusted": true,
        "outputId": "1d92d8f8-7786-4681-8e66-ec668a35319e"
      },
      "execution_count": null,
      "outputs": [
        {
          "name": "stdout",
          "text": "models/gemini-1.0-pro-001\nmodels/gemini-1.5-flash-001-tuning\n",
          "output_type": "stream"
        }
      ]
    },
    {
      "cell_type": "markdown",
      "source": [
        "## Download the dataset\n",
        "\n",
        "In this activity, you will use the same newsgroups dataset that you used to train a classifier in Keras. In this example you will use a fine-tuned Gemini model to achieve the same goal.\n",
        "\n",
        "The [20 Newsgroups Text Dataset](https://scikit-learn.org/0.19/datasets/twenty_newsgroups.html) contains 18,000 newsgroups posts on 20 topics divided into training and test sets."
      ],
      "metadata": {
        "id": "peFm0w_0c1CO"
      }
    },
    {
      "cell_type": "code",
      "source": [
        "from sklearn.datasets import fetch_20newsgroups\n",
        "\n",
        "newsgroups_train = fetch_20newsgroups(subset=\"train\")\n",
        "newsgroups_test = fetch_20newsgroups(subset=\"test\")\n",
        "\n",
        "# View list of class names for dataset\n",
        "newsgroups_train.target_names"
      ],
      "metadata": {
        "id": "bX_kpgnQ9b-Z",
        "execution": {
          "iopub.status.busy": "2024-11-15T22:34:13.629639Z",
          "iopub.execute_input": "2024-11-15T22:34:13.630234Z",
          "iopub.status.idle": "2024-11-15T22:34:23.527643Z",
          "shell.execute_reply.started": "2024-11-15T22:34:13.630174Z",
          "shell.execute_reply": "2024-11-15T22:34:23.526548Z"
        },
        "trusted": true,
        "outputId": "648487e9-a9d2-41bd-fe9b-c78abf870cc7"
      },
      "execution_count": null,
      "outputs": [
        {
          "execution_count": 8,
          "output_type": "execute_result",
          "data": {
            "text/plain": "['alt.atheism',\n 'comp.graphics',\n 'comp.os.ms-windows.misc',\n 'comp.sys.ibm.pc.hardware',\n 'comp.sys.mac.hardware',\n 'comp.windows.x',\n 'misc.forsale',\n 'rec.autos',\n 'rec.motorcycles',\n 'rec.sport.baseball',\n 'rec.sport.hockey',\n 'sci.crypt',\n 'sci.electronics',\n 'sci.med',\n 'sci.space',\n 'soc.religion.christian',\n 'talk.politics.guns',\n 'talk.politics.mideast',\n 'talk.politics.misc',\n 'talk.religion.misc']"
          },
          "metadata": {}
        }
      ]
    },
    {
      "cell_type": "markdown",
      "source": [
        "Here's what a single row looks like."
      ],
      "metadata": {
        "id": "ipafe6ptZFjt"
      }
    },
    {
      "cell_type": "code",
      "source": [
        "print(newsgroups_train.data[0])"
      ],
      "metadata": {
        "id": "EtEXcdT39hCB",
        "execution": {
          "iopub.status.busy": "2024-11-15T22:35:57.219518Z",
          "iopub.execute_input": "2024-11-15T22:35:57.220775Z",
          "iopub.status.idle": "2024-11-15T22:35:57.225918Z",
          "shell.execute_reply.started": "2024-11-15T22:35:57.220722Z",
          "shell.execute_reply": "2024-11-15T22:35:57.224893Z"
        },
        "trusted": true,
        "outputId": "ecc9f040-3866-464d-8392-cb3f9cf13986"
      },
      "execution_count": null,
      "outputs": [
        {
          "name": "stdout",
          "text": "From: lerxst@wam.umd.edu (where's my thing)\nSubject: WHAT car is this!?\nNntp-Posting-Host: rac3.wam.umd.edu\nOrganization: University of Maryland, College Park\nLines: 15\n\n I was wondering if anyone out there could enlighten me on this car I saw\nthe other day. It was a 2-door sports car, looked to be from the late 60s/\nearly 70s. It was called a Bricklin. The doors were really small. In addition,\nthe front bumper was separate from the rest of the body. This is \nall I know. If anyone can tellme a model name, engine specs, years\nof production, where this car is made, history, or whatever info you\nhave on this funky looking car, please e-mail.\n\nThanks,\n- IL\n   ---- brought to you by your neighborhood Lerxst ----\n\n\n\n\n\n",
          "output_type": "stream"
        }
      ]
    },
    {
      "cell_type": "markdown",
      "source": [
        "## Prepare the dataset\n",
        "\n",
        "You'll use the same pre-processing code you used for the custom model on day 2. This pre-processing removes personal information, which can be used to \"shortcut\" to known users of a forum, and formats the text to appear a bit more like regular text and less like a newsgroup post (e.g. by removing the mail headers). This normalisation allows the model to generalise to regular text and not over-depend on specific fields. If your input data is always going to be newsgroup posts, it may be helpful to leave this structure in place if they provide genuine signals."
      ],
      "metadata": {
        "id": "03lDs1O4ZQ0-"
      }
    },
    {
      "cell_type": "code",
      "source": [
        "import email\n",
        "import re\n",
        "\n",
        "import pandas as pd\n",
        "\n",
        "\n",
        "def preprocess_newsgroup_row(data):\n",
        "    # Extract only the subject and body\n",
        "    msg = email.message_from_string(data)\n",
        "    text = f\"{msg['Subject']}\\n\\n{msg.get_payload()}\"\n",
        "    # Strip any remaining email addresses\n",
        "    text = re.sub(r\"[\\w\\.-]+@[\\w\\.-]+\", \"\", text)\n",
        "    # Truncate the text to fit within the input limits\n",
        "    text = text[:40000]\n",
        "\n",
        "    return text\n",
        "\n",
        "\n",
        "def preprocess_newsgroup_data(newsgroup_dataset):\n",
        "    # Put data points into dataframe\n",
        "    df = pd.DataFrame(\n",
        "        {\"Text\": newsgroup_dataset.data, \"Label\": newsgroup_dataset.target}\n",
        "    )\n",
        "    # Clean up the text\n",
        "    df[\"Text\"] = df[\"Text\"].apply(preprocess_newsgroup_row)\n",
        "    # Match label to target name index\n",
        "    df[\"Class Name\"] = df[\"Label\"].map(lambda l: newsgroup_dataset.target_names[l])\n",
        "\n",
        "    return df"
      ],
      "metadata": {
        "id": "IoNYTxpoZgB0",
        "execution": {
          "iopub.status.busy": "2024-11-15T22:43:15.883299Z",
          "iopub.execute_input": "2024-11-15T22:43:15.883912Z",
          "iopub.status.idle": "2024-11-15T22:43:15.891961Z",
          "shell.execute_reply.started": "2024-11-15T22:43:15.883871Z",
          "shell.execute_reply": "2024-11-15T22:43:15.890809Z"
        },
        "trusted": true
      },
      "execution_count": null,
      "outputs": []
    },
    {
      "cell_type": "code",
      "source": [
        "# Apply preprocessing to training and test datasets\n",
        "df_train = preprocess_newsgroup_data(newsgroups_train)\n",
        "df_test = preprocess_newsgroup_data(newsgroups_test)\n",
        "\n",
        "df_train.head()"
      ],
      "metadata": {
        "id": "kvOsUSRWaW4g",
        "execution": {
          "iopub.status.busy": "2024-11-15T22:44:00.480244Z",
          "iopub.execute_input": "2024-11-15T22:44:00.480714Z",
          "iopub.status.idle": "2024-11-15T22:44:04.481355Z",
          "shell.execute_reply.started": "2024-11-15T22:44:00.480672Z",
          "shell.execute_reply": "2024-11-15T22:44:04.480312Z"
        },
        "trusted": true,
        "outputId": "b6f9696c-00e2-4538-9473-801e666fcd8f"
      },
      "execution_count": null,
      "outputs": [
        {
          "execution_count": 14,
          "output_type": "execute_result",
          "data": {
            "text/plain": "                                                Text  Label  \\\n0  WHAT car is this!?\\n\\n I was wondering if anyo...      7   \n1  SI Clock Poll - Final Call\\n\\nA fair number of...      4   \n2  PB questions...\\n\\nwell folks, my mac plus fin...      4   \n3  Re: Weitek P9000 ?\\n\\nRobert J.C. Kyanko () wr...      1   \n4  Re: Shuttle Launch Question\\n\\nFrom article <>...     14   \n\n              Class Name  \n0              rec.autos  \n1  comp.sys.mac.hardware  \n2  comp.sys.mac.hardware  \n3          comp.graphics  \n4              sci.space  ",
            "text/html": "<div>\n<style scoped>\n    .dataframe tbody tr th:only-of-type {\n        vertical-align: middle;\n    }\n\n    .dataframe tbody tr th {\n        vertical-align: top;\n    }\n\n    .dataframe thead th {\n        text-align: right;\n    }\n</style>\n<table border=\"1\" class=\"dataframe\">\n  <thead>\n    <tr style=\"text-align: right;\">\n      <th></th>\n      <th>Text</th>\n      <th>Label</th>\n      <th>Class Name</th>\n    </tr>\n  </thead>\n  <tbody>\n    <tr>\n      <th>0</th>\n      <td>WHAT car is this!?\\n\\n I was wondering if anyo...</td>\n      <td>7</td>\n      <td>rec.autos</td>\n    </tr>\n    <tr>\n      <th>1</th>\n      <td>SI Clock Poll - Final Call\\n\\nA fair number of...</td>\n      <td>4</td>\n      <td>comp.sys.mac.hardware</td>\n    </tr>\n    <tr>\n      <th>2</th>\n      <td>PB questions...\\n\\nwell folks, my mac plus fin...</td>\n      <td>4</td>\n      <td>comp.sys.mac.hardware</td>\n    </tr>\n    <tr>\n      <th>3</th>\n      <td>Re: Weitek P9000 ?\\n\\nRobert J.C. Kyanko () wr...</td>\n      <td>1</td>\n      <td>comp.graphics</td>\n    </tr>\n    <tr>\n      <th>4</th>\n      <td>Re: Shuttle Launch Question\\n\\nFrom article &lt;&gt;...</td>\n      <td>14</td>\n      <td>sci.space</td>\n    </tr>\n  </tbody>\n</table>\n</div>"
          },
          "metadata": {}
        }
      ]
    },
    {
      "cell_type": "code",
      "source": [
        "df_test.head()"
      ],
      "metadata": {
        "execution": {
          "iopub.status.busy": "2024-11-15T22:49:28.112341Z",
          "iopub.execute_input": "2024-11-15T22:49:28.112749Z",
          "iopub.status.idle": "2024-11-15T22:49:28.123789Z",
          "shell.execute_reply.started": "2024-11-15T22:49:28.112713Z",
          "shell.execute_reply": "2024-11-15T22:49:28.122598Z"
        },
        "trusted": true,
        "id": "bx50V_OLhft_",
        "outputId": "f0819baa-7277-453e-8531-208949826e12"
      },
      "execution_count": null,
      "outputs": [
        {
          "execution_count": 16,
          "output_type": "execute_result",
          "data": {
            "text/plain": "                                                Text  Label  \\\n0  Need info on 88-89 Bonneville\\n\\n\\n I am a lit...      7   \n1  X-Face?\\n\\nI'm not familiar at all with the fo...      5   \n2  Re: STRONG & weak Atheism\\n\\n (Turin Turambar,...      0   \n3  Re: Saudi clergy condemns debut of human right...     17   \n4  Re: After 2000 years, can we say that Christia...     19   \n\n              Class Name  \n0              rec.autos  \n1         comp.windows.x  \n2            alt.atheism  \n3  talk.politics.mideast  \n4     talk.religion.misc  ",
            "text/html": "<div>\n<style scoped>\n    .dataframe tbody tr th:only-of-type {\n        vertical-align: middle;\n    }\n\n    .dataframe tbody tr th {\n        vertical-align: top;\n    }\n\n    .dataframe thead th {\n        text-align: right;\n    }\n</style>\n<table border=\"1\" class=\"dataframe\">\n  <thead>\n    <tr style=\"text-align: right;\">\n      <th></th>\n      <th>Text</th>\n      <th>Label</th>\n      <th>Class Name</th>\n    </tr>\n  </thead>\n  <tbody>\n    <tr>\n      <th>0</th>\n      <td>Need info on 88-89 Bonneville\\n\\n\\n I am a lit...</td>\n      <td>7</td>\n      <td>rec.autos</td>\n    </tr>\n    <tr>\n      <th>1</th>\n      <td>X-Face?\\n\\nI'm not familiar at all with the fo...</td>\n      <td>5</td>\n      <td>comp.windows.x</td>\n    </tr>\n    <tr>\n      <th>2</th>\n      <td>Re: STRONG &amp; weak Atheism\\n\\n (Turin Turambar,...</td>\n      <td>0</td>\n      <td>alt.atheism</td>\n    </tr>\n    <tr>\n      <th>3</th>\n      <td>Re: Saudi clergy condemns debut of human right...</td>\n      <td>17</td>\n      <td>talk.politics.mideast</td>\n    </tr>\n    <tr>\n      <th>4</th>\n      <td>Re: After 2000 years, can we say that Christia...</td>\n      <td>19</td>\n      <td>talk.religion.misc</td>\n    </tr>\n  </tbody>\n</table>\n</div>"
          },
          "metadata": {}
        }
      ]
    },
    {
      "cell_type": "markdown",
      "source": [
        "Now sample the data. You will keep 50 rows for each category for training. Note that this is even fewer than the Keras example, as this technique (parameter-efficient fine-tuning, or PEFT) updates a relatively small number of parameters and does not require training a new model or updating the large model."
      ],
      "metadata": {
        "id": "XSKcj5WtadaR"
      }
    },
    {
      "cell_type": "code",
      "source": [
        "def sample_data(df, num_samples, classes_to_keep):\n",
        "    # Sample rows, selecting num_samples of each Label.\n",
        "    df = (\n",
        "        df.groupby(\"Label\")[df.columns]\n",
        "        .apply(lambda x: x.sample(num_samples))\n",
        "        .reset_index(drop=True)\n",
        "    )\n",
        "\n",
        "    df = df[df[\"Class Name\"].str.contains(classes_to_keep)]\n",
        "    df[\"Class Name\"] = df[\"Class Name\"].astype(\"category\")\n",
        "\n",
        "    return df\n",
        "\n",
        "\n",
        "TRAIN_NUM_SAMPLES = 50\n",
        "TEST_NUM_SAMPLES = 10\n",
        "# Keep rec.* and sci.*\n",
        "CLASSES_TO_KEEP = \"^rec|^sci\"\n",
        "\n",
        "df_train = sample_data(df_train, TRAIN_NUM_SAMPLES, CLASSES_TO_KEEP)\n",
        "df_test = sample_data(df_test, TEST_NUM_SAMPLES, CLASSES_TO_KEEP)"
      ],
      "metadata": {
        "id": "0t9Xu6X5akkt",
        "execution": {
          "iopub.status.busy": "2024-11-15T23:04:05.752586Z",
          "iopub.execute_input": "2024-11-15T23:04:05.753555Z",
          "iopub.status.idle": "2024-11-15T23:04:05.77932Z",
          "shell.execute_reply.started": "2024-11-15T23:04:05.753508Z",
          "shell.execute_reply": "2024-11-15T23:04:05.778197Z"
        },
        "trusted": true
      },
      "execution_count": null,
      "outputs": []
    },
    {
      "cell_type": "markdown",
      "source": [
        "## Evaluate baseline performance\n",
        "\n",
        "Before you start tuning a model, it's good practice to perform an evaluation on the available models to ensure you can measure how much the tuning helps.\n",
        "\n",
        "First identify a single sample row to use for visual inspection."
      ],
      "metadata": {
        "id": "qTReVTN-hfuA"
      }
    },
    {
      "cell_type": "code",
      "source": [
        "sample_idx = 0\n",
        "sample_row = preprocess_newsgroup_row(newsgroups_test.data[sample_idx])\n",
        "sample_label = newsgroups_test.target_names[newsgroups_test.target[sample_idx]]\n",
        "\n",
        "print(sample_row)\n",
        "print('---')\n",
        "print('Label:', sample_label)"
      ],
      "metadata": {
        "execution": {
          "iopub.status.busy": "2024-11-15T23:06:32.868204Z",
          "iopub.execute_input": "2024-11-15T23:06:32.868659Z",
          "iopub.status.idle": "2024-11-15T23:06:32.87574Z",
          "shell.execute_reply.started": "2024-11-15T23:06:32.868618Z",
          "shell.execute_reply": "2024-11-15T23:06:32.87462Z"
        },
        "trusted": true,
        "id": "0xexlFffhfuA",
        "outputId": "f5a67875-4cb7-475f-f203-dc7b3d2fadde"
      },
      "execution_count": null,
      "outputs": [
        {
          "name": "stdout",
          "text": "Need info on 88-89 Bonneville\n\n\n I am a little confused on all of the models of the 88-89 bonnevilles.\nI have heard of the LE SE LSE SSE SSEI. Could someone tell me the\ndifferences are far as features or performance. I am also curious to\nknow what the book value is for prefereably the 89 model. And how much\nless than book value can you usually get them for. In other words how\nmuch are they in demand this time of year. I have heard that the mid-spring\nearly summer is the best time to buy.\n\n\t\t\tNeil Gandler\n\n---\nLabel: rec.autos\n",
          "output_type": "stream"
        }
      ]
    },
    {
      "cell_type": "markdown",
      "source": [
        "Passing the text directly in as a prompt does not yield the desired results. The model will attempt to respond to the message."
      ],
      "metadata": {
        "id": "ft3bSCj1hfuA"
      }
    },
    {
      "cell_type": "code",
      "source": [
        "baseline_model = genai.GenerativeModel(\"gemini-1.5-flash-001\")\n",
        "response = baseline_model.generate_content(sample_row)\n",
        "print(response.text)"
      ],
      "metadata": {
        "execution": {
          "iopub.status.busy": "2024-11-15T23:08:33.364623Z",
          "iopub.execute_input": "2024-11-15T23:08:33.365147Z",
          "iopub.status.idle": "2024-11-15T23:08:37.020329Z",
          "shell.execute_reply.started": "2024-11-15T23:08:33.365088Z",
          "shell.execute_reply": "2024-11-15T23:08:37.019213Z"
        },
        "trusted": true,
        "id": "PprucgrUhfuA",
        "outputId": "6cba76a9-0330-4673-c46e-21440fca3481"
      },
      "execution_count": null,
      "outputs": [
        {
          "name": "stdout",
          "text": "You're right, the 1988-1989 Bonnevilles had a lot of trim levels, which could make it confusing! Let's break down the differences:\n\n**Trim Levels:**\n\n* **LE:** The base model. This one came with the standard 3.8L V6 engine, cloth upholstery, and basic features.\n* **SE:**  A step up from the LE, the SE offered slightly more features like power windows and locks. Still came with the standard V6 engine.\n* **LSE:** This model featured a 3.8L V6 with electronic fuel injection, and a more luxurious interior with velour upholstery and woodgrain accents.\n* **SSE:** This one boasted a more powerful 3.8L V6 with a higher horsepower rating. It also included standard features like power seats, sunroof, and a premium stereo system.\n* **SSEi:** The top-of-the-line model. This one included the same 3.8L V6 as the SSE but with a more aggressive tune for even more horsepower. The interior was even more luxurious with leather upholstery and a more advanced stereo system.\n\n**Book Value and Demand:**\n\nUnfortunately, I can't provide specific book value information as it varies greatly depending on the specific vehicle's condition, mileage, location, and available options.  \n\nHowever, here's what you can do to get an idea of the current market value:\n\n* **Use Online Resources:** Check websites like Kelley Blue Book (KBB), Edmunds, or NADA Guides. Enter the year, model, trim level, mileage, and location to get an estimate.\n* **Check Local Classifieds:** Look at online classifieds (like Craigslist) or local automotive publications to see what similar cars are selling for in your area. \n\n**Negotiating Price:**\n\nIt's generally true that the best time to buy a car is during the spring and early summer months when dealerships are trying to move inventory. You may be able to get a better deal during this time. \n\nWhen negotiating, remember:\n\n* **Start Low:** Offer a price lower than the book value or the seller's asking price.\n* **Be Prepared to Walk Away:** If the seller isn't willing to budge, be prepared to walk away and look at other options.\n* **Be Polite and Respectful:** A friendly approach can go a long way in getting a good deal.\n\n**Additional Considerations:**\n\n* **Maintenance:** While the 1988-1989 Bonnevilles were known for their reliability, they are older vehicles. Be sure to factor in potential maintenance costs.\n* **Parts Availability:** Many parts are still readily available for these cars, but some may be harder to find.\n* **Overall Condition:** Thoroughly inspect the car before purchasing. Look for any signs of rust, damage, or excessive wear and tear.\n\nLet me know if you have any more questions about the 1988-1989 Bonneville. I'm happy to help in any way I can! \n\n",
          "output_type": "stream"
        }
      ]
    },
    {
      "cell_type": "markdown",
      "source": [
        "You can use the prompt engineering techniques you have learned this week to induce the model to perform the desired task. Try some of your own ideas and see what is effective, or check out the following cells for different approaches. Note that they have different levels of effectiveness!"
      ],
      "metadata": {
        "id": "y5m0rkoXhfuA"
      }
    },
    {
      "cell_type": "code",
      "source": [
        "# Ask the model directly in a zero-shot prompt.\n",
        "\n",
        "prompt = \"From what newsgroup does the following message originate?\"\n",
        "baseline_response = baseline_model.generate_content([prompt, sample_row])\n",
        "print(baseline_response.text)"
      ],
      "metadata": {
        "execution": {
          "iopub.status.busy": "2024-11-15T23:13:30.261557Z",
          "iopub.execute_input": "2024-11-15T23:13:30.262037Z",
          "iopub.status.idle": "2024-11-15T23:13:31.768491Z",
          "shell.execute_reply.started": "2024-11-15T23:13:30.261998Z",
          "shell.execute_reply": "2024-11-15T23:13:31.767352Z"
        },
        "trusted": true,
        "id": "C7x2duLphfuA",
        "outputId": "79701281-fa9d-4b5e-9c1f-f7f851833704"
      },
      "execution_count": null,
      "outputs": [
        {
          "name": "stdout",
          "text": "This message most likely originates from a newsgroup dedicated to **Buick automobiles**, specifically the **Bonneville model**. \n\nHere's why:\n\n* **Content:** The message focuses on specific details about the 1988-1989 Buick Bonneville, including model variations (LE, SE, LSE, SSE, SSEi) and their features, performance, and value. This indicates a strong connection to the Buick community.\n* **Target Audience:** The questions about book value, negotiating prices, and optimal buying seasons are typical inquiries from prospective car buyers, specifically for a vehicle like the Bonneville.\n* **Format:** The message follows a typical format used in newsgroups, including a clear subject line, sender's name, and a well-structured message.\n\nGiven these clues, it's reasonable to assume the message originated from a newsgroup like **alt.autos.buick** or **rec.autos.buick** (or possibly a more general newsgroup about classic cars).\n\n",
          "output_type": "stream"
        }
      ]
    },
    {
      "cell_type": "markdown",
      "source": [
        "That technique produces quite a verbose response. You could try and pick out the relevant text, or refine the prompt even further."
      ],
      "metadata": {
        "id": "pR00Xz3zhfuB"
      }
    },
    {
      "cell_type": "code",
      "source": [
        "from google.api_core import retry\n",
        "\n",
        "# You can use a system instruction to do more direct prompting, and get a\n",
        "# more succinct answer.\n",
        "\n",
        "system_instruct = \"\"\"\n",
        "You are a classification service. You will be passed input that represents\n",
        "a newsgroup post and you must respond with the newsgroup from which the post\n",
        "originates.\n",
        "\"\"\"\n",
        "\n",
        "instructed_model = genai.GenerativeModel(\"gemini-1.5-flash-001\",\n",
        "                                         system_instruction=system_instruct)\n",
        "\n",
        "retry_policy = {\"retry\": retry.Retry(predicate=retry.if_transient_error)}\n",
        "\n",
        "# If you want to evaluate your own technique, replace this function with your\n",
        "# model, prompt and other code and return the predicted answer.\n",
        "def predict_label(post: str) -> str:\n",
        "    response = instructed_model.generate_content(post, request_options=retry_policy)\n",
        "    rc = response.candidates[0]\n",
        "\n",
        "    # Any errors, filters, recitation, etc we can mark as a general error\n",
        "    if rc.finish_reason.name != \"STOP\":\n",
        "        return \"(error)\"\n",
        "    else:\n",
        "        # Clean up the response.\n",
        "        return response.text.strip()\n",
        "\n",
        "\n",
        "prediction = predict_label(sample_row)\n",
        "\n",
        "print(prediction)\n",
        "print()\n",
        "print(\"Correct!\" if prediction == sample_label else \"Incorrect.\")"
      ],
      "metadata": {
        "execution": {
          "iopub.status.busy": "2024-11-15T23:19:17.612303Z",
          "iopub.execute_input": "2024-11-15T23:19:17.61306Z",
          "iopub.status.idle": "2024-11-15T23:19:18.349597Z",
          "shell.execute_reply.started": "2024-11-15T23:19:17.613014Z",
          "shell.execute_reply": "2024-11-15T23:19:18.348516Z"
        },
        "trusted": true,
        "id": "Dj33A6LAhfuB",
        "outputId": "7a691e2f-bd87-47ac-daba-738a2c7f49ec"
      },
      "execution_count": null,
      "outputs": [
        {
          "name": "stdout",
          "text": "rec.autos.misc\n\nIncorrect.\n",
          "output_type": "stream"
        }
      ]
    },
    {
      "cell_type": "markdown",
      "source": [
        "Now run a short evaluation using the function defined above. The test set is further sampled to ensure the experiment runs smoothly on the API's free tier. In practice you would evaluate over the whole set."
      ],
      "metadata": {
        "id": "_eKQZkXVhfuB"
      }
    },
    {
      "cell_type": "code",
      "source": [
        "from tqdm.rich import tqdm\n",
        "\n",
        "tqdm.pandas()\n",
        "\n",
        "\n",
        "# Further sample the test data to be mindful of the free-tier quota.\n",
        "df_baseline_eval = sample_data(df_test, 2, '.*')\n",
        "\n",
        "# Make predictions using the sampled data.\n",
        "df_baseline_eval['Prediction'] = df_baseline_eval['Text'].progress_apply(predict_label)\n",
        "\n",
        "# And calculate the accuracy.\n",
        "accuracy = (df_baseline_eval[\"Class Name\"] == df_baseline_eval[\"Prediction\"]).sum() / len(df_baseline_eval)\n",
        "print(f\"Accuracy: {accuracy:.2%}\")"
      ],
      "metadata": {
        "execution": {
          "iopub.status.busy": "2024-11-15T23:23:48.824518Z",
          "iopub.execute_input": "2024-11-15T23:23:48.824907Z",
          "iopub.status.idle": "2024-11-15T23:24:37.426834Z",
          "shell.execute_reply.started": "2024-11-15T23:23:48.824872Z",
          "shell.execute_reply": "2024-11-15T23:24:37.425743Z"
        },
        "trusted": true,
        "id": "g2M6-DauhfuB",
        "outputId": "a863ca65-87b6-4433-e6c5-49f3b6d9fb28",
        "colab": {
          "referenced_widgets": [
            "d35f696befa0446881e5845fe8ebd9bd"
          ]
        }
      },
      "execution_count": null,
      "outputs": [
        {
          "output_type": "display_data",
          "data": {
            "text/plain": "Output()",
            "application/vnd.jupyter.widget-view+json": {
              "version_major": 2,
              "version_minor": 0,
              "model_id": "d35f696befa0446881e5845fe8ebd9bd"
            }
          },
          "metadata": {}
        },
        {
          "name": "stderr",
          "text": "/opt/conda/lib/python3.10/site-packages/tqdm/std.py:885: TqdmExperimentalWarning: rich is experimental/alpha\n  t = cls(total=total, **tqdm_kwargs)\n",
          "output_type": "stream"
        },
        {
          "output_type": "display_data",
          "data": {
            "text/plain": "",
            "text/html": "<pre style=\"white-space:pre;overflow-x:auto;line-height:normal;font-family:Menlo,'DejaVu Sans Mono',consolas,'Courier New',monospace\"></pre>\n"
          },
          "metadata": {}
        },
        {
          "output_type": "display_data",
          "data": {
            "text/plain": "\n",
            "text/html": "<pre style=\"white-space:pre;overflow-x:auto;line-height:normal;font-family:Menlo,'DejaVu Sans Mono',consolas,'Courier New',monospace\">\n</pre>\n"
          },
          "metadata": {}
        },
        {
          "name": "stdout",
          "text": "Accuracy: 18.75%\n",
          "output_type": "stream"
        }
      ]
    },
    {
      "cell_type": "markdown",
      "source": [
        "Now take a look at the dataframe to compare the predictions with the labels."
      ],
      "metadata": {
        "id": "_OHEhwpYhfuB"
      }
    },
    {
      "cell_type": "code",
      "source": [
        "df_baseline_eval"
      ],
      "metadata": {
        "execution": {
          "iopub.status.busy": "2024-11-15T23:24:47.867526Z",
          "iopub.execute_input": "2024-11-15T23:24:47.867926Z",
          "iopub.status.idle": "2024-11-15T23:24:47.881696Z",
          "shell.execute_reply.started": "2024-11-15T23:24:47.867889Z",
          "shell.execute_reply": "2024-11-15T23:24:47.880632Z"
        },
        "trusted": true,
        "id": "Rghi6ccGhfuB",
        "outputId": "70a2795d-5d17-4a59-da18-7aba3d379567"
      },
      "execution_count": null,
      "outputs": [
        {
          "execution_count": 30,
          "output_type": "execute_result",
          "data": {
            "text/plain": "                                                 Text  Label  \\\n0   Re: MBenz 300 series, VW Passat\\n\\nGo with the...      7   \n1   Re: V4 V6 V8 V12 Vx?\\n\\n\\nIn a previous articl...      7   \n2   Re: Touring the southwest\\n\\nIn article <>  (K...      8   \n3   Re: uh, der, whassa deltabox?\\n\\nIn <>  (Jim B...      8   \n4   Yanks/Royals box score\\n\\n\\nI need the box sco...      9   \n5   MLB Scores Correction\\n\\n\\nThere is a correcti...      9   \n6   Atlanta's ABC affiliate SUCKS!!!!!\\n\\n\\nI knew...     10   \n7   Re: SHARKS: Kingston Fired!!!\\n\\n (Mark Spiege...     10   \n8   Re: Overreacting (was Re: Once tapped, your co...     11   \n9   Re: political point of attack: Clipper infrast...     11   \n10  Re: Pressure Zone Microphones\\n\\nIn article <>...     12   \n11  Re: How universal are phones these days?\\n\\nIn...     12   \n12  Re: Need info on Circumcision, medical cons an...     13   \n13  Re: Should I be angry at this doctor?\\n\\nHow a...     13   \n14  Re: Mothership for Flybys and cutting costs..\\...     14   \n15  Re: Long term Human Missions\\n\\nKen Hayashida ...     14   \n\n            Class Name             Prediction  \n0            rec.autos         rec.autos.misc  \n1            rec.autos  rec.autos.sports.cars  \n2      rec.motorcycles        rec.travel.road  \n3      rec.motorcycles        rec.motorcycles  \n4   rec.sport.baseball     rec.sport.baseball  \n5   rec.sport.baseball     rec.sport.baseball  \n6     rec.sport.hockey      rec.sports.hockey  \n7     rec.sport.hockey      rec.sports.hockey  \n8            sci.crypt     talk.politics.guns  \n9            sci.crypt                (error)  \n10     sci.electronics          rec.audio.pro  \n11     sci.electronics    soc.culture.british  \n12             sci.med                (error)  \n13             sci.med            alt.atheism  \n14           sci.space         space.missions  \n15           sci.space         sci.space.news  ",
            "text/html": "<div>\n<style scoped>\n    .dataframe tbody tr th:only-of-type {\n        vertical-align: middle;\n    }\n\n    .dataframe tbody tr th {\n        vertical-align: top;\n    }\n\n    .dataframe thead th {\n        text-align: right;\n    }\n</style>\n<table border=\"1\" class=\"dataframe\">\n  <thead>\n    <tr style=\"text-align: right;\">\n      <th></th>\n      <th>Text</th>\n      <th>Label</th>\n      <th>Class Name</th>\n      <th>Prediction</th>\n    </tr>\n  </thead>\n  <tbody>\n    <tr>\n      <th>0</th>\n      <td>Re: MBenz 300 series, VW Passat\\n\\nGo with the...</td>\n      <td>7</td>\n      <td>rec.autos</td>\n      <td>rec.autos.misc</td>\n    </tr>\n    <tr>\n      <th>1</th>\n      <td>Re: V4 V6 V8 V12 Vx?\\n\\n\\nIn a previous articl...</td>\n      <td>7</td>\n      <td>rec.autos</td>\n      <td>rec.autos.sports.cars</td>\n    </tr>\n    <tr>\n      <th>2</th>\n      <td>Re: Touring the southwest\\n\\nIn article &lt;&gt;  (K...</td>\n      <td>8</td>\n      <td>rec.motorcycles</td>\n      <td>rec.travel.road</td>\n    </tr>\n    <tr>\n      <th>3</th>\n      <td>Re: uh, der, whassa deltabox?\\n\\nIn &lt;&gt;  (Jim B...</td>\n      <td>8</td>\n      <td>rec.motorcycles</td>\n      <td>rec.motorcycles</td>\n    </tr>\n    <tr>\n      <th>4</th>\n      <td>Yanks/Royals box score\\n\\n\\nI need the box sco...</td>\n      <td>9</td>\n      <td>rec.sport.baseball</td>\n      <td>rec.sport.baseball</td>\n    </tr>\n    <tr>\n      <th>5</th>\n      <td>MLB Scores Correction\\n\\n\\nThere is a correcti...</td>\n      <td>9</td>\n      <td>rec.sport.baseball</td>\n      <td>rec.sport.baseball</td>\n    </tr>\n    <tr>\n      <th>6</th>\n      <td>Atlanta's ABC affiliate SUCKS!!!!!\\n\\n\\nI knew...</td>\n      <td>10</td>\n      <td>rec.sport.hockey</td>\n      <td>rec.sports.hockey</td>\n    </tr>\n    <tr>\n      <th>7</th>\n      <td>Re: SHARKS: Kingston Fired!!!\\n\\n (Mark Spiege...</td>\n      <td>10</td>\n      <td>rec.sport.hockey</td>\n      <td>rec.sports.hockey</td>\n    </tr>\n    <tr>\n      <th>8</th>\n      <td>Re: Overreacting (was Re: Once tapped, your co...</td>\n      <td>11</td>\n      <td>sci.crypt</td>\n      <td>talk.politics.guns</td>\n    </tr>\n    <tr>\n      <th>9</th>\n      <td>Re: political point of attack: Clipper infrast...</td>\n      <td>11</td>\n      <td>sci.crypt</td>\n      <td>(error)</td>\n    </tr>\n    <tr>\n      <th>10</th>\n      <td>Re: Pressure Zone Microphones\\n\\nIn article &lt;&gt;...</td>\n      <td>12</td>\n      <td>sci.electronics</td>\n      <td>rec.audio.pro</td>\n    </tr>\n    <tr>\n      <th>11</th>\n      <td>Re: How universal are phones these days?\\n\\nIn...</td>\n      <td>12</td>\n      <td>sci.electronics</td>\n      <td>soc.culture.british</td>\n    </tr>\n    <tr>\n      <th>12</th>\n      <td>Re: Need info on Circumcision, medical cons an...</td>\n      <td>13</td>\n      <td>sci.med</td>\n      <td>(error)</td>\n    </tr>\n    <tr>\n      <th>13</th>\n      <td>Re: Should I be angry at this doctor?\\n\\nHow a...</td>\n      <td>13</td>\n      <td>sci.med</td>\n      <td>alt.atheism</td>\n    </tr>\n    <tr>\n      <th>14</th>\n      <td>Re: Mothership for Flybys and cutting costs..\\...</td>\n      <td>14</td>\n      <td>sci.space</td>\n      <td>space.missions</td>\n    </tr>\n    <tr>\n      <th>15</th>\n      <td>Re: Long term Human Missions\\n\\nKen Hayashida ...</td>\n      <td>14</td>\n      <td>sci.space</td>\n      <td>sci.space.news</td>\n    </tr>\n  </tbody>\n</table>\n</div>"
          },
          "metadata": {}
        }
      ]
    },
    {
      "cell_type": "markdown",
      "source": [
        "## Tune a custom model\n",
        "\n",
        "In this example you'll use tuning to help create a model that requires no prompting or system instructions and outputs succinct text from the classes you provide in the training data.\n",
        "\n",
        "The data contains both input text (the processed posts) and output text (the category, or newsgroup), which you can use to start tuning a model.\n",
        "\n",
        "The Python SDK for tuning supports Pandas dataframes as input, so you don't need any custom data generators or pipelines. Just specify the input and the relevant columns as the `input_key` and `output_key`.\n",
        "\n",
        "When calling `create_tuned_model`, you can specify model tuning hyperparameters too:\n",
        " - `epoch_count`: defines how many times to loop through the data,\n",
        " - `batch_size`: defines how many rows to process in a single step, and\n",
        " - `learning_rate`: defines the scaling factor for updating model weights at each step.\n",
        "\n",
        "You can also choose to omit them and use the defaults. [Learn more](https://developers.google.com/machine-learning/crash-course/linear-regression/hyperparameters) about these parameters and how they work. For this example these parameters were selected by running some tuning jobs and selecting parameters that were both effective and quick."
      ],
      "metadata": {
        "id": "Ok7ugrLzcghX"
      }
    },
    {
      "cell_type": "code",
      "source": [
        "from collections.abc import Iterable\n",
        "import random\n",
        "\n",
        "\n",
        "# Append a random number to the model ID so you can re-run with a higher chance\n",
        "# of creating a unique model ID.\n",
        "model_id = f\"newsgroup-classifier-{random.randint(10000, 99999)}\"\n",
        "\n",
        "# Upload the training data and queue the tuning job.\n",
        "tuning_op = genai.create_tuned_model(\n",
        "    \"models/gemini-1.5-flash-001-tuning\",\n",
        "    training_data=df_train,\n",
        "    input_key=\"Text\",  # the column to use as input\n",
        "    output_key=\"Class Name\",  # the column to use as output\n",
        "    id=model_id,\n",
        "    display_name=\"Newsgroup classification model\",\n",
        "    batch_size=16,\n",
        "    epoch_count=2,\n",
        ")\n",
        "\n",
        "print(model_id)"
      ],
      "metadata": {
        "id": "pWOZlspfY8dV",
        "execution": {
          "iopub.status.busy": "2024-11-15T23:32:31.472825Z",
          "iopub.execute_input": "2024-11-15T23:32:31.47333Z",
          "iopub.status.idle": "2024-11-15T23:32:32.699345Z",
          "shell.execute_reply.started": "2024-11-15T23:32:31.473288Z",
          "shell.execute_reply": "2024-11-15T23:32:32.698182Z"
        },
        "trusted": true,
        "outputId": "d7b58f99-c618-452d-e70b-cc7c435d2e8a"
      },
      "execution_count": null,
      "outputs": [
        {
          "name": "stdout",
          "text": "newsgroup-classifier-33930\n",
          "output_type": "stream"
        }
      ]
    },
    {
      "cell_type": "markdown",
      "source": [
        "This has created a tuning job that will run in the background. To inspect the progress of the tuning job, run this cell to plot the current status and loss curve. Once the status reaches `ACTIVE`, tuning is complete and the model is ready to use.\n",
        "\n",
        "Tuning jobs are queued, so it may look like no training steps have been taken initially but it will progress. Tuning can take upwards of 20 minutes, depending on factors like your dataset size and how busy the tuning infrastrature is. Why not treat yourself to a nice cup of tea while you wait, or come and say \"Hi!\" to [yours truly](https://discord.com/users/132124213132787712) in the group [Discord](https://discord.com/invite/kaggle).\n",
        "\n",
        "It is safe to stop this cell at any point. It will not stop the tuning job."
      ],
      "metadata": {
        "id": "NQ3YZ2MBubCY"
      }
    },
    {
      "cell_type": "code",
      "source": [
        "import time\n",
        "import seaborn as sns\n",
        "\n",
        "\n",
        "while (tuned_model := genai.get_tuned_model(f\"tunedModels/{model_id}\")).state.name != 'ACTIVE':\n",
        "\n",
        "    print(tuned_model.state)\n",
        "    time.sleep(60)\n",
        "\n",
        "print(f\"Done! The model is {tuned_model.state.name}\")\n",
        "\n",
        "# Plot the loss curve.\n",
        "snapshots = pd.DataFrame(tuned_model.tuning_task.snapshots)\n",
        "sns.lineplot(data=snapshots, x=\"step\", y=\"mean_loss\")\n"
      ],
      "metadata": {
        "id": "c4ef5f13692d",
        "execution": {
          "iopub.status.busy": "2024-11-15T23:37:23.669413Z",
          "iopub.execute_input": "2024-11-15T23:37:23.669845Z",
          "iopub.status.idle": "2024-11-16T00:00:31.842334Z",
          "shell.execute_reply.started": "2024-11-15T23:37:23.669809Z",
          "shell.execute_reply": "2024-11-16T00:00:31.841161Z"
        },
        "trusted": true,
        "outputId": "aca8e1f1-7874-4295-f4bf-83160230aafb"
      },
      "execution_count": null,
      "outputs": [
        {
          "name": "stdout",
          "text": "State.CREATING\nState.CREATING\nState.CREATING\nState.CREATING\nState.CREATING\nState.CREATING\nState.CREATING\nState.CREATING\nState.CREATING\nState.CREATING\nState.CREATING\nState.CREATING\nState.CREATING\nState.CREATING\nState.CREATING\nState.CREATING\nState.CREATING\nState.CREATING\nState.CREATING\nState.CREATING\nState.CREATING\nDone! The model is ACTIVE\n",
          "output_type": "stream"
        },
        {
          "name": "stderr",
          "text": "/opt/conda/lib/python3.10/site-packages/seaborn/_oldcore.py:1119: FutureWarning: use_inf_as_na option is deprecated and will be removed in a future version. Convert inf values to NaN before operating instead.\n  with pd.option_context('mode.use_inf_as_na', True):\n/opt/conda/lib/python3.10/site-packages/seaborn/_oldcore.py:1119: FutureWarning: use_inf_as_na option is deprecated and will be removed in a future version. Convert inf values to NaN before operating instead.\n  with pd.option_context('mode.use_inf_as_na', True):\n",
          "output_type": "stream"
        },
        {
          "execution_count": 32,
          "output_type": "execute_result",
          "data": {
            "text/plain": "<Axes: xlabel='step', ylabel='mean_loss'>"
          },
          "metadata": {}
        },
        {
          "output_type": "display_data",
          "data": {
            "text/plain": "<Figure size 640x480 with 1 Axes>",
            "image/png": "[encoded data removed]"
          },
          "metadata": {}
        }
      ]
    },
    {
      "cell_type": "markdown",
      "source": [
        "Note that the `seaborn` module may output warnings containing `FutureWarning: use_inf_as_na option is deprecated`. These are expected and can be ignored."
      ],
      "metadata": {
        "id": "9-qiIdK4u80z"
      }
    },
    {
      "cell_type": "markdown",
      "source": [
        "## Use the new model\n",
        "\n",
        "Now that you have a tuned model, try it out with custom data. You use the same API as a normal Gemini API interaction, but you specify your new model as the model name, using the `tunedModels/` prefix."
      ],
      "metadata": {
        "id": "_0QenfIJhfuC"
      }
    },
    {
      "cell_type": "code",
      "source": [
        "your_model = genai.GenerativeModel(f\"tunedModels/{model_id}\")\n",
        "\n",
        "new_text = \"\"\"\n",
        "First-timer looking to get out of here.\n",
        "\n",
        "Hi, I'm writing about my interest in travelling to the outer limits!\n",
        "\n",
        "What kind of craft can I buy? What is easiest to access from this 3rd rock?\n",
        "\n",
        "Let me know how to do that please.\n",
        "\"\"\"\n",
        "\n",
        "response = your_model.generate_content(new_text)\n",
        "print(response.text)"
      ],
      "metadata": {
        "id": "hyO2-MXLvM6a",
        "execution": {
          "iopub.status.busy": "2024-11-16T00:06:01.956358Z",
          "iopub.execute_input": "2024-11-16T00:06:01.956818Z",
          "iopub.status.idle": "2024-11-16T00:06:08.9947Z",
          "shell.execute_reply.started": "2024-11-16T00:06:01.956778Z",
          "shell.execute_reply": "2024-11-16T00:06:08.993578Z"
        },
        "trusted": true,
        "outputId": "956a2260-e4c8-409d-875b-eacfabdfeea2"
      },
      "execution_count": null,
      "outputs": [
        {
          "name": "stdout",
          "text": "sci.space\n",
          "output_type": "stream"
        }
      ]
    },
    {
      "cell_type": "markdown",
      "source": [
        "### Evaluation\n",
        "\n",
        "You can see that the model outputs labels that correspond to those in the training data, and without any system instructions or prompting, which is already a great improvement. Now see how well it performs on the test set.\n",
        "\n",
        "Note that there is no parallelism in this example; classifying the test sub-set will take a few minutes."
      ],
      "metadata": {
        "id": "xajLek9DySH_"
      }
    },
    {
      "cell_type": "code",
      "source": [
        "def classify_text(text: str) -> str:\n",
        "    \"\"\"Classify the provided text into a known newsgroup.\"\"\"\n",
        "    response = your_model.generate_content(text, request_options=retry_policy)\n",
        "    rc = response.candidates[0]\n",
        "\n",
        "    # Any errors, filters, recitation, etc we can mark as a general error\n",
        "    if rc.finish_reason.name != \"STOP\":\n",
        "        return \"(error)\"\n",
        "    else:\n",
        "        return rc.content.parts[0].text\n",
        "\n",
        "\n",
        "# The sampling here is just to minimise your quota usage. If you can, you should\n",
        "# evaluate the whole test set with `df_model_eval = df_test.copy()`.\n",
        "df_model_eval = sample_data(df_test, 4, '.*')\n",
        "\n",
        "\n",
        "df_model_eval[\"Prediction\"] = df_model_eval[\"Text\"].progress_apply(classify_text)\n",
        "\n",
        "accuracy = (df_model_eval[\"Class Name\"] == df_model_eval[\"Prediction\"]).sum() / len(df_model_eval)\n",
        "print(f\"Accuracy: {accuracy:.2%}\")"
      ],
      "metadata": {
        "id": "6T2Y3ZApvbMw",
        "execution": {
          "iopub.status.busy": "2024-11-16T00:07:00.427874Z",
          "iopub.execute_input": "2024-11-16T00:07:00.428325Z",
          "iopub.status.idle": "2024-11-16T00:07:58.14473Z",
          "shell.execute_reply.started": "2024-11-16T00:07:00.428283Z",
          "shell.execute_reply": "2024-11-16T00:07:58.143581Z"
        },
        "trusted": true,
        "outputId": "9515c957-4972-4223-e674-5b1d9f9fce93",
        "colab": {
          "referenced_widgets": [
            "edaf5393b04f4a289c1efc7293acde20"
          ]
        }
      },
      "execution_count": null,
      "outputs": [
        {
          "output_type": "display_data",
          "data": {
            "text/plain": "Output()",
            "application/vnd.jupyter.widget-view+json": {
              "version_major": 2,
              "version_minor": 0,
              "model_id": "edaf5393b04f4a289c1efc7293acde20"
            }
          },
          "metadata": {}
        },
        {
          "name": "stderr",
          "text": "/opt/conda/lib/python3.10/site-packages/tqdm/std.py:885: TqdmExperimentalWarning: rich is experimental/alpha\n  t = cls(total=total, **tqdm_kwargs)\n",
          "output_type": "stream"
        },
        {
          "output_type": "display_data",
          "data": {
            "text/plain": "",
            "text/html": "<pre style=\"white-space:pre;overflow-x:auto;line-height:normal;font-family:Menlo,'DejaVu Sans Mono',consolas,'Courier New',monospace\"></pre>\n"
          },
          "metadata": {}
        },
        {
          "output_type": "display_data",
          "data": {
            "text/plain": "\n",
            "text/html": "<pre style=\"white-space:pre;overflow-x:auto;line-height:normal;font-family:Menlo,'DejaVu Sans Mono',consolas,'Courier New',monospace\">\n</pre>\n"
          },
          "metadata": {}
        },
        {
          "name": "stdout",
          "text": "Accuracy: 100.00%\n",
          "output_type": "stream"
        }
      ]
    },
    {
      "cell_type": "markdown",
      "source": [
        "## Compare token usage\n",
        "\n",
        "AI Studio and the Gemini API provide model tuning at no cost, however normal limits and charges apply for *use* of a tuned model.\n",
        "\n",
        "The size of the input prompt and other generation config like system instructions, as well as the number of generated output tokens, all contribute to the overall cost of a request."
      ],
      "metadata": {
        "id": "PDSnUv4VhfuH"
      }
    },
    {
      "cell_type": "code",
      "source": [
        "# Calculate the *input* cost of the baseline model with system instructions.\n",
        "sysint_tokens = instructed_model.count_tokens(sample_row).total_tokens\n",
        "print(f'System instructed baseline model: {sysint_tokens} (input)')\n",
        "\n",
        "# Calculate the input cost of the tuned model.\n",
        "tuned_tokens = your_model.count_tokens(sample_row).total_tokens\n",
        "print(f'Tuned model: {tuned_tokens} (input)')\n",
        "\n",
        "savings = (sysint_tokens - tuned_tokens) / tuned_tokens\n",
        "print(f'Token savings: {savings:.2%}')  # Note that this is only n=1."
      ],
      "metadata": {
        "execution": {
          "iopub.status.busy": "2024-11-16T00:09:16.684568Z",
          "iopub.execute_input": "2024-11-16T00:09:16.685472Z",
          "iopub.status.idle": "2024-11-16T00:09:17.070957Z",
          "shell.execute_reply.started": "2024-11-16T00:09:16.685417Z",
          "shell.execute_reply": "2024-11-16T00:09:17.069817Z"
        },
        "trusted": true,
        "id": "s0UaVKGEhfuI",
        "outputId": "4e10e85d-12f1-4753-ad61-88d18ef61dd4"
      },
      "execution_count": null,
      "outputs": [
        {
          "name": "stdout",
          "text": "System instructed baseline model: 171 (input)\nTuned model: 135 (input)\nToken savings: 26.67%\n",
          "output_type": "stream"
        }
      ]
    },
    {
      "cell_type": "markdown",
      "source": [
        "The earlier verbose model also produced more output tokens than needed for this task."
      ],
      "metadata": {
        "id": "IjaMcB3FhfuI"
      }
    },
    {
      "cell_type": "code",
      "source": [
        "baseline_token_output = baseline_response.usage_metadata.candidates_token_count\n",
        "print('Baseline (verbose) output tokens:', baseline_token_output)\n",
        "\n",
        "tuned_model_output = your_model.generate_content(sample_row)\n",
        "tuned_tokens_output = tuned_model_output.usage_metadata.candidates_token_count\n",
        "print('Tuned output tokens:', tuned_tokens_output)"
      ],
      "metadata": {
        "execution": {
          "iopub.status.busy": "2024-11-16T00:18:01.823311Z",
          "iopub.execute_input": "2024-11-16T00:18:01.823766Z",
          "iopub.status.idle": "2024-11-16T00:18:05.789132Z",
          "shell.execute_reply.started": "2024-11-16T00:18:01.823729Z",
          "shell.execute_reply": "2024-11-16T00:18:05.787881Z"
        },
        "trusted": true,
        "id": "zv5Zph3ohfuI",
        "outputId": "c4a0dcc1-e55a-4310-a1ee-ab6c1928d6e2"
      },
      "execution_count": null,
      "outputs": [
        {
          "name": "stdout",
          "text": "Baseline (verbose) output tokens: 208\nTuned output tokens: 4\n",
          "output_type": "stream"
        }
      ]
    },
    {
      "cell_type": "markdown",
      "source": [
        "## Next steps\n",
        "\n",
        "Now that you have tuned a classification model, try some other tasks, like tuning a model to respond with a specific tone or style using hand-written examples (or even generated examples!). Kaggle hosts [a number of datasets](https://www.kaggle.com/datasets) you can try out.\n",
        "\n",
        "Learn about [when supervised fine-tuning is most effective](https://cloud.google.com/blog/products/ai-machine-learning/supervised-fine-tuning-for-gemini-llm).\n",
        "\n",
        "And check out the [fine-tuning tutorial](https://ai.google.dev/gemini-api/docs/model-tuning/tutorial?hl=en&lang=python) for another example that shows a tuned model extending beyond the training data to new, unseen inputs."
      ],
      "metadata": {
        "id": "6c1204a5d0ab"
      }
    }
  ]
}