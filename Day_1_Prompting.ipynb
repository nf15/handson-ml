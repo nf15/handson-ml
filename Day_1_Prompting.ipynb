{
  "metadata": {
    "kernelspec": {
      "name": "python3",
      "display_name": "Python 3",
      "language": "python"
    },
    "language_info": {
      "name": "python",
      "version": "3.10.14",
      "mimetype": "text/x-python",
      "codemirror_mode": {
        "name": "ipython",
        "version": 3
      },
      "pygments_lexer": "ipython3",
      "nbconvert_exporter": "python",
      "file_extension": ".py"
    },
    "colab": {
      "toc_visible": true,
      "name": "Day 1 - Prompting",
      "provenance": [],
      "include_colab_link": true
    },
    "kaggle": {
      "accelerator": "none",
      "dataSources": [],
      "dockerImageVersionId": 30786,
      "isInternetEnabled": true,
      "language": "python",
      "sourceType": "notebook",
      "isGpuEnabled": false
    }
  },
  "nbformat_minor": 0,
  "nbformat": 4,
  "cells": [
    {
      "cell_type": "markdown",
      "metadata": {
        "id": "view-in-github",
        "colab_type": "text"
      },
      "source": [
        "<a href=\"https://colab.research.google.com/github/nf15/handson-ml/blob/master/Day_1_Prompting.ipynb\" target=\"_parent\"><img src=\"https://colab.research.google.com/assets/colab-badge.svg\" alt=\"Open In Colab\"/></a>"
      ]
    },
    {
      "cell_type": "markdown",
      "source": [
        "##### Copyright 2024 Google LLC."
      ],
      "metadata": {
        "id": "jkxRSYjzA1oX"
      }
    },
    {
      "cell_type": "code",
      "source": [
        "# @title Licensed under the Apache License, Version 2.0 (the \"License\");\n",
        "# you may not use this file except in compliance with the License.\n",
        "# You may obtain a copy of the License at\n",
        "#\n",
        "# https://www.apache.org/licenses/LICENSE-2.0\n",
        "#\n",
        "# Unless required by applicable law or agreed to in writing, software\n",
        "# distributed under the License is distributed on an \"AS IS\" BASIS,\n",
        "# WITHOUT WARRANTIES OR CONDITIONS OF ANY KIND, either express or implied.\n",
        "# See the License for the specific language governing permissions and\n",
        "# limitations under the License."
      ],
      "metadata": {
        "cellView": "form",
        "id": "5u5OZ2ShA3BA",
        "execution": {
          "iopub.status.busy": "2024-11-13T10:05:21.693311Z",
          "iopub.execute_input": "2024-11-13T10:05:21.694231Z",
          "iopub.status.idle": "2024-11-13T10:05:21.718369Z",
          "shell.execute_reply.started": "2024-11-13T10:05:21.694187Z",
          "shell.execute_reply": "2024-11-13T10:05:21.717194Z"
        },
        "jupyter": {
          "source_hidden": true
        },
        "trusted": true
      },
      "execution_count": null,
      "outputs": []
    },
    {
      "cell_type": "markdown",
      "source": [
        "# Day 1 - Prompting\n",
        "\n",
        "Welcome to the Kaggle 5-day Generative AI course!\n",
        "\n",
        "This notebook will show you how to get started with the Gemini API and walk you through some of the example prompts and techniques that you can also read about in the Prompting whitepaper. You don't need to read the whitepaper to use this notebook, but the papers will give you some theoretical context and background to complement this interactive notebook.\n",
        "\n",
        "\n",
        "## Before you begin\n",
        "\n",
        "In this notebook, you'll start exploring prompts and prompt parameters using the Python SDK and AI Studio. For some inspiration, you might enjoy exploring some apps that have been built using the Gemini family of models. Here are a few that we like, and we think you will too.\n",
        "\n",
        "* [TextFX](https://textfx.withgoogle.com/) is a suite of AI-powered tools for rappers, made in collaboration with Lupe Fiasco,\n",
        "* [SQL Talk](https://sql-talk-r5gdynozbq-uc.a.run.app/) shows how you can talk directly to a database using the Gemini API,\n",
        "* [NotebookLM](https://notebooklm.google/) uses Gemini models to build your own personal AI research assistant.\n",
        "\n",
        "\n",
        "## For help\n",
        "\n",
        "**Common issues are covered in the [FAQ and troubleshooting guide](https://www.kaggle.com/code/markishere/day-0-troubleshooting-and-faqs).**\n",
        "\n",
        "### A note on the Gemini API and Vertex AI\n",
        "\n",
        "In the whitepapers, most of the example code uses the Enterprise [Vertex AI platform](https://cloud.google.com/vertex-ai). In contrast, this notebook, along with the others in this series, will use the [Gemini Developer API](https://ai.google.dev/gemini-api/) and [AI Studio](https://aistudio.google.com/).\n",
        "\n",
        "Both APIs provide access to the Gemini family of models, and the code to interact with the models is very similar. Vertex provides a world-class platform for enterprises, governments and advanced users that need powerful features like data governance, ML ops and deep Google Cloud integration.\n",
        "\n",
        "AI Studio is free to use and only requires a compatible Google account to log in and get started. It is deeply integrated with the Gemini API, which comes with a generous [free tier](https://ai.google.dev/pricing) that you can use to run the code in these exercises.\n",
        "\n",
        "If you are already set up with Google Cloud, you can check out the [Enterprise Gemini API](https://cloud.google.com/vertex-ai/generative-ai/docs/model-reference/inference) through Vertex AI, and run the samples directly from the supplied whitepapers."
      ],
      "metadata": {
        "id": "csNPnkuCobmG"
      }
    },
    {
      "cell_type": "markdown",
      "source": [
        "## Get started with Kaggle notebooks\n",
        "\n",
        "If this is your first time using a Kaggle notebook, welcome! You can read about how to use Kaggle notebooks [in the docs](https://www.kaggle.com/docs/notebooks).\n",
        "\n",
        "First, you will need to phone verify your account at kaggle.com/settings.\n",
        "\n",
        "![](https://storage.googleapis.com/kaggle-media/Images/5dgai_0.png)"
      ],
      "metadata": {
        "id": "f00ea7c99e44"
      }
    },
    {
      "cell_type": "markdown",
      "source": [
        "To run this notebook, as well as the others in this course, you will need to make a copy, or fork, the notebook. Look for the `Copy and Edit` button in the top-right, and **click it** to make an editable, private copy of the notebook. It should look like this one:\n",
        "\n",
        "![Copy and Edit button](https://storage.googleapis.com/kaggle-media/Images/5gdai_sc_1.png)\n",
        "\n",
        "Your copy will now have a ▶️ **Run** button next to each code cell that you can press to execute that cell. These notebooks are expected to be run in order from top-to-bottom, but you are encouraged to add new cells, run your own code and explore. If you get stuck, you can try the `Factory reset` option in the `Run` menu, or head back to the original notebook and make a fresh copy.\n",
        "\n",
        "![Run cell button](https://storage.googleapis.com/kaggle-media/Images/5gdai_sc_2.png)\n",
        "\n",
        "### Problems?\n",
        "\n",
        "If you have any problems, head over to the [Kaggle Discord](https://discord.com/invite/kaggle), find the [`#5dgai-q-and-a` channel](https://discord.com/channels/1101210829807956100/1303438695143178251) and ask for help."
      ],
      "metadata": {
        "id": "Nzm2rbGo2sq_"
      }
    },
    {
      "cell_type": "markdown",
      "source": [
        "## Get started with the Gemini API\n",
        "\n",
        "All of the exercises in this notebook will use the [Gemini API](https://ai.google.dev/gemini-api/) by way of the [Python SDK](https://pypi.org/project/google-generativeai/). Each of these prompts can be accessed directly in [Google AI Studio](https://aistudio.google.com/) too, so if you would rather use a web interface and skip the code for this activity, look for the <img src=\"https://ai.google.dev/site-assets/images/marketing/home/icon-ais.png\" style=\"height: 24px\" height=24/> AI Studio link on each prompt."
      ],
      "metadata": {
        "id": "ExkOXcPxtTb5"
      }
    },
    {
      "cell_type": "markdown",
      "source": [
        "Next, you will need to add your API key to your Kaggle Notebook as a Kaggle User Secret.\n",
        "\n",
        "![](https://storage.googleapis.com/kaggle-media/Images/5dgai_1.png)\n",
        "![](https://storage.googleapis.com/kaggle-media/Images/5dgai_2.png)\n",
        "![](https://storage.googleapis.com/kaggle-media/Images/5dgai_3.png)\n",
        "![](https://storage.googleapis.com/kaggle-media/Images/5dgai_4.png)"
      ],
      "metadata": {
        "id": "6H3rWusG2srA"
      }
    },
    {
      "cell_type": "markdown",
      "source": [
        "### Install the SDK"
      ],
      "metadata": {
        "id": "UAjUV3BsvFXQ"
      }
    },
    {
      "cell_type": "code",
      "source": [
        "%pip install -U -q \"google-generativeai>=0.8.3\""
      ],
      "metadata": {
        "id": "NzwzJFU9LqkJ",
        "execution": {
          "iopub.status.busy": "2024-11-14T20:39:48.803378Z",
          "iopub.execute_input": "2024-11-14T20:39:48.804404Z",
          "iopub.status.idle": "2024-11-14T20:40:18.32485Z",
          "shell.execute_reply.started": "2024-11-14T20:39:48.804358Z",
          "shell.execute_reply": "2024-11-14T20:40:18.323522Z"
        },
        "trusted": true,
        "outputId": "d36b3331-e52f-451e-fd20-41d3817e8e0c"
      },
      "execution_count": null,
      "outputs": [
        {
          "name": "stdout",
          "text": "Note: you may need to restart the kernel to use updated packages.\n",
          "output_type": "stream"
        }
      ]
    },
    {
      "cell_type": "markdown",
      "source": [
        "You do not need to restart the kernel."
      ],
      "metadata": {
        "id": "rwBtQ6Dk2srC"
      }
    },
    {
      "cell_type": "code",
      "source": [
        "import google.generativeai as genai\n",
        "from IPython.display import HTML, Markdown, display"
      ],
      "metadata": {
        "id": "5DwxYIRavMST",
        "execution": {
          "iopub.status.busy": "2024-11-14T20:40:34.086282Z",
          "iopub.execute_input": "2024-11-14T20:40:34.086712Z",
          "iopub.status.idle": "2024-11-14T20:40:35.275601Z",
          "shell.execute_reply.started": "2024-11-14T20:40:34.086672Z",
          "shell.execute_reply": "2024-11-14T20:40:35.27462Z"
        },
        "trusted": true
      },
      "execution_count": null,
      "outputs": []
    },
    {
      "cell_type": "markdown",
      "source": [
        "### Set up your API key\n",
        "\n",
        "To run the following cell, your API key must be stored it in a [Kaggle secret](https://www.kaggle.com/discussions/product-feedback/114053) named `GOOGLE_API_KEY`.\n",
        "\n",
        "If you don't already have an API key, you can grab one from [AI Studio](https://aistudio.google.com/app/apikey). You can find [detailed instructions in the docs](https://ai.google.dev/gemini-api/docs/api-key).\n",
        "\n",
        "To make the key available through Kaggle secrets, choose `Secrets` from the `Add-ons` menu and follow the instructions to add your key or enable it for this notebook."
      ],
      "metadata": {
        "id": "DNEt2BCOvOJ1"
      }
    },
    {
      "cell_type": "code",
      "source": [
        "from kaggle_secrets import UserSecretsClient\n",
        "\n",
        "GOOGLE_API_KEY = UserSecretsClient().get_secret(\"GOOGLE_API_KEY\")\n",
        "genai.configure(api_key=GOOGLE_API_KEY)"
      ],
      "metadata": {
        "id": "SHl0bkPCvayd",
        "execution": {
          "iopub.status.busy": "2024-11-14T20:40:44.837624Z",
          "iopub.execute_input": "2024-11-14T20:40:44.838885Z",
          "iopub.status.idle": "2024-11-14T20:40:45.68015Z",
          "shell.execute_reply.started": "2024-11-14T20:40:44.838838Z",
          "shell.execute_reply": "2024-11-14T20:40:45.679095Z"
        },
        "trusted": true
      },
      "execution_count": null,
      "outputs": []
    },
    {
      "cell_type": "markdown",
      "source": [
        "If you received an error response along the lines of `No user secrets exist for kernel id ...`, then you need to add your API key via `Add-ons`, `Secrets` **and** enable it.\n",
        "\n",
        "![Screenshot of the checkbox to enable GOOGLE_API_KEY secret](https://storage.googleapis.com/kaggle-media/Images/5gdai_sc_3.png)"
      ],
      "metadata": {
        "id": "4e720472fd86"
      }
    },
    {
      "cell_type": "markdown",
      "source": [
        "### Run your first prompt\n",
        "\n",
        "In this step, you will test that your API key is set up correctly by making a request. The `gemini-1.5-flash` model has been selected here."
      ],
      "metadata": {
        "id": "H_YXCYIKvyZJ"
      }
    },
    {
      "cell_type": "code",
      "source": [
        "flash = genai.GenerativeModel('gemini-1.5-flash')\n",
        "response = flash.generate_content(\"Explain AI to me like I'm a kid.\")\n",
        "print(response.text)"
      ],
      "metadata": {
        "id": "BV1o0PmcvyJF",
        "execution": {
          "iopub.status.busy": "2024-11-14T20:42:23.910173Z",
          "iopub.execute_input": "2024-11-14T20:42:23.910567Z",
          "iopub.status.idle": "2024-11-14T20:42:25.728118Z",
          "shell.execute_reply.started": "2024-11-14T20:42:23.910516Z",
          "shell.execute_reply": "2024-11-14T20:42:25.726946Z"
        },
        "trusted": true,
        "outputId": "103c0a5f-761d-42e7-ff74-88c17b7167c7"
      },
      "execution_count": null,
      "outputs": [
        {
          "name": "stdout",
          "text": "Imagine you have a really smart computer, like a super brain! This computer can learn from all the information you give it, just like you learn at school. \n\nWe call this super brain **Artificial Intelligence** (AI) because it's like intelligence but made by humans. \n\nAI can do lots of cool things! It can:\n\n* **Play games:** Imagine playing chess against a computer that never gets tired and always remembers all the moves!\n* **Recognize faces:** It can tell who you are just by looking at your picture, like a super detective!\n* **Translate languages:** It can understand what you're saying in one language and tell you what it means in another language. \n\nAI is still learning, but it's already helping us do amazing things! \n\n",
          "output_type": "stream"
        }
      ]
    },
    {
      "cell_type": "markdown",
      "source": [
        "The response often comes back in markdown format, which you can render directly in this notebook."
      ],
      "metadata": {
        "id": "f60ed9d8ae41"
      }
    },
    {
      "cell_type": "code",
      "source": [
        "Markdown(response.text)"
      ],
      "metadata": {
        "id": "c933e5e460a5",
        "execution": {
          "iopub.status.busy": "2024-11-14T20:42:35.822095Z",
          "iopub.execute_input": "2024-11-14T20:42:35.822465Z",
          "iopub.status.idle": "2024-11-14T20:42:35.829352Z",
          "shell.execute_reply.started": "2024-11-14T20:42:35.822429Z",
          "shell.execute_reply": "2024-11-14T20:42:35.82831Z"
        },
        "trusted": true,
        "outputId": "516013b4-c8a9-478a-f8c3-abd499824ddf"
      },
      "execution_count": null,
      "outputs": [
        {
          "execution_count": 17,
          "output_type": "execute_result",
          "data": {
            "text/plain": "<IPython.core.display.Markdown object>",
            "text/markdown": "Imagine you have a really smart computer, like a super brain! This computer can learn from all the information you give it, just like you learn at school. \n\nWe call this super brain **Artificial Intelligence** (AI) because it's like intelligence but made by humans. \n\nAI can do lots of cool things! It can:\n\n* **Play games:** Imagine playing chess against a computer that never gets tired and always remembers all the moves!\n* **Recognize faces:** It can tell who you are just by looking at your picture, like a super detective!\n* **Translate languages:** It can understand what you're saying in one language and tell you what it means in another language. \n\nAI is still learning, but it's already helping us do amazing things! \n"
          },
          "metadata": {}
        }
      ]
    },
    {
      "cell_type": "markdown",
      "source": [
        "### Start a chat\n",
        "\n",
        "The previous example uses a single-turn, text-in/text-out structure, but you can also set up a multi-turn chat structure too."
      ],
      "metadata": {
        "id": "byx0pT9ZMW2Q"
      }
    },
    {
      "cell_type": "code",
      "source": [
        "chat = flash.start_chat(history=[])\n",
        "response = chat.send_message('Hello! My name is Zlork.')\n",
        "print(response.text)"
      ],
      "metadata": {
        "id": "lV_S5ZL5MidD",
        "execution": {
          "iopub.status.busy": "2024-11-14T20:42:45.809573Z",
          "iopub.execute_input": "2024-11-14T20:42:45.810357Z",
          "iopub.status.idle": "2024-11-14T20:42:46.344381Z",
          "shell.execute_reply.started": "2024-11-14T20:42:45.810314Z",
          "shell.execute_reply": "2024-11-14T20:42:46.343306Z"
        },
        "trusted": true,
        "outputId": "6836f4a5-dee9-4614-9531-5a108f21a18e"
      },
      "execution_count": null,
      "outputs": [
        {
          "name": "stdout",
          "text": "Hello Zlork! It's nice to meet you.  What can I do for you today? 😊 \n\n",
          "output_type": "stream"
        }
      ]
    },
    {
      "cell_type": "code",
      "source": [
        "response = chat.send_message('Can you tell something interesting about dinosaurs?')\n",
        "print(response.text)"
      ],
      "metadata": {
        "id": "7b0372c3c64a",
        "execution": {
          "iopub.status.busy": "2024-11-14T20:42:52.022413Z",
          "iopub.execute_input": "2024-11-14T20:42:52.022912Z",
          "iopub.status.idle": "2024-11-14T20:42:53.66103Z",
          "shell.execute_reply.started": "2024-11-14T20:42:52.022866Z",
          "shell.execute_reply": "2024-11-14T20:42:53.659861Z"
        },
        "trusted": true,
        "outputId": "5f1009a5-5b11-4a37-a6a4-810303ffbefb"
      },
      "execution_count": null,
      "outputs": [
        {
          "name": "stdout",
          "text": "Okay, Zlork! Here's something interesting about dinosaurs: \n\n**Did you know some dinosaurs had feathers?** \n\nIt's true! While we often picture dinosaurs as scaly beasts, many species, especially those related to birds, sported feathers. These feathers weren't always for flight, though. They could have been used for insulation, display, or even camouflage. \n\nThis discovery has revolutionized our understanding of dinosaurs and their relationship to modern birds. \n\nWhat else would you like to know about dinosaurs?  🦖 \n\n",
          "output_type": "stream"
        }
      ]
    },
    {
      "cell_type": "code",
      "source": [
        "# While you have the `chat` object around, the conversation state\n",
        "# persists. Confirm that by asking if it knows my name.\n",
        "response = chat.send_message('Do you remember what my name is?')\n",
        "print(response.text)"
      ],
      "metadata": {
        "id": "d3f9591392a7",
        "execution": {
          "iopub.status.busy": "2024-11-14T20:42:59.874634Z",
          "iopub.execute_input": "2024-11-14T20:42:59.87505Z",
          "iopub.status.idle": "2024-11-14T20:43:00.948207Z",
          "shell.execute_reply.started": "2024-11-14T20:42:59.87501Z",
          "shell.execute_reply": "2024-11-14T20:43:00.947116Z"
        },
        "trusted": true,
        "outputId": "771f5217-e997-4a84-89e7-852b5601f4cd"
      },
      "execution_count": null,
      "outputs": [
        {
          "name": "stdout",
          "text": "Of course I remember your name, Zlork! I'm a pretty good listener. 😊  \n\nWhat else can I help you with today? \n\n",
          "output_type": "stream"
        }
      ]
    },
    {
      "cell_type": "markdown",
      "source": [
        "### Choose a model\n",
        "\n",
        "The Gemini API provides access to a number of models from the Gemini model family. Read about the available models and their capabilities on the [model overview page](https://ai.google.dev/gemini-api/docs/models/gemini).\n",
        "\n",
        "In this step you'll use the API to list all of the available models."
      ],
      "metadata": {
        "id": "2KAjpr1200sW"
      }
    },
    {
      "cell_type": "code",
      "source": [
        "for model in genai.list_models():\n",
        "  print(model.name)"
      ],
      "metadata": {
        "id": "uUUZa2uq2jDm",
        "execution": {
          "iopub.status.busy": "2024-11-14T20:43:11.173497Z",
          "iopub.execute_input": "2024-11-14T20:43:11.17394Z",
          "iopub.status.idle": "2024-11-14T20:43:11.454776Z",
          "shell.execute_reply.started": "2024-11-14T20:43:11.173899Z",
          "shell.execute_reply": "2024-11-14T20:43:11.45364Z"
        },
        "trusted": true,
        "outputId": "68f2d4d2-ecd5-4d0a-aef4-cda1ea22a133"
      },
      "execution_count": null,
      "outputs": [
        {
          "name": "stdout",
          "text": "models/chat-bison-001\nmodels/text-bison-001\nmodels/embedding-gecko-001\nmodels/gemini-1.0-pro-latest\nmodels/gemini-1.0-pro\nmodels/gemini-pro\nmodels/gemini-1.0-pro-001\nmodels/gemini-1.0-pro-vision-latest\nmodels/gemini-pro-vision\nmodels/gemini-1.5-pro-latest\nmodels/gemini-1.5-pro-001\nmodels/gemini-1.5-pro-002\nmodels/gemini-1.5-pro\nmodels/gemini-1.5-pro-exp-0801\nmodels/gemini-1.5-pro-exp-0827\nmodels/gemini-1.5-flash-latest\nmodels/gemini-1.5-flash-001\nmodels/gemini-1.5-flash-001-tuning\nmodels/gemini-1.5-flash\nmodels/gemini-1.5-flash-exp-0827\nmodels/gemini-1.5-flash-002\nmodels/gemini-1.5-flash-8b\nmodels/gemini-1.5-flash-8b-001\nmodels/gemini-1.5-flash-8b-latest\nmodels/gemini-1.5-flash-8b-exp-0827\nmodels/gemini-1.5-flash-8b-exp-0924\nmodels/embedding-001\nmodels/text-embedding-004\nmodels/aqa\n",
          "output_type": "stream"
        }
      ]
    },
    {
      "cell_type": "markdown",
      "source": [
        "The [`models.list`](https://ai.google.dev/api/models#method:-models.list) response also returns additional information about the model's capabilities, like the token limits and supported parameters."
      ],
      "metadata": {
        "id": "rN49kSI54R1v"
      }
    },
    {
      "cell_type": "code",
      "source": [
        "for model in genai.list_models():\n",
        "  if model.name == 'models/gemini-1.5-flash':\n",
        "    print(model)\n",
        "    break"
      ],
      "metadata": {
        "id": "k7JJ1K6j4Rl8",
        "execution": {
          "iopub.status.busy": "2024-11-14T20:43:18.694571Z",
          "iopub.execute_input": "2024-11-14T20:43:18.695011Z",
          "iopub.status.idle": "2024-11-14T20:43:18.9652Z",
          "shell.execute_reply.started": "2024-11-14T20:43:18.694969Z",
          "shell.execute_reply": "2024-11-14T20:43:18.964128Z"
        },
        "trusted": true,
        "outputId": "0bc8bfdc-ab6b-4e7e-84fe-c466ecef0825"
      },
      "execution_count": null,
      "outputs": [
        {
          "name": "stdout",
          "text": "Model(name='models/gemini-1.5-flash',\n      base_model_id='',\n      version='001',\n      display_name='Gemini 1.5 Flash',\n      description='Fast and versatile multimodal model for scaling across diverse tasks',\n      input_token_limit=1000000,\n      output_token_limit=8192,\n      supported_generation_methods=['generateContent', 'countTokens'],\n      temperature=1.0,\n      max_temperature=2.0,\n      top_p=0.95,\n      top_k=40)\n",
          "output_type": "stream"
        }
      ]
    },
    {
      "cell_type": "markdown",
      "source": [
        "## Explore generation parameters\n",
        "\n"
      ],
      "metadata": {
        "id": "5rU_UBlZdooM"
      }
    },
    {
      "cell_type": "markdown",
      "source": [
        "### Output length\n",
        "\n",
        "When generating text with an LLM, the output length affects cost and performance. Generating more tokens increases computation, leading to higher energy consumption, latency, and cost.\n",
        "\n",
        "To stop the model from generating tokens past a limit, you can specify the `max_output_tokens` parameter when using the Gemini API. Specifying this parameter does not influence the generation of the output tokens, so the output will not become more stylistically or textually succinct, but it will stop generating tokens once the specified length is reached. Prompt engineering may be required to generate a more complete output for your given limit."
      ],
      "metadata": {
        "id": "G7NfEizeipbW"
      }
    },
    {
      "cell_type": "code",
      "source": [
        "short_model = genai.GenerativeModel(\n",
        "    'gemini-1.5-flash',\n",
        "    generation_config=genai.GenerationConfig(max_output_tokens=200))\n",
        "\n",
        "response = short_model.generate_content('Write a 1000 word essay on the importance of olives in modern society.')\n",
        "print(response.text)"
      ],
      "metadata": {
        "id": "qVf23JsIi9ma",
        "execution": {
          "iopub.status.busy": "2024-11-14T20:43:26.802626Z",
          "iopub.execute_input": "2024-11-14T20:43:26.803048Z",
          "iopub.status.idle": "2024-11-14T20:43:28.254494Z",
          "shell.execute_reply.started": "2024-11-14T20:43:26.803008Z",
          "shell.execute_reply": "2024-11-14T20:43:28.253334Z"
        },
        "trusted": true,
        "outputId": "cf297d7e-9a3a-40bd-c8b3-0d82e962f3b2"
      },
      "execution_count": null,
      "outputs": [
        {
          "name": "stdout",
          "text": "## The Enduring Appeal: Olives in Modern Society\n\nThe olive tree, a symbol of peace, resilience, and longevity, has been a cornerstone of Mediterranean culture for millennia. Its fruit, the olive, has transcended its culinary origins, becoming an integral part of modern society, impacting economies, diets, and even environmental sustainability. While olives are deeply embedded in history and tradition, their significance in the 21st century goes beyond mere nostalgia. This essay will explore the multifaceted importance of olives in modern society, highlighting their economic value, nutritional benefits, cultural significance, and potential for environmental preservation.\n\n**Economic Backbone:** The olive industry is a vital economic driver for numerous countries worldwide. Spain, Italy, Greece, and Tunisia are major olive producers, with millions of people directly or indirectly employed in the cultivation, processing, and distribution of olives and olive oil. The industry contributes significantly to rural economies, supporting small-scale farmers and providing livelihoods in regions often facing limited economic opportunities. The global olive\n",
          "output_type": "stream"
        }
      ]
    },
    {
      "cell_type": "code",
      "source": [
        "response = short_model.generate_content('Write a short poem on the importance of olives in modern society.')\n",
        "print(response.text)"
      ],
      "metadata": {
        "id": "W-3kR2F5kdMR",
        "execution": {
          "iopub.status.busy": "2024-11-14T20:43:36.263466Z",
          "iopub.execute_input": "2024-11-14T20:43:36.264332Z",
          "iopub.status.idle": "2024-11-14T20:43:37.940136Z",
          "shell.execute_reply.started": "2024-11-14T20:43:36.26428Z",
          "shell.execute_reply": "2024-11-14T20:43:37.939078Z"
        },
        "trusted": true,
        "outputId": "5139d40d-b7ae-4c32-9c48-023fe7442021"
      },
      "execution_count": null,
      "outputs": [
        {
          "name": "stdout",
          "text": "A tiny fruit, a humble sphere,\nYet holds within a world so dear.\nFrom ancient groves to modern shelves,\nThe olive reigns, its story delves.\n\nA briny bite, a savory taste,\nIn salads tossed, on bread embraced.\nA gentle oil, a golden sheen,\nFor dressings light and flavors keen.\n\nA symbol strong, of peace and grace,\nA gift of earth, in every space.\nSo raise a glass, to this small prize,\nThe olive lives, in modern eyes. \n\n",
          "output_type": "stream"
        }
      ]
    },
    {
      "cell_type": "code",
      "source": [
        "response = short_model.generate_content('Write a 100 word history on benefits fruits and vegitables in modern society.')\n",
        "print(response.text)"
      ],
      "metadata": {
        "execution": {
          "iopub.status.busy": "2024-11-14T20:43:45.982436Z",
          "iopub.execute_input": "2024-11-14T20:43:45.98285Z",
          "iopub.status.idle": "2024-11-14T20:43:47.611811Z",
          "shell.execute_reply.started": "2024-11-14T20:43:45.982811Z",
          "shell.execute_reply": "2024-11-14T20:43:47.60825Z"
        },
        "trusted": true,
        "id": "UBbFnnrr2srG",
        "outputId": "44db8943-3eb9-4108-9fa7-39e95cfe18f2"
      },
      "execution_count": null,
      "outputs": [
        {
          "name": "stdout",
          "text": "Fruits and vegetables have played an increasingly vital role in modern society, driven by growing awareness of their health benefits.  The 20th century saw a rise in chronic diseases linked to poor diet, leading to increased emphasis on fruit and vegetable consumption.  This was further fueled by scientific research highlighting their role in preventing heart disease, stroke, and certain cancers.  Government initiatives promoting healthy eating, alongside the rise of organic farming and farmers' markets, have made fresh produce more accessible.  Today, fruits and vegetables are not merely sustenance, but symbols of a healthy and sustainable lifestyle. \n\n",
          "output_type": "stream"
        }
      ]
    },
    {
      "cell_type": "markdown",
      "source": [
        "Explore with your own prompts. Try a prompt with a restrictive output limit and then adjust the prompt to work within that limit."
      ],
      "metadata": {
        "id": "3ZhDSLB6lqqB"
      }
    },
    {
      "cell_type": "code",
      "source": [
        "response = short_model.generate_content('Write a short poem on the importance fruits and vegitables in modern society.')\n",
        "print(response.text)"
      ],
      "metadata": {
        "execution": {
          "iopub.status.busy": "2024-11-14T20:45:13.593709Z",
          "iopub.execute_input": "2024-11-14T20:45:13.594588Z",
          "iopub.status.idle": "2024-11-14T20:45:14.793583Z",
          "shell.execute_reply.started": "2024-11-14T20:45:13.594519Z",
          "shell.execute_reply": "2024-11-14T20:45:14.792299Z"
        },
        "trusted": true,
        "id": "teNjoGKl2srG",
        "outputId": "5b0eaaa1-356e-4fd9-ae92-bf1efbec131a"
      },
      "execution_count": null,
      "outputs": [
        {
          "name": "stdout",
          "text": "In bustling streets, where screens ignite,\nA simple truth we must ignite:\nFrom leafy greens to berries bright,\nNature's bounty, pure and light.\n\nNo longer just a rustic fare,\nFruits and veggies, we should share,\nFueling bodies, strong and clear,\nBanishing ailments, far and near.\n\nIn bustling kitchens, where chefs create,\nVibrant colors, we celebrate,\nA rainbow feast, a mindful state,\nFor health and well-being, we await.\n\nSo let us choose, with conscious grace,\nNature's treasures, in every space,\nFruits and veggies, a vital embrace,\nFor a brighter future, we will chase. \n\n",
          "output_type": "stream"
        }
      ]
    },
    {
      "cell_type": "markdown",
      "source": [
        "### Temperature\n",
        "\n",
        "Temperature controls the degree of randomness in token selection. Higher temperatures result in a higher number of candidate tokens from which the next output token is selected, and can produce more diverse results, while lower temperatures have the opposite effect, such that a temperature of 0 results in greedy decoding, selecting the most probable token at each step.\n",
        "\n",
        "Temperature doesn't provide any guarantees of randomness, but it can be used to \"nudge\" the output somewhat.\n",
        "\n",
        "**Note that if you see a 429 Resource Exhausted error here, you may be able to edit the words in the prompt slightly to progress.**"
      ],
      "metadata": {
        "id": "alx-WaAvir_9"
      }
    },
    {
      "cell_type": "code",
      "source": [
        "from google.api_core import retry\n",
        "\n",
        "high_temp_model = genai.GenerativeModel(\n",
        "    'gemini-1.5-flash',\n",
        "    generation_config=genai.GenerationConfig(temperature=2.0))\n",
        "\n",
        "\n",
        "# When running lots of queries, it's a good practice to use a retry policy so your code\n",
        "# automatically retries when hitting Resource Exhausted (quota limit) errors.\n",
        "retry_policy = {\n",
        "    \"retry\": retry.Retry(predicate=retry.if_transient_error, initial=10, multiplier=1.5, timeout=300)\n",
        "}\n",
        "\n",
        "for _ in range(5):\n",
        "  response = high_temp_model.generate_content('Pick a random colour... (respond in a single word)',\n",
        "                                              request_options=retry_policy)\n",
        "  if response.parts:\n",
        "    print(response.text, '-' * 25)"
      ],
      "metadata": {
        "id": "SHraGMzqnZqt",
        "execution": {
          "iopub.status.busy": "2024-11-14T20:45:34.62712Z",
          "iopub.execute_input": "2024-11-14T20:45:34.627532Z",
          "iopub.status.idle": "2024-11-14T20:45:37.412802Z",
          "shell.execute_reply.started": "2024-11-14T20:45:34.627494Z",
          "shell.execute_reply": "2024-11-14T20:45:37.411762Z"
        },
        "trusted": true,
        "outputId": "a21889f3-9dba-4143-abcb-4537436fd14a"
      },
      "execution_count": null,
      "outputs": [
        {
          "name": "stdout",
          "text": "Blue. \n -------------------------\nIndigo \n -------------------------\nPurple \n -------------------------\nBlue \n -------------------------\nPurple \n -------------------------\n",
          "output_type": "stream"
        }
      ]
    },
    {
      "cell_type": "markdown",
      "source": [
        "Now try the same prompt with temperature set to zero. Note that the output is not completely deterministic, as other parameters affect token selection, but the results will tend to be more stable."
      ],
      "metadata": {
        "id": "z3J4pCTuof7e"
      }
    },
    {
      "cell_type": "code",
      "source": [
        "low_temp_model = genai.GenerativeModel(\n",
        "    'gemini-1.5-flash',\n",
        "    generation_config=genai.GenerationConfig(temperature=0.0))\n",
        "\n",
        "for _ in range(5):\n",
        "  response = low_temp_model.generate_content('Pick a random colour... (respond in a single word)',\n",
        "                                             request_options=retry_policy)\n",
        "  if response.parts:\n",
        "    print(response.text, '-' * 25)"
      ],
      "metadata": {
        "id": "clymkWv-PfUZ",
        "execution": {
          "iopub.status.busy": "2024-11-14T20:45:43.358747Z",
          "iopub.execute_input": "2024-11-14T20:45:43.359139Z",
          "iopub.status.idle": "2024-11-14T20:45:45.609277Z",
          "shell.execute_reply.started": "2024-11-14T20:45:43.359103Z",
          "shell.execute_reply": "2024-11-14T20:45:45.608226Z"
        },
        "trusted": true,
        "outputId": "e4443946-0293-4b05-e37f-227cca31211d"
      },
      "execution_count": null,
      "outputs": [
        {
          "name": "stdout",
          "text": "Purple \n -------------------------\nPurple \n -------------------------\nPurple \n -------------------------\nPurple \n -------------------------\nPurple \n -------------------------\n",
          "output_type": "stream"
        }
      ]
    },
    {
      "cell_type": "markdown",
      "source": [
        "### Top-K and top-P\n",
        "\n",
        "Like temperature, top-K and top-P parameters are also used to control the diversity of the model's output.\n",
        "\n",
        "Top-K is a positive integer that defines the number of most probable tokens from which to select the output token. A top-K of 1 selects a single token, performing greedy decoding.\n",
        "\n",
        "Top-P defines the probability threshold that, once cumulatively exceeded, tokens stop being selected as candidates. A top-P of 0 is typically equivalent to greedy decoding, and a top-P of 1 typically selects every token in the model's vocabulary.\n",
        "\n",
        "When both are supplied, the Gemini API will filter top-K tokens first, then top-P and then finally sample from the candidate tokens using the supplied temperature.\n",
        "\n",
        "Run this example a number of times, change the settings and observe the change in output."
      ],
      "metadata": {
        "id": "St5nt3vzitsZ"
      }
    },
    {
      "cell_type": "code",
      "source": [
        "model = genai.GenerativeModel(\n",
        "    'gemini-1.5-flash-001',\n",
        "    generation_config=genai.GenerationConfig(\n",
        "        # These are the default values for gemini-1.5-flash-001.\n",
        "        temperature=1.0,\n",
        "        top_k=64,\n",
        "        top_p=0.95,\n",
        "    ))\n",
        "\n",
        "story_prompt = \"You are a creative writer. Write a short story about a cat who goes on an adventure.\"\n",
        "response = model.generate_content(story_prompt, request_options=retry_policy)\n",
        "print(response.text)"
      ],
      "metadata": {
        "id": "lPlzpEavUV8F",
        "execution": {
          "iopub.status.busy": "2024-11-14T20:45:52.660597Z",
          "iopub.execute_input": "2024-11-14T20:45:52.661096Z",
          "iopub.status.idle": "2024-11-14T20:45:56.385872Z",
          "shell.execute_reply.started": "2024-11-14T20:45:52.661051Z",
          "shell.execute_reply": "2024-11-14T20:45:56.384629Z"
        },
        "trusted": true,
        "outputId": "9f7fe28f-7032-4dd6-cfb6-5db0294fdf0b"
      },
      "execution_count": null,
      "outputs": [
        {
          "name": "stdout",
          "text": "Bartholomew, a ginger tabby with a perpetual air of disdain, was not a cat for adventure. He preferred the comfort of his sun-drenched windowsill, meticulously grooming his whiskers and judging the pigeons below. But one particularly curious morning, a stray feather, impossibly blue, drifted through his window. It landed at his paws, beckoning.\n\nBartholomew, against his better judgement, picked it up. It was light as air, impossibly soft, and strangely mesmerizing. It whispered promises of distant lands and forbidden adventures. He sniffed it, his senses alight, and a feeling he hadn't felt before, a tingling excitement, spread through his whiskers.\n\nHe knew what he had to do. He had to follow the feather.\n\nThe feather led him through the bustling city streets, past noisy humans and screeching trams. He dodged stray dogs, leaped over fences, and navigated alleyways with a newfound agility. The feather led him to a hidden park, an oasis of green amidst the concrete jungle. There, nestled amongst the willow trees, Bartholomew found a hidden gateway.\n\nIt was a small, shimmering doorway, barely visible to the naked eye. The blue feather, pulsing with a gentle light, hovered over it. Bartholomew, his heart pounding with a mixture of trepidation and exhilaration, pushed through.\n\nHe found himself in a world beyond imagination. Flowers bloomed in colors he had never seen, butterflies with wings like stained glass fluttered by, and birds sang melodies that made his whiskers twitch. It was a wonderland.\n\nHe followed the feather, now a trail of blue light, through fields of shimmering dew, past singing trees, and across a river of sparkling water. He met creatures he had never seen before: a squirrel with feathers, a frog that sang opera, and a giant, friendly spider who offered him a silk hammock to rest in.\n\nFinally, after days of wonder, the feather led him to a towering mountain, its peak lost in the clouds. The blue feather fluttered around it, then vanished with a soft pop. Bartholomew, exhausted but exhilarated, climbed the mountain, guided by the memory of the feather's light.\n\nAt the summit, he found a magnificent vista. The city, his world, sprawled below, a tapestry of grey and green. He looked out at the vast expanse, the air crisp and clean, and realised that he was home. He had seen wonders, met fantastical creatures, and experienced a freedom he never knew existed. But he had also discovered a truth about himself. He was a cat of comfort, of routine, and of home.\n\nHe turned and descended the mountain, his heart full of gratitude and a newfound appreciation for his windowsill. He was Bartholomew, the ginger tabby, and he was content. He would, however, never forget the blue feather and the extraordinary adventure it led him on. He would carry it in his heart, a secret whisper of a world beyond the ordinary, a reminder that even the most comfortable of cats could be brave, and that adventure, however fleeting, could change everything. \n\n",
          "output_type": "stream"
        }
      ]
    },
    {
      "cell_type": "markdown",
      "source": [
        "## Prompting\n",
        "\n",
        "This section contains some prompts from the chapter for you to try out directly in the API. Try changing the text here to see how each prompt performs with different instructions, more examples, or any other changes you can think of."
      ],
      "metadata": {
        "id": "rMrYs1koY6DX"
      }
    },
    {
      "cell_type": "markdown",
      "source": [
        "### Zero-shot\n",
        "\n",
        "Zero-shot prompts are prompts that describe the request for the model directly.\n",
        "\n",
        "<table align=left>\n",
        "  <td>\n",
        "    <a target=\"_blank\" href=\"https://aistudio.google.com/prompts/1gzKKgDHwkAvexG5Up0LMtl1-6jKMKe4g\"><img src=\"https://ai.google.dev/site-assets/images/marketing/home/icon-ais.png\" style=\"height: 24px\" height=24/> Open in AI Studio</a>\n",
        "  </td>\n",
        "</table>"
      ],
      "metadata": {
        "id": "hhj_tQidZJP7"
      }
    },
    {
      "cell_type": "code",
      "source": [
        "model = genai.GenerativeModel(\n",
        "    'gemini-1.5-flash-001',\n",
        "    generation_config=genai.GenerationConfig(\n",
        "        temperature=0.1,\n",
        "        top_p=1,\n",
        "        max_output_tokens=5,\n",
        "    ))\n",
        "\n",
        "zero_shot_prompt = \"\"\"Classify movie reviews as POSITIVE, NEUTRAL or NEGATIVE.\n",
        "Review: \"Her\" is a disturbing study revealing the direction\n",
        "humanity is headed if AI is allowed to keep evolving,\n",
        "unchecked. I wish there were more movies like this masterpiece.\n",
        "Sentiment: \"\"\"\n",
        "\n",
        "response = model.generate_content(zero_shot_prompt, request_options=retry_policy)\n",
        "print(response.text)"
      ],
      "metadata": {
        "id": "1_t-cwnDZzbH",
        "execution": {
          "iopub.status.busy": "2024-11-14T20:46:07.798702Z",
          "iopub.execute_input": "2024-11-14T20:46:07.799112Z",
          "iopub.status.idle": "2024-11-14T20:46:08.78843Z",
          "shell.execute_reply.started": "2024-11-14T20:46:07.799073Z",
          "shell.execute_reply": "2024-11-14T20:46:08.787331Z"
        },
        "trusted": true,
        "outputId": "09ef022c-31f4-413e-9a55-527cce88bcb0"
      },
      "execution_count": null,
      "outputs": [
        {
          "name": "stdout",
          "text": "Sentiment: **POSITIVE**\n",
          "output_type": "stream"
        }
      ]
    },
    {
      "cell_type": "markdown",
      "source": [
        "#### Enum mode\n",
        "\n",
        "The models are trained to generate text, and can sometimes produce more text than you may wish for. In the preceding example, the model will output the label, sometimes it can include a preceding \"Sentiment\" label, and without an output token limit, it may also add explanatory text afterwards.\n",
        "\n",
        "The Gemini API has an [Enum mode](https://github.com/google-gemini/cookbook/blob/main/quickstarts/Enum.ipynb) feature that allows you to constrain the output to a fixed set of values."
      ],
      "metadata": {
        "id": "3b5568bdeb11"
      }
    },
    {
      "cell_type": "code",
      "source": [
        "import enum\n",
        "\n",
        "class Sentiment(enum.Enum):\n",
        "    POSITIVE = \"positive\"\n",
        "    NEUTRAL = \"neutral\"\n",
        "    NEGATIVE = \"negative\"\n",
        "\n",
        "\n",
        "model = genai.GenerativeModel(\n",
        "    'gemini-1.5-flash-001',\n",
        "    generation_config=genai.GenerationConfig(\n",
        "        response_mime_type=\"text/x.enum\",\n",
        "        response_schema=Sentiment\n",
        "    ))\n",
        "\n",
        "response = model.generate_content(zero_shot_prompt, request_options=retry_policy)\n",
        "print(response.text)"
      ],
      "metadata": {
        "id": "ad118a56c598",
        "execution": {
          "iopub.status.busy": "2024-11-14T20:46:19.025565Z",
          "iopub.execute_input": "2024-11-14T20:46:19.025981Z",
          "iopub.status.idle": "2024-11-14T20:46:20.427925Z",
          "shell.execute_reply.started": "2024-11-14T20:46:19.025939Z",
          "shell.execute_reply": "2024-11-14T20:46:20.426864Z"
        },
        "trusted": true,
        "outputId": "bde3615d-6393-4977-f725-a9e5cd3db425"
      },
      "execution_count": null,
      "outputs": [
        {
          "name": "stdout",
          "text": "positive\n",
          "output_type": "stream"
        }
      ]
    },
    {
      "cell_type": "markdown",
      "source": [
        "### One-shot and few-shot\n",
        "\n",
        "Providing an example of the expected response is known as a \"one-shot\" prompt. When you provide multiple examples, it is a \"few-shot\" prompt.\n",
        "\n",
        "<table align=left>\n",
        "  <td>\n",
        "    <a target=\"_blank\" href=\"https://aistudio.google.com/prompts/1jjWkjUSoMXmLvMJ7IzADr_GxHPJVV2bg\"><img src=\"https://ai.google.dev/site-assets/images/marketing/home/icon-ais.png\" style=\"height: 24px\" height=24/> Open in AI Studio</a>\n",
        "  </td>\n",
        "</table>\n"
      ],
      "metadata": {
        "id": "0udiSwNbv45W"
      }
    },
    {
      "cell_type": "code",
      "source": [
        "model = genai.GenerativeModel(\n",
        "    'gemini-1.5-flash-latest',\n",
        "    generation_config=genai.GenerationConfig(\n",
        "        temperature=0.1,\n",
        "        top_p=1,\n",
        "        max_output_tokens=250,\n",
        "    ))\n",
        "\n",
        "few_shot_prompt = \"\"\"Parse a customer's pizza order into valid JSON:\n",
        "\n",
        "EXAMPLE:\n",
        "I want a small pizza with cheese, tomato sauce, and pepperoni.\n",
        "JSON Response:\n",
        "```\n",
        "{\n",
        "\"size\": \"small\",\n",
        "\"type\": \"normal\",\n",
        "\"ingredients\": [\"cheese\", \"tomato sauce\", \"peperoni\"]\n",
        "}\n",
        "```\n",
        "\n",
        "EXAMPLE:\n",
        "Can I get a large pizza with tomato sauce, basil and mozzarella\n",
        "JSON Response:\n",
        "```\n",
        "{\n",
        "\"size\": \"large\",\n",
        "\"type\": \"normal\",\n",
        "\"ingredients\": [\"tomato sauce\", \"basil\", \"mozzarella\"]\n",
        "}\n",
        "\n",
        "ORDER:\n",
        "\"\"\"\n",
        "\n",
        "customer_order = \"Give me a large with cheese & pineapple\"\n",
        "\n",
        "\n",
        "response = model.generate_content([few_shot_prompt, customer_order], request_options=retry_policy)\n",
        "print(response.text)"
      ],
      "metadata": {
        "id": "hd4mVUukwOKZ",
        "execution": {
          "iopub.status.busy": "2024-11-14T20:51:18.49079Z",
          "iopub.execute_input": "2024-11-14T20:51:18.491239Z",
          "iopub.status.idle": "2024-11-14T20:51:19.052701Z",
          "shell.execute_reply.started": "2024-11-14T20:51:18.491199Z",
          "shell.execute_reply": "2024-11-14T20:51:19.051632Z"
        },
        "trusted": true,
        "outputId": "45a32470-ee8d-4a99-826f-b279546a1d6b"
      },
      "execution_count": null,
      "outputs": [
        {
          "name": "stdout",
          "text": "```json\n{\n\"size\": \"large\",\n\"type\": \"normal\",\n\"ingredients\": [\"cheese\", \"pineapple\"]\n}\n``` \n\n",
          "output_type": "stream"
        }
      ]
    },
    {
      "cell_type": "code",
      "source": [
        "\n",
        "customer_order = \"Give me a medium with fruits & meat\"\n",
        "\n",
        "\n",
        "response = model.generate_content([few_shot_prompt, customer_order], request_options=retry_policy)\n",
        "print(response.text)"
      ],
      "metadata": {
        "execution": {
          "iopub.status.busy": "2024-11-14T20:53:00.079537Z",
          "iopub.execute_input": "2024-11-14T20:53:00.08Z",
          "iopub.status.idle": "2024-11-14T20:53:00.644898Z",
          "shell.execute_reply.started": "2024-11-14T20:53:00.079957Z",
          "shell.execute_reply": "2024-11-14T20:53:00.643713Z"
        },
        "trusted": true,
        "id": "EJ87Crhb2srN",
        "outputId": "76ce2ed2-c209-48dd-e109-358463932a10"
      },
      "execution_count": null,
      "outputs": [
        {
          "name": "stdout",
          "text": "```json\n{\n\"size\": \"medium\",\n\"type\": \"normal\",\n\"ingredients\": [\"fruits\", \"meat\"]\n}\n``` \n\n",
          "output_type": "stream"
        }
      ]
    },
    {
      "cell_type": "markdown",
      "source": [
        "#### JSON mode\n",
        "\n",
        "To provide control over the schema, and to ensure that you only receive JSON (with no other text or markdown), you can use the Gemini API's [JSON mode](https://github.com/google-gemini/cookbook/blob/main/quickstarts/JSON_mode.ipynb). This forces the model to constrain decoding, such that token selection is guided by the supplied schema."
      ],
      "metadata": {
        "id": "021293096f08"
      }
    },
    {
      "cell_type": "code",
      "source": [
        "import typing_extensions as typing\n",
        "\n",
        "class PizzaOrder(typing.TypedDict):\n",
        "    size: str\n",
        "    ingredients: list[str]\n",
        "    type: str\n",
        "\n",
        "\n",
        "model = genai.GenerativeModel(\n",
        "    'gemini-1.5-flash-latest',\n",
        "    generation_config=genai.GenerationConfig(\n",
        "        temperature=0.1,\n",
        "        response_mime_type=\"application/json\",\n",
        "        response_schema=PizzaOrder,\n",
        "    ))\n",
        "\n",
        "response = model.generate_content(\"Can I have a large dessert pizza with apple and chocolate\")\n",
        "print(response.text)"
      ],
      "metadata": {
        "id": "50fbf0260912",
        "execution": {
          "iopub.status.busy": "2024-11-14T20:54:58.735038Z",
          "iopub.execute_input": "2024-11-14T20:54:58.735456Z",
          "iopub.status.idle": "2024-11-14T20:54:59.329692Z",
          "shell.execute_reply.started": "2024-11-14T20:54:58.735419Z",
          "shell.execute_reply": "2024-11-14T20:54:59.328581Z"
        },
        "trusted": true,
        "outputId": "97f63db6-aa87-497d-b2ef-2b650873b364"
      },
      "execution_count": null,
      "outputs": [
        {
          "name": "stdout",
          "text": "{\"ingredients\": [\"apple\", \"chocolate\"], \"size\": \"large\", \"type\": \"dessert\"}\n\n",
          "output_type": "stream"
        }
      ]
    },
    {
      "cell_type": "markdown",
      "source": [
        "### Chain of Thought (CoT)\n",
        "\n",
        "Direct prompting on LLMs can return answers quickly and (in terms of output token usage) efficiently, but they can be prone to hallucination. The answer may \"look\" correct (in terms of language and syntax) but is incorrect in terms of factuality and reasoning.\n",
        "\n",
        "Chain-of-Thought prompting is a technique where you instruct the model to output intermediate reasoning steps, and it typically gets better results, especially when combined with few-shot examples. It is worth noting that this technique doesn't completely eliminate hallucinations, and that it tends to cost more to run, due to the increased token count.\n",
        "\n",
        "As models like the Gemini family are trained to be \"chatty\" and provide reasoning steps, you can ask the model to be more direct in the prompt."
      ],
      "metadata": {
        "id": "4a93e338e57c"
      }
    },
    {
      "cell_type": "code",
      "source": [
        "prompt = \"\"\"When I was 4 years old, my partner was 3 times my age. Now, I\n",
        "am 20 years old. How old is my partner? Return the answer directly.\"\"\"\n",
        "\n",
        "model = genai.GenerativeModel('gemini-1.5-flash-latest')\n",
        "response = model.generate_content(prompt, request_options=retry_policy)\n",
        "\n",
        "print(response.text)"
      ],
      "metadata": {
        "id": "5715555db1c1",
        "execution": {
          "iopub.status.busy": "2024-11-14T21:38:02.370162Z",
          "iopub.execute_input": "2024-11-14T21:38:02.370578Z",
          "iopub.status.idle": "2024-11-14T21:38:02.886541Z",
          "shell.execute_reply.started": "2024-11-14T21:38:02.370521Z",
          "shell.execute_reply": "2024-11-14T21:38:02.885524Z"
        },
        "trusted": true,
        "outputId": "0b69e202-c04b-4810-f42e-fe0f6bf1f4eb"
      },
      "execution_count": null,
      "outputs": [
        {
          "name": "stdout",
          "text": "52 \n\n",
          "output_type": "stream"
        }
      ]
    },
    {
      "cell_type": "markdown",
      "source": [
        "Now try the same approach, but indicate to the model that it should \"think step by step\"."
      ],
      "metadata": {
        "id": "e12b19677bfd"
      }
    },
    {
      "cell_type": "code",
      "source": [
        "prompt = \"\"\"When I was 4 years old, my partner was 3 times my age. Now,\n",
        "I am 20 years old. How old is my partner? Let's think step by step.\"\"\"\n",
        "\n",
        "response = model.generate_content(prompt, request_options=retry_policy)\n",
        "print(response.text)"
      ],
      "metadata": {
        "id": "ffd7536a481f",
        "execution": {
          "iopub.status.busy": "2024-11-14T21:37:15.926853Z",
          "iopub.execute_input": "2024-11-14T21:37:15.927896Z",
          "iopub.status.idle": "2024-11-14T21:37:16.8209Z",
          "shell.execute_reply.started": "2024-11-14T21:37:15.927841Z",
          "shell.execute_reply": "2024-11-14T21:37:16.819786Z"
        },
        "trusted": true,
        "outputId": "27136b2e-9084-41bc-fc54-bee4684e5d4d"
      },
      "execution_count": null,
      "outputs": [
        {
          "name": "stdout",
          "text": "Here's how we can solve this:\n\n* **When you were 4, your partner was 3 times your age:**  3 * 4 = 12 years old.\n* **The age difference between you and your partner:** 12 - 4 = 8 years.\n* **Since the age difference remains the same, your partner is 8 years older than you.**\n* **Now that you are 20 years old, your partner is:** 20 + 8 = **28 years old.** \n\n",
          "output_type": "stream"
        }
      ]
    },
    {
      "cell_type": "markdown",
      "source": [
        "### ReAct: Reason and act\n",
        "\n",
        "In this example you will run a ReAct prompt directly in the Gemini API and perform the searching steps yourself. As this prompt follows a well-defined structure, there are frameworks available that wrap the prompt into easier-to-use APIs that make tool calls automatically, such as the LangChain example from the chapter.\n",
        "\n",
        "To try this out with the Wikipedia search engine, check out the [Searching Wikipedia with ReAct](https://github.com/google-gemini/cookbook/blob/main/examples/Search_Wikipedia_using_ReAct.ipynb) cookbook example.\n",
        "\n",
        "\n",
        "> Note: The prompt and in-context examples used here are from [https://github.com/ysymyth/ReAct](https://github.com/ysymyth/ReAct) which is published under a [MIT license](https://opensource.org/licenses/MIT), Copyright (c) 2023 Shunyu Yao.\n",
        "\n",
        "<table align=left>\n",
        "  <td>\n",
        "    <a target=\"_blank\" href=\"https://aistudio.google.com/prompts/18oo63Lwosd-bQ6Ay51uGogB3Wk3H8XMO\"><img src=\"https://ai.google.dev/site-assets/images/marketing/home/icon-ais.png\" style=\"height: 24px\" height=24/> Open in AI Studio</a>\n",
        "  </td>\n",
        "</table>\n"
      ],
      "metadata": {
        "id": "oiLgBQJj0V53"
      }
    },
    {
      "cell_type": "code",
      "source": [
        "model_instructions = \"\"\"\n",
        "Solve a question answering task with interleaving Thought, Action, Observation steps. Thought can reason about the current situation,\n",
        "Observation is understanding relevant information from an Action's output and Action can be one of three types:\n",
        " (1) <search>entity</search>, which searches the exact entity on Wikipedia and returns the first paragraph if it exists. If not, it\n",
        "     will return some similar entities to search and you can try to search the information from those topics.\n",
        " (2) <lookup>keyword</lookup>, which returns the next sentence containing keyword in the current context. This only does exact matches,\n",
        "     so keep your searches short.\n",
        " (3) <finish>answer</finish>, which returns the answer and finishes the task.\n",
        "\"\"\"\n",
        "\n",
        "example1 = \"\"\"Question\n",
        "Musician and satirist Allie Goertz wrote a song about the \"The Simpsons\" character Milhouse, who Matt Groening named after who?\n",
        "\n",
        "Thought 1\n",
        "The question simplifies to \"The Simpsons\" character Milhouse is named after who. I only need to search Milhouse and find who it is named after.\n",
        "\n",
        "Action 1\n",
        "<search>Milhouse</search>\n",
        "\n",
        "Observation 1\n",
        "Milhouse Mussolini Van Houten is a recurring character in the Fox animated television series The Simpsons voiced by Pamela Hayden and created by Matt Groening.\n",
        "\n",
        "Thought 2\n",
        "The paragraph does not tell who Milhouse is named after, maybe I can look up \"named after\".\n",
        "\n",
        "Action 2\n",
        "<lookup>named after</lookup>\n",
        "\n",
        "Observation 2\n",
        "Milhouse was named after U.S. president Richard Nixon, whose middle name was Milhous.\n",
        "\n",
        "Thought 3\n",
        "Milhouse was named after U.S. president Richard Nixon, so the answer is Richard Nixon.\n",
        "\n",
        "Action 3\n",
        "<finish>Richard Nixon</finish>\n",
        "\"\"\"\n",
        "\n",
        "example2 = \"\"\"Question\n",
        "What is the elevation range for the area that the eastern sector of the Colorado orogeny extends into?\n",
        "\n",
        "Thought 1\n",
        "I need to search Colorado orogeny, find the area that the eastern sector of the Colorado orogeny extends into, then find the elevation range of the area.\n",
        "\n",
        "Action 1\n",
        "<search>Colorado orogeny</search>\n",
        "\n",
        "Observation 1\n",
        "The Colorado orogeny was an episode of mountain building (an orogeny) in Colorado and surrounding areas.\n",
        "\n",
        "Thought 2\n",
        "It does not mention the eastern sector. So I need to look up eastern sector.\n",
        "\n",
        "Action 2\n",
        "<lookup>eastern sector</lookup>\n",
        "\n",
        "Observation 2\n",
        "The eastern sector extends into the High Plains and is called the Central Plains orogeny.\n",
        "\n",
        "Thought 3\n",
        "The eastern sector of Colorado orogeny extends into the High Plains. So I need to search High Plains and find its elevation range.\n",
        "\n",
        "Action 3\n",
        "<search>High Plains</search>\n",
        "\n",
        "Observation 3\n",
        "High Plains refers to one of two distinct land regions\n",
        "\n",
        "Thought 4\n",
        "I need to instead search High Plains (United States).\n",
        "\n",
        "Action 4\n",
        "<search>High Plains (United States)</search>\n",
        "\n",
        "Observation 4\n",
        "The High Plains are a subregion of the Great Plains. From east to west, the High Plains rise in elevation from around 1,800 to 7,000 ft (550 to 2,130m).\n",
        "\n",
        "Thought 5\n",
        "High Plains rise in elevation from around 1,800 to 7,000 ft, so the answer is 1,800 to 7,000 ft.\n",
        "\n",
        "Action 5\n",
        "<finish>1,800 to 7,000 ft</finish>\n",
        "\"\"\"\n",
        "\n",
        "# Come up with more examples yourself, or take a look through https://github.com/ysymyth/ReAct/"
      ],
      "metadata": {
        "id": "cBgyNJ5z0VSs",
        "execution": {
          "iopub.status.busy": "2024-11-14T21:47:54.243924Z",
          "iopub.execute_input": "2024-11-14T21:47:54.244307Z",
          "iopub.status.idle": "2024-11-14T21:47:54.250921Z",
          "shell.execute_reply.started": "2024-11-14T21:47:54.244271Z",
          "shell.execute_reply": "2024-11-14T21:47:54.24985Z"
        },
        "trusted": true
      },
      "execution_count": null,
      "outputs": []
    },
    {
      "cell_type": "markdown",
      "source": [
        "To capture a single step at a time, while ignoring any hallucinated Observation steps, you will use `stop_sequences` to end the generation process. The steps are `Thought`, `Action`, `Observation`, in that order."
      ],
      "metadata": {
        "id": "C3wbfstjTgey"
      }
    },
    {
      "cell_type": "code",
      "source": [
        "question = \"\"\"Question\n",
        "Who was the youngest author listed on the transformers NLP paper?\n",
        "\"\"\"\n",
        "\n",
        "model = genai.GenerativeModel('gemini-1.5-flash-latest')\n",
        "react_chat = model.start_chat()\n",
        "\n",
        "# You will perform the Action, so generate up to, but not including, the Observation.\n",
        "config = genai.GenerationConfig(stop_sequences=[\"\\nObservation\"])\n",
        "\n",
        "resp = react_chat.send_message(\n",
        "    [model_instructions, example1, example2, question],\n",
        "    generation_config=config,\n",
        "    request_options=retry_policy)\n",
        "print(resp.text)"
      ],
      "metadata": {
        "id": "8mxrXRkRTdXm",
        "execution": {
          "iopub.status.busy": "2024-11-14T21:53:22.358931Z",
          "iopub.execute_input": "2024-11-14T21:53:22.359357Z",
          "iopub.status.idle": "2024-11-14T21:53:25.855589Z",
          "shell.execute_reply.started": "2024-11-14T21:53:22.359319Z",
          "shell.execute_reply": "2024-11-14T21:53:25.854522Z"
        },
        "trusted": true,
        "outputId": "7659ac29-3ff5-4968-b01a-f83c113466a8"
      },
      "execution_count": null,
      "outputs": [
        {
          "name": "stdout",
          "text": "Thought 1\nI need to find the Transformers NLP paper and then look for the authors.\n\nAction 1\n<search>Transformers NLP paper</search>\n\n",
          "output_type": "stream"
        }
      ]
    },
    {
      "cell_type": "markdown",
      "source": [
        "Now you can perform this research yourself and supply it back to the model."
      ],
      "metadata": {
        "id": "aW2PIdLbVv3l"
      }
    },
    {
      "cell_type": "code",
      "source": [
        "observation = \"\"\"Observation 1\n",
        "[1706.03762] Attention Is All You Need\n",
        "Ashish Vaswani, Noam Shazeer, Niki Parmar, Jakob Uszkoreit, Llion Jones, Aidan N. Gomez, Lukasz Kaiser, Illia Polosukhin\n",
        "We propose a new simple network architecture, the Transformer, based solely on attention mechanisms, dispensing with recurrence and convolutions entirely.\n",
        "\"\"\"\n",
        "resp = react_chat.send_message(observation, generation_config=config, request_options=retry_policy)\n",
        "print(resp.text)"
      ],
      "metadata": {
        "id": "mLMc0DZaV9g2",
        "execution": {
          "iopub.status.idle": "2024-11-14T21:55:20.191964Z",
          "shell.execute_reply.started": "2024-11-14T21:55:18.90838Z",
          "shell.execute_reply": "2024-11-14T21:55:20.190842Z"
        },
        "trusted": true,
        "outputId": "3bfe91b2-3c3d-4ffc-bd15-e159a9d29fb3"
      },
      "execution_count": null,
      "outputs": [
        {
          "name": "stdout",
          "text": "Thought 2\nThe Observation lists the authors, I need to figure out which one is the youngest.\n\nAction 2\n<finish>It's impossible to determine the youngest author from the provided information.  The paper lists the authors but does not mention their ages.</finish> \n\n",
          "output_type": "stream"
        }
      ]
    },
    {
      "cell_type": "markdown",
      "source": [
        "This process repeats until the `<finish>` action is reached. You can continue running this yourself if you like, or try the [Wikipedia example](https://github.com/google-gemini/cookbook/blob/main/examples/Search_Wikipedia_using_ReAct.ipynb) to see a fully automated ReAct system at work."
      ],
      "metadata": {
        "id": "bo0tzf4nX6dA"
      }
    },
    {
      "cell_type": "markdown",
      "source": [
        "## Code prompting"
      ],
      "metadata": {
        "id": "jPiZ_eIIaVPt"
      }
    },
    {
      "cell_type": "markdown",
      "source": [
        "### Generating code\n",
        "\n",
        "The Gemini family of models can be used to generate code, configuration and scripts. Generating code can be helpful when learning to code, learning a new language or for rapidly generating a first draft.\n",
        "\n",
        "It's important to be aware that since LLMs can't reason, and can repeat training data, it's essential to read and test your code first, and comply with any relevant licenses.\n",
        "\n",
        "<table align=left>\n",
        "  <td>\n",
        "    <a target=\"_blank\" href=\"https://aistudio.google.com/prompts/1YX71JGtzDjXQkgdes8bP6i3oH5lCRKxv\"><img src=\"https://ai.google.dev/site-assets/images/marketing/home/icon-ais.png\" style=\"height: 24px\" height=24/> Open in AI Studio</a>\n",
        "  </td>\n",
        "</table>"
      ],
      "metadata": {
        "id": "ZinKamwXeR6C"
      }
    },
    {
      "cell_type": "code",
      "source": [
        "model = genai.GenerativeModel(\n",
        "    'gemini-1.5-flash-latest',\n",
        "    generation_config=genai.GenerationConfig(\n",
        "        temperature=1,\n",
        "        top_p=1,\n",
        "        max_output_tokens=1024,\n",
        "    ))\n",
        "\n",
        "# Gemini 1.5 models are very chatty, so it helps to specify they stick to the code.\n",
        "code_prompt = \"\"\"\n",
        "Write a Python function to calculate the factorial of a number. No explanation, provide only the code.\n",
        "\"\"\"\n",
        "\n",
        "response = model.generate_content(code_prompt, request_options=retry_policy)\n",
        "Markdown(response.text)"
      ],
      "metadata": {
        "id": "fOQP9pqmeUO1",
        "execution": {
          "iopub.status.busy": "2024-11-14T22:04:27.899596Z",
          "iopub.execute_input": "2024-11-14T22:04:27.900134Z",
          "iopub.status.idle": "2024-11-14T22:04:29.058227Z",
          "shell.execute_reply.started": "2024-11-14T22:04:27.900091Z",
          "shell.execute_reply": "2024-11-14T22:04:29.05709Z"
        },
        "trusted": true,
        "outputId": "f1cece98-eead-453f-fe5f-b6e510c55b62"
      },
      "execution_count": null,
      "outputs": [
        {
          "execution_count": 47,
          "output_type": "execute_result",
          "data": {
            "text/plain": "<IPython.core.display.Markdown object>",
            "text/markdown": "```python\ndef factorial(n):\n  if n == 0:\n    return 1\n  else:\n    return n * factorial(n-1)\n```"
          },
          "metadata": {}
        }
      ]
    },
    {
      "cell_type": "code",
      "source": [
        "code_prompt = \"\"\"\n",
        "Write a Python function to calculate the GCF of numbers. No explanation, provide only the code.\n",
        "\"\"\"\n",
        "\n",
        "response = model.generate_content(code_prompt, request_options=retry_policy)\n",
        "Markdown(response.text)"
      ],
      "metadata": {
        "execution": {
          "iopub.status.busy": "2024-11-14T22:09:18.466674Z",
          "iopub.execute_input": "2024-11-14T22:09:18.467447Z",
          "iopub.status.idle": "2024-11-14T22:09:19.018179Z",
          "shell.execute_reply.started": "2024-11-14T22:09:18.467408Z",
          "shell.execute_reply": "2024-11-14T22:09:19.017329Z"
        },
        "trusted": true,
        "id": "e2erE38b2srP",
        "outputId": "dc885c10-8be7-4e1b-bdaa-69bd557b4d55"
      },
      "execution_count": null,
      "outputs": [
        {
          "execution_count": 63,
          "output_type": "execute_result",
          "data": {
            "text/plain": "<IPython.core.display.Markdown object>",
            "text/markdown": "```python\ndef GCF(a, b):\n    while b:\n        a, b = b, a % b\n    return a\n```"
          },
          "metadata": {}
        }
      ]
    },
    {
      "cell_type": "markdown",
      "source": [
        "### Code execution\n",
        "\n",
        "The Gemini API can automatically run generated code too, and will return the output.\n",
        "\n",
        "<table align=left>\n",
        "  <td>\n",
        "    <a target=\"_blank\" href=\"https://aistudio.google.com/prompts/11veFr_VYEwBWcLkhNLr-maCG0G8sS_7Z\"><img src=\"https://ai.google.dev/site-assets/images/marketing/home/icon-ais.png\" style=\"height: 24px\" height=24/> Open in AI Studio</a>\n",
        "  </td>\n",
        "</table>"
      ],
      "metadata": {
        "id": "wlBMWSFhgVRQ"
      }
    },
    {
      "cell_type": "code",
      "source": [
        "model = genai.GenerativeModel(\n",
        "    'gemini-1.5-flash-latest',\n",
        "    tools='code_execution',)\n",
        "\n",
        "code_exec_prompt = \"\"\"\n",
        "Calculate the sum of the first 14 prime numbers. Only consider the odd primes, and make sure you count them all.\n",
        "\"\"\"\n",
        "\n",
        "response = model.generate_content(code_exec_prompt, request_options=retry_policy)\n",
        "Markdown(response.text)"
      ],
      "metadata": {
        "id": "jT3OfWYfhjRL",
        "execution": {
          "iopub.status.busy": "2024-11-14T22:10:15.436147Z",
          "iopub.execute_input": "2024-11-14T22:10:15.436518Z",
          "iopub.status.idle": "2024-11-14T22:10:18.249791Z",
          "shell.execute_reply.started": "2024-11-14T22:10:15.436484Z",
          "shell.execute_reply": "2024-11-14T22:10:18.2486Z"
        },
        "trusted": true,
        "outputId": "9da13c3f-4a51-44ac-8e74-1d687274b50d"
      },
      "execution_count": null,
      "outputs": [
        {
          "execution_count": 64,
          "output_type": "execute_result",
          "data": {
            "text/plain": "<IPython.core.display.Markdown object>",
            "text/markdown": "I understand. You want me to calculate the sum of the first 14 odd prime numbers. \n\nLet's first define what a prime number is:\n\n* A prime number is a natural number greater than 1 that is not a product of two smaller natural numbers.\n\nNow, let's find the first 14 odd prime numbers:\n\n2, 3, 5, 7, 11, 13, 17, 19, 23, 29, 31, 37, 41, 43\n\nFinally, let's calculate their sum:\n\n2 + 3 + 5 + 7 + 11 + 13 + 17 + 19 + 23 + 29 + 31 + 37 + 41 + 43 = **280**\n\nTherefore, the sum of the first 14 odd prime numbers is **280**. \n"
          },
          "metadata": {}
        }
      ]
    },
    {
      "cell_type": "code",
      "source": [
        "code_exec_prompt = \"\"\"\n",
        "Calculate the sum of the first 10 odd numbers. Only consider the odd numbers, and make sure you count them all.\n",
        "\"\"\"\n",
        "\n",
        "response = model.generate_content(code_exec_prompt, request_options=retry_policy)\n",
        "Markdown(response.text)"
      ],
      "metadata": {
        "execution": {
          "iopub.status.busy": "2024-11-14T22:12:10.238643Z",
          "iopub.execute_input": "2024-11-14T22:12:10.239072Z",
          "iopub.status.idle": "2024-11-14T22:12:18.513297Z",
          "shell.execute_reply.started": "2024-11-14T22:12:10.23903Z",
          "shell.execute_reply": "2024-11-14T22:12:18.512298Z"
        },
        "trusted": true,
        "id": "GS1kCAYD2srQ",
        "outputId": "7e68ca81-900b-4f91-d6cc-07cd242f03c0"
      },
      "execution_count": null,
      "outputs": [
        {
          "execution_count": 65,
          "output_type": "execute_result",
          "data": {
            "text/plain": "<IPython.core.display.Markdown object>",
            "text/markdown": "The sum of the first 10 odd numbers can be calculated directly. \n\nHere's the solution:\n\n1.  The first 10 odd numbers are: 1, 3, 5, 7, 9, 11, 13, 15, 17, 19.\n2.  Adding these numbers together, we get: 1 + 3 + 5 + 7 + 9 + 11 + 13 + 15 + 17 + 19 = 100\n\nTherefore, the sum of the first 10 odd numbers is **100**. \n"
          },
          "metadata": {}
        }
      ]
    },
    {
      "cell_type": "markdown",
      "source": [
        "While this looks like a single-part response, you can inspect the response to see the each of the steps: initial text, code generation, execution results, and final text summary."
      ],
      "metadata": {
        "id": "ZspT1GSkjG6d"
      }
    },
    {
      "cell_type": "code",
      "source": [
        "for part in response.candidates[0].content.parts:\n",
        "  print(part)\n",
        "  print(\"-----\")"
      ],
      "metadata": {
        "id": "j4gQVzcRjRX-",
        "execution": {
          "iopub.status.busy": "2024-11-14T22:13:36.103371Z",
          "iopub.execute_input": "2024-11-14T22:13:36.104208Z",
          "iopub.status.idle": "2024-11-14T22:13:36.109737Z",
          "shell.execute_reply.started": "2024-11-14T22:13:36.10416Z",
          "shell.execute_reply": "2024-11-14T22:13:36.108587Z"
        },
        "trusted": true,
        "outputId": "1afe23e4-e1e0-424c-9e99-f475d85fcf1c"
      },
      "execution_count": null,
      "outputs": [
        {
          "name": "stdout",
          "text": "text: \"The sum of the first 10 odd numbers can be calculated directly. \\n\\nHere\\'s the solution:\\n\\n1.  The first 10 odd numbers are: 1, 3, 5, 7, 9, 11, 13, 15, 17, 19.\\n2.  Adding these numbers together, we get: 1 + 3 + 5 + 7 + 9 + 11 + 13 + 15 + 17 + 19 = 100\\n\\nTherefore, the sum of the first 10 odd numbers is **100**. \\n\"\n\n-----\n",
          "output_type": "stream"
        }
      ]
    },
    {
      "cell_type": "markdown",
      "source": [
        "### Explaining code\n",
        "\n",
        "The Gemini family of models can explain code to you too.\n",
        "\n",
        "<table align=left>\n",
        "  <td>\n",
        "    <a target=\"_blank\" href=\"https://aistudio.google.com/prompts/1N7LGzWzCYieyOf_7bAG4plrmkpDNmUyb\"><img src=\"https://ai.google.dev/site-assets/images/marketing/home/icon-ais.png\" style=\"height: 24px\" height=24/> Open in AI Studio</a>\n",
        "  </td>\n",
        "</table>"
      ],
      "metadata": {
        "id": "1gUX8QzCj4d5"
      }
    },
    {
      "cell_type": "code",
      "source": [
        "file_contents = !curl https://raw.githubusercontent.com/magicmonty/bash-git-prompt/refs/heads/master/gitprompt.sh\n",
        "\n",
        "explain_prompt = f\"\"\"\n",
        "Please explain what this file does at a very high level. What is it, and why would I use it?\n",
        "\n",
        "```\n",
        "{file_contents}\n",
        "```\n",
        "\"\"\"\n",
        "\n",
        "model = genai.GenerativeModel('gemini-1.5-flash-latest')\n",
        "\n",
        "response = model.generate_content(explain_prompt, request_options=retry_policy)\n",
        "Markdown(response.text)"
      ],
      "metadata": {
        "id": "7_jPMMoxkIEb",
        "execution": {
          "iopub.status.busy": "2024-11-14T22:17:28.756442Z",
          "iopub.execute_input": "2024-11-14T22:17:28.757396Z",
          "iopub.status.idle": "2024-11-14T22:17:32.432845Z",
          "shell.execute_reply.started": "2024-11-14T22:17:28.757352Z",
          "shell.execute_reply": "2024-11-14T22:17:32.431798Z"
        },
        "trusted": true,
        "outputId": "1c19692d-099b-4e50-e645-78bd78c0a40f"
      },
      "execution_count": null,
      "outputs": [
        {
          "execution_count": 67,
          "output_type": "execute_result",
          "data": {
            "text/plain": "<IPython.core.display.Markdown object>",
            "text/markdown": "This file is a Bash script that enhances your command line prompt to display Git repository information.  Let's break down its purpose and usage:\n\n**What it is:**\n\n* **Bash Git Prompt:** This script provides a customizable prompt that integrates with your Git repository. \n* **Color and Styling:** It allows you to customize the appearance of your prompt with colors, symbols, and different visual elements to represent Git status.\n* **Status Information:**  The prompt displays information like:\n    * Current branch name\n    * Whether you are ahead or behind your remote tracking branch\n    * The number of staged, changed, untracked, and conflicted files\n    * Whether you have uncommitted changes or a stashed state\n\n**Why use it:**\n\n* **Improved Git Awareness:**  It helps you quickly understand the current state of your Git repository without needing to run `git status`.\n* **Enhanced Productivity:**  The visual cues can improve your workflow by making it easier to identify potential issues or changes in your repository.\n* **Customization:**  You can tailor the prompt to your preferences with a wide range of options.\n* **Integration with virtual environments:**  The script can also display information about active virtual environments like Python virtual environments.\n\n**Key features:**\n\n* **Theme Selection:**  It includes several built-in themes (colors and styles) or allows you to create your own custom theme.\n* **Prompt Configuration:**  You can configure various aspects of the prompt, including its appearance, information displayed, and behavior.\n* **Remote Status Checking:**  The script can fetch remote branch information to provide up-to-date status.\n\n**How to use it:**\n\n1. **Obtain the script:** Download the script from its source (likely a repository).\n2. **Place the script:** Copy the script to a location in your PATH (e.g., `~/bin`).\n3. **Source the script:** Add the following line to your `~/.bashrc` file:\n\n   ```bash\n   source /path/to/bash-git-prompt.sh\n   ```\n\n4. **Reload your shell:** Run `source ~/.bashrc` to apply the changes.\n\nNow your command line prompt will display Git information according to your configured settings.\n"
          },
          "metadata": {}
        }
      ]
    },
    {
      "cell_type": "markdown",
      "source": [
        "## Learn more\n",
        "\n",
        "To learn more about prompting in depth:\n",
        "\n",
        "* Check out the whitepaper issued with today's content,\n",
        "* Try out the apps listed at the top of this notebook ([TextFX](https://textfx.withgoogle.com/), [SQL Talk](https://sql-talk-r5gdynozbq-uc.a.run.app/) and [NotebookLM](https://notebooklm.google/)),\n",
        "* Read the [Introduction to Prompting](https://ai.google.dev/gemini-api/docs/prompting-intro) from the Gemini API docs,\n",
        "* Explore the Gemini API's [prompt gallery](https://ai.google.dev/gemini-api/prompts) and try them out in AI Studio,\n",
        "* Check out the Gemini API cookbook for [inspirational examples](https://github.com/google-gemini/cookbook/blob/main/examples/) and [educational quickstarts](https://github.com/google-gemini/cookbook/blob/main/quickstarts/).\n",
        "\n",
        "And please share anything exciting you have tried in the Discord!"
      ],
      "metadata": {
        "id": "2a8266d97ce5"
      }
    }
  ]
}